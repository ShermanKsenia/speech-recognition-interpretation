{
  "nbformat": 4,
  "nbformat_minor": 0,
  "metadata": {
    "colab": {
      "name": "phonemes.ipynb",
      "provenance": [],
      "collapsed_sections": []
    },
    "kernelspec": {
      "name": "python3",
      "display_name": "Python 3"
    },
    "language_info": {
      "name": "python"
    }
  },
  "cells": [
    {
      "cell_type": "code",
      "execution_count": 1,
      "metadata": {
        "id": "EkUzqHDFeBmZ"
      },
      "outputs": [],
      "source": [
        "!pip install -q transformers"
      ]
    },
    {
      "cell_type": "code",
      "execution_count": 2,
      "metadata": {
        "id": "Tczoi4siSre1"
      },
      "outputs": [],
      "source": [
        "!pip install -q datasets"
      ]
    },
    {
      "cell_type": "code",
      "execution_count": 3,
      "metadata": {
        "id": "Cpxi2dOb6cs1"
      },
      "outputs": [],
      "source": [
        "!pip install -q huggingface_hub"
      ]
    },
    {
      "cell_type": "code",
      "execution_count": 4,
      "metadata": {
        "id": "2A9Q0egiFVPY",
        "colab": {
          "base_uri": "https://localhost:8080/"
        },
        "outputId": "fb7e8adc-0581-4a95-f5a8-f04f8d2bc61a"
      },
      "outputs": [
        {
          "output_type": "stream",
          "name": "stdout",
          "text": [
            "\u001b[31mERROR: XMLRPC request failed [code: -32500]\n",
            "RuntimeError: PyPI's XMLRPC API is currently disabled due to unmanageable load and will be deprecated in the near future. See https://status.python.org/ for more information.\u001b[0m\n",
            "Looking in indexes: https://pypi.org/simple, https://us-python.pkg.dev/colab-wheels/public/simple/\n",
            "Requirement already satisfied: py-espeak-ng in /usr/local/lib/python3.7/dist-packages (0.1.8)\n",
            "Reading package lists... Done\n",
            "Building dependency tree       \n",
            "Reading state information... Done\n",
            "python-espeak is already the newest version (0.5-1build5).\n",
            "The following package was automatically installed and is no longer required:\n",
            "  libnvidia-common-460\n",
            "Use 'sudo apt autoremove' to remove it.\n",
            "0 upgraded, 0 newly installed, 0 to remove and 56 not upgraded.\n",
            "Hit:1 http://security.ubuntu.com/ubuntu bionic-security InRelease\n",
            "Hit:2 https://cloud.r-project.org/bin/linux/ubuntu bionic-cran40/ InRelease\n",
            "Hit:3 https://developer.download.nvidia.com/compute/cuda/repos/ubuntu1804/x86_64  InRelease\n",
            "Hit:4 http://ppa.launchpad.net/c2d4u.team/c2d4u4.0+/ubuntu bionic InRelease\n",
            "Hit:5 http://archive.ubuntu.com/ubuntu bionic InRelease\n",
            "Ign:6 https://developer.download.nvidia.com/compute/machine-learning/repos/ubuntu1804/x86_64  InRelease\n",
            "Hit:7 http://archive.ubuntu.com/ubuntu bionic-updates InRelease\n",
            "Hit:8 https://developer.download.nvidia.com/compute/machine-learning/repos/ubuntu1804/x86_64  Release\n",
            "Hit:9 http://ppa.launchpad.net/cran/libgit2/ubuntu bionic InRelease\n",
            "Hit:10 http://archive.ubuntu.com/ubuntu bionic-backports InRelease\n",
            "Hit:11 http://ppa.launchpad.net/deadsnakes/ppa/ubuntu bionic InRelease\n",
            "Hit:12 http://ppa.launchpad.net/graphics-drivers/ppa/ubuntu bionic InRelease\n",
            "Reading package lists... Done\n",
            "Reading package lists... Done\n",
            "Building dependency tree       \n",
            "Reading state information... Done\n",
            "espeak is already the newest version (1.48.04+dfsg-5).\n",
            "The following package was automatically installed and is no longer required:\n",
            "  libnvidia-common-460\n",
            "Use 'sudo apt autoremove' to remove it.\n",
            "0 upgraded, 0 newly installed, 0 to remove and 56 not upgraded.\n"
          ]
        }
      ],
      "source": [
        "!pip search espeak\n",
        "!pip install py-espeak-ng\n",
        "!sudo apt-get install python-espeak\n",
        "!sudo apt-get update && sudo apt-get install espeak"
      ]
    },
    {
      "cell_type": "code",
      "execution_count": 5,
      "metadata": {
        "id": "ut0JOrxtFYCY"
      },
      "outputs": [],
      "source": [
        "!pip install -q phonemizer"
      ]
    },
    {
      "cell_type": "code",
      "execution_count": 6,
      "metadata": {
        "id": "qbYMcvjBy6fb"
      },
      "outputs": [],
      "source": [
        "import soundfile as sf\n",
        "import json\n",
        "import torch\n",
        "import numpy as np\n",
        "import matplotlib.pyplot as plt\n",
        "import re\n",
        "import zipfile\n",
        "import pandas as pd\n",
        "import phonemizer\n",
        "import random\n",
        "import spacy\n",
        "import nltk\n",
        "from nltk.stem import WordNetLemmatizer\n",
        "from tqdm import tqdm\n",
        "from huggingface_hub import hf_hub_download\n",
        "from datasets import load_dataset\n",
        "from transformers import Wav2Vec2ForCTC, Wav2Vec2Processor, Wav2Vec2Tokenizer, Wav2Vec2Config\n",
        "from sklearn.linear_model import LogisticRegression\n",
        "from sklearn.model_selection import train_test_split\n",
        "from imblearn.under_sampling import RandomUnderSampler\n",
        "from collections import Counter, defaultdict\n",
        "from sklearn.metrics import accuracy_score"
      ]
    },
    {
      "cell_type": "code",
      "source": [
        "nltk.download('wordnet')"
      ],
      "metadata": {
        "colab": {
          "base_uri": "https://localhost:8080/"
        },
        "id": "_UHq-i3233Im",
        "outputId": "3e8ed8f3-c4fa-488a-a1ec-f0fcadec24a5"
      },
      "execution_count": 7,
      "outputs": [
        {
          "output_type": "stream",
          "name": "stdout",
          "text": [
            "[nltk_data] Downloading package wordnet to /root/nltk_data...\n",
            "[nltk_data]   Package wordnet is already up-to-date!\n"
          ]
        },
        {
          "output_type": "execute_result",
          "data": {
            "text/plain": [
              "True"
            ]
          },
          "metadata": {},
          "execution_count": 7
        }
      ]
    },
    {
      "cell_type": "code",
      "execution_count": 8,
      "metadata": {
        "id": "W59i3uDsqTfs"
      },
      "outputs": [],
      "source": [
        "config = Wav2Vec2Config.from_pretrained(\"facebook/wav2vec2-xlsr-53-espeak-cv-ft\", output_hidden_states=True)\n",
        "model = Wav2Vec2ForCTC.from_pretrained(\"facebook/wav2vec2-xlsr-53-espeak-cv-ft\", config=config)\n",
        "processor = Wav2Vec2Processor.from_pretrained(\"facebook/wav2vec2-xlsr-53-espeak-cv-ft\")"
      ]
    },
    {
      "cell_type": "markdown",
      "source": [
        "### Первый этап: сбор данных"
      ],
      "metadata": {
        "id": "D7myg3h6hsmP"
      }
    },
    {
      "cell_type": "markdown",
      "source": [
        "В датасете TIMIT для каждой аудиозаписи можно найти ещё три файла: \n",
        "- .phn - файл, в котором на каждой строке выписаны начало и конец произнесения звука и сам звук\n",
        "- .wrd - файл, в котором на каждой строке выписаны начало и конец произнесения слова и само слово\n",
        "- .wav - файл аудиозаписи"
      ],
      "metadata": {
        "id": "YLJh12KYiAXe"
      }
    },
    {
      "cell_type": "code",
      "source": [
        "# importing necessary modules\n",
        "import requests, zipfile\n",
        "from io import BytesIO\n",
        "print('Downloading started')\n",
        "\n",
        "#Defining the zip file URL\n",
        "url = 'https://data.deepai.org/timit.zip'\n",
        "\n",
        "# Split URL to get the file name\n",
        "filename = url.split('/')[-1]\n",
        "\n",
        "# Downloading the file by sending the request to the URL\n",
        "req = requests.get(url)\n",
        "print('Downloading Completed')\n",
        "\n",
        "# extracting the zip file contents\n",
        "my_zipfile= zipfile.ZipFile(BytesIO(req.content))\n",
        "#zipfile.extractall()"
      ],
      "metadata": {
        "id": "SahiUqNKelpB",
        "colab": {
          "base_uri": "https://localhost:8080/"
        },
        "outputId": "1123563d-e979-485b-aefe-4f9d77a6d611"
      },
      "execution_count": 9,
      "outputs": [
        {
          "output_type": "stream",
          "name": "stdout",
          "text": [
            "Downloading started\n",
            "Downloading Completed\n"
          ]
        }
      ]
    },
    {
      "cell_type": "code",
      "source": [
        "needed_files = [file for file in my_zipfile.namelist() if file.endswith('.wav')]"
      ],
      "metadata": {
        "id": "tjBtFoVonPjA"
      },
      "execution_count": 10,
      "outputs": []
    },
    {
      "cell_type": "markdown",
      "source": [
        "В переменной *vocab* хранится словарь, где каждому звуку соответствует его индекс в векторе. Так как для дальнейшей работы удобнее сделать так, чтобы ключом был индекс, а значением звук, что сохранено в переменной *convenient_vocab*."
      ],
      "metadata": {
        "id": "LEjmDTQB0NOJ"
      }
    },
    {
      "cell_type": "code",
      "source": [
        "_file = hf_hub_download(repo_id=\"facebook/wav2vec2-xlsr-53-espeak-cv-ft\", filename=\"vocab.json\")\n",
        "with open(_file, 'r') as f:\n",
        "  vocab = json.loads(f.read())"
      ],
      "metadata": {
        "id": "96ePHllp83mW"
      },
      "execution_count": 11,
      "outputs": []
    },
    {
      "cell_type": "code",
      "execution_count": 12,
      "metadata": {
        "id": "aDR6ttar7tsC"
      },
      "outputs": [],
      "source": [
        "convenient_vocab = {}\n",
        "for k, v in vocab.items():\n",
        "  convenient_vocab[v] = k"
      ]
    },
    {
      "cell_type": "markdown",
      "source": [
        "Следующие две функции создают списки, в которых можно найти:\n",
        "1. Начало и конец звучания слова\n",
        "2. Само слово\n",
        "3. Следующее после него слово.\n",
        "\n",
        "Функция *find_s* ищет все слова, которые оканчиваются на букву *s*, не являющейся клитикой посессивности.\n",
        "\n",
        "Функция *find_t* ищет все слова, которые оканчиваются на -ed или имеют звук [t]."
      ],
      "metadata": {
        "id": "duvCCTu-h31q"
      }
    },
    {
      "cell_type": "code",
      "source": [
        "def find_phoneme(filename):\n",
        "  with my_zipfile.open(filename, 'r') as f:\n",
        "    lines = f.readlines()\n",
        "    phonemes_words = []\n",
        "    for i in range(len(lines)-1):\n",
        "      bgn, end, word = lines[i].split() \n",
        "      next_word = lines[i+1].split()[-1].decode(\"utf-8\")\n",
        "      bgn = int(bgn.decode(\"utf-8\"))\n",
        "      end = int(end.decode(\"utf-8\"))\n",
        "      word = word.decode(\"utf-8\")\n",
        "      if word.endswith('s') and \"'\" not in word:\n",
        "        phonemes_words.append([bgn, end, word, next_word])\n",
        "    return phonemes_words"
      ],
      "metadata": {
        "id": "g9o-faIqPCcY"
      },
      "execution_count": 13,
      "outputs": []
    },
    {
      "cell_type": "code",
      "source": [
        "def find_new_phoneme(filename):\n",
        "  with my_zipfile.open(filename, 'r') as f:\n",
        "    lines = f.readlines()\n",
        "    phonemes_words = []\n",
        "    for i in range(len(lines)-1):\n",
        "      bgn, end, word = lines[i].split()\n",
        "      next_word = lines[i+1].split()[-1].decode(\"utf-8\")\n",
        "      bgn = int(bgn.decode(\"utf-8\"))\n",
        "      end = int(end.decode(\"utf-8\"))\n",
        "      word = word.decode(\"utf-8\")\n",
        "      ind = word.find('t')\n",
        "      if ((ind != -1) and (ind != len(word)-1)) or (word.endswith('ed')):\n",
        "        phonemes_words.append([bgn, end, word, next_word])\n",
        "    return phonemes_words"
      ],
      "metadata": {
        "id": "p3eDpdyjm8CL"
      },
      "execution_count": 14,
      "outputs": []
    },
    {
      "cell_type": "markdown",
      "source": [
        "Следующие две ячейки собирают данные для каждого из тестов на фонемы. В каждом из них проверяется, чтобы не происходило частичных ассимиляций по звонкости.\n",
        "\n",
        "Для данных на фонемы /t/ и /d/ идёт проверка на то, чтобы в написании слова не встречались буквы s и t рядом, так как подобное сочетание часто прочитывается так, что влияет на реализацию [t]."
      ],
      "metadata": {
        "id": "iFtdomY9kTt_"
      }
    },
    {
      "cell_type": "code",
      "source": [
        "all_words_arrays = []\n",
        "for filename in tqdm(needed_files):\n",
        "  if '.wav' in filename:\n",
        "    with my_zipfile.open(filename) as f:\n",
        "      audio, sample_rate = sf.read(f)\n",
        "      audio = audio.astype(np.float64)\n",
        "      audio = audio / np.max(np.abs(audio))\n",
        "    wrd_file=filename.replace(\".WAV.wav\",\".WRD\")\n",
        "    wrd_sig=find_phoneme(wrd_file)\n",
        "    for word in wrd_sig:\n",
        "      if (word[3][0] in ['p', 't', 'h', 'c', 'f', 'k', 's']) and \\\n",
        "      (word[2][-2] in ['p', 't', 'h', 'c', 'f', 'k', 's', 'a', 'e', 'u', 'o', 'i']):\n",
        "        word_phoneme = {\n",
        "            word[2]: {\n",
        "                'audio': audio[word[0]:word[1]], \n",
        "                'sample_rate': sample_rate\n",
        "                }\n",
        "              }\n",
        "        all_words_arrays.append(word_phoneme)"
      ],
      "metadata": {
        "id": "Vg5mdfyrOkev",
        "colab": {
          "base_uri": "https://localhost:8080/"
        },
        "outputId": "6afb384b-03d7-4a68-e96d-e2bb2cc0dd1e"
      },
      "execution_count": 15,
      "outputs": [
        {
          "output_type": "stream",
          "name": "stderr",
          "text": [
            "100%|██████████| 6300/6300 [00:29<00:00, 210.76it/s]\n"
          ]
        }
      ]
    },
    {
      "cell_type": "code",
      "source": [
        "all_words_arrays_t = []\n",
        "for filename in tqdm(needed_files):\n",
        "  if '.wav' in filename:\n",
        "    with my_zipfile.open(filename) as f:\n",
        "      audio, sample_rate = sf.read(f)\n",
        "      audio = audio.astype(np.float64)\n",
        "      audio = audio / np.max(np.abs(audio))\n",
        "    wrd_file=filename.replace(\".WAV.wav\",\".WRD\")\n",
        "    wrd_sig=find_new_phoneme(wrd_file)\n",
        "    for word in wrd_sig:\n",
        "      ind = word[2].find('t')\n",
        "      if ind != -1:\n",
        "        if (word[2][ind-1] == 's' and ind != 0) or (word[2][ind+1] == 's'):\n",
        "          word_phoneme = {\n",
        "            word[2]: {\n",
        "                'audio': audio[word[0]:word[1]], \n",
        "                'sample_rate': sample_rate\n",
        "                }\n",
        "              }\n",
        "          all_words_arrays_t.append(word_phoneme)\n",
        "      if (word[2].endswith('ed')) and (word[2][-3] in ['p', 't', 'h', 'c', 'f', 'k', 's']):\n",
        "        word_phoneme = {\n",
        "            word[2]: {\n",
        "                'audio': audio[word[0]:word[1]], \n",
        "                'sample_rate': sample_rate\n",
        "                }\n",
        "              }\n",
        "        all_words_arrays_t.append(word_phoneme)"
      ],
      "metadata": {
        "colab": {
          "base_uri": "https://localhost:8080/"
        },
        "id": "dQWa75-CkxYZ",
        "outputId": "d2e0de9d-cd3f-4188-b647-5e9ec647a1f2"
      },
      "execution_count": 16,
      "outputs": [
        {
          "output_type": "stream",
          "name": "stderr",
          "text": [
            "100%|██████████| 6300/6300 [00:35<00:00, 178.61it/s]\n"
          ]
        }
      ]
    },
    {
      "cell_type": "markdown",
      "source": [
        "Функция *all_vectors* записывает вектора звуков, а также слова, в которых встретились нужные звуки. Переменная *testname* контролирует тест, для которого на данный момент собираются данные."
      ],
      "metadata": {
        "id": "k0HA-kFd0fiS"
      }
    },
    {
      "cell_type": "code",
      "source": [
        "def all_vectors(n, layer, predicted_ids, word, testname): #, next_word):\n",
        "  numpy_logits = layer[0].detach().numpy()\n",
        "  for i in range(len(predicted_ids[0])):\n",
        "    if predicted_ids[0][i] not in [1, 2, 3, 0]:\n",
        "      all_sound_vectors[testname][n][convenient_vocab[predicted_ids[0][i]]].append(numpy_logits[i])\n",
        "    if n == 0:\n",
        "      if testname == 'z':\n",
        "        if (convenient_vocab[predicted_ids[0][i]] == 's') or \\\n",
        "                    (convenient_vocab[predicted_ids[0][i]] == 'z'):\n",
        "          words[convenient_vocab[predicted_ids[0][i]]].append(word)\n",
        "    elif testname == 't':\n",
        "      if (convenient_vocab[predicted_ids[0][i]] == 't') or \\\n",
        "                  (convenient_vocab[predicted_ids[0][i]] == 'd'):\n",
        "        words_t[convenient_vocab[predicted_ids[0][i]]].append(word)"
      ],
      "metadata": {
        "id": "ZSVMKVL71Yo5"
      },
      "execution_count": 17,
      "outputs": []
    },
    {
      "cell_type": "code",
      "source": [
        "all_sound_vectors = {'z': [defaultdict(list) for i in range(26)], 't': [defaultdict(list) for i in range(26)]}\n",
        "all_near_sounds = defaultdict(list)\n",
        "words_t = {'t': [], 'd': []}\n",
        "words = {'z': [], 's': []}\n",
        "layers = []\n",
        "all_keys = []"
      ],
      "metadata": {
        "id": "TLoiLxzcPaR2"
      },
      "execution_count": 18,
      "outputs": []
    },
    {
      "cell_type": "code",
      "source": [
        "testname = 'z'  # 'z' or 't'\n",
        "for testname in ['t', 'z']:\n",
        "  if testname == 'z':\n",
        "    arrays = all_words_arrays\n",
        "  else:\n",
        "    arrays = all_words_arrays_t\n",
        "  for audio in tqdm(arrays):\n",
        "    key = list(audio.keys())[0]\n",
        "    all_keys.append(key)\n",
        "    audio_input = audio[key]['audio']\n",
        "    sample_rate = audio[key]['sample_rate']\n",
        "    input_values = processor(audio_input, \n",
        "                            sampling_rate=sample_rate, \n",
        "                            return_tensors=\"pt\").input_values\n",
        "    with torch.no_grad():\n",
        "      outputs = model(input_values.float())\n",
        "      logits = outputs.logits\n",
        "      hidden_states = outputs.hidden_states\n",
        "      layers.extend(hidden_states)\n",
        "      layers.append(logits)\n",
        "    predicted_ids = torch.argmax(logits, dim=-1).detach().numpy()\n",
        "    for n, layer in enumerate(layers):\n",
        "      all_vectors(n, layer, predicted_ids, key, testname)\n",
        "    layers = []"
      ],
      "metadata": {
        "colab": {
          "base_uri": "https://localhost:8080/"
        },
        "id": "dcYcsP9Lakdg",
        "outputId": "93448a7f-a02e-41d5-c20d-9d6db0adcaca"
      },
      "execution_count": 19,
      "outputs": [
        {
          "output_type": "stream",
          "name": "stderr",
          "text": [
            "100%|██████████| 1756/1756 [16:45<00:00,  1.75it/s]\n",
            "100%|██████████| 1196/1196 [09:35<00:00,  2.08it/s]\n"
          ]
        }
      ]
    },
    {
      "cell_type": "code",
      "source": [
        "nlp = spacy.load(\"en_core_web_sm\")"
      ],
      "metadata": {
        "id": "bQPkyDXK38zH"
      },
      "execution_count": 20,
      "outputs": []
    },
    {
      "cell_type": "markdown",
      "source": [
        "### Второй этап: обработка данных и тесты\n",
        "\n",
        "- *is_plural_wn* получает на вход слово и определяет часть речи и, если слово - существительное, число. Значение 'hello' используется для слов, которые не подходят для теста.\n",
        "\n",
        "- *is_past* получает на вход слово и определяет, является ли полученное слово глаголом в прошедшем времени.\n",
        "\n",
        "- *count_accuracy* получает на вход слова, вектора нужных звуков, которые входят в соответствующие слова и список звуков. Внутри функции создаётся таблица, где в каждоей строке есть вектор звука, слово и обозначение звука. Дальше применяется описанные функции и очищаются данные. После на этих данных считается метрика accuracy в двух случаях: на верных данных и на перемешанных."
      ],
      "metadata": {
        "id": "xFwonYjB4A51"
      }
    },
    {
      "cell_type": "code",
      "source": [
        "def is_plural_wn(noun):\n",
        "  word = nlp(noun)\n",
        "  mistakes = ['is', 'was', 'has', \n",
        "              'this', 'as', 'his', \n",
        "              'does', 'themselves', 'requires', \n",
        "              'contains']\n",
        "  if str(word[0]) in mistakes:\n",
        "    return 'hello'\n",
        "  if word[0].pos_ == 'NOUN':\n",
        "    wnl = WordNetLemmatizer()\n",
        "    lemma = wnl.lemmatize(noun, 'n')\n",
        "    plural = 1 if noun is not lemma else 0\n",
        "    return plural\n",
        "  else:\n",
        "     return 'hello'"
      ],
      "metadata": {
        "id": "utOiBDAVZ5_Z"
      },
      "execution_count": 21,
      "outputs": []
    },
    {
      "cell_type": "code",
      "source": [
        "def is_past(word):\n",
        "  nlp_word = nlp(word)\n",
        "  if nlp_word[0].pos_ == 'VERB':\n",
        "    wnl = WordNetLemmatizer()\n",
        "    lemma = wnl.lemmatize(word, 'v')\n",
        "    if word != lemma:\n",
        "      if word.endswith('ed'):\n",
        "        return 1\n",
        "    return 0\n",
        "  else:\n",
        "     return 0"
      ],
      "metadata": {
        "id": "If1XpDL6TBdi"
      },
      "execution_count": 22,
      "outputs": []
    },
    {
      "cell_type": "code",
      "source": [
        "def count_accuracy(words, emb, sounds, layer):\n",
        "  random.seed(333)\n",
        "  data = pd.DataFrame({'word': words, 'vector_emb': emb, 'sound': sounds})\n",
        "  if 's' in sounds:\n",
        "    func = is_plural_wn\n",
        "    data['is'] = data['word'].apply(func)\n",
        "    res = data[data['is']!='hello'].copy()\n",
        "    del_words = ['solves', 'tastes', 'celebrates', \n",
        "                 'misperceives', 'chases', 'decides', \n",
        "                 'involves', 'presumes', 'presents', \n",
        "                 'guarantees', 'sets', 'serves', \n",
        "                 'causes', 'increases', 'preserves', \n",
        "                 'slips', 'prints']\n",
        "    res = res[~res['word'].isin(del_words)]\n",
        "  elif 't' in sounds:\n",
        "    mistakes = ['mopped', 'slanted', 'squeaked', 'invoked', \n",
        "                'shocked', 'unfenced', 'crooked', 'uninterrupted', \n",
        "                'melted', 'pumped', 'engulfed', 'advanced', \n",
        "                'unabashed', 'addressed', 'tilted', 'chorused', 'polished']\n",
        "    func = is_past\n",
        "    data['is'] = data['word'].apply(func)\n",
        "    res = data.copy()\n",
        "    for m in mistakes:\n",
        "      res.loc[res['word']==m, 'is_past'] = 1\n",
        "  answers = [i for i in res['is'].tolist()]\n",
        "  random.shuffle(answers)\n",
        "\n",
        "  model_log = LogisticRegression(max_iter=10000)\n",
        "  X_train, X_test, y_train, y_test = train_test_split(\n",
        "                                      res['vector_emb'].tolist(), \n",
        "                                      res['is'].tolist(), \n",
        "                                      train_size = .8, \n",
        "                                      random_state=10)\n",
        "  under_sampler = RandomUnderSampler(random_state=42)\n",
        "  X_res, y_res = under_sampler.fit_resample(X_train, y_train)\n",
        "  model_log.fit(X_res, y_res)\n",
        "  score = model_log.score(X_test, y_test)\n",
        "  \n",
        "  model_rn = LogisticRegression(max_iter=10000)\n",
        "  X_train, X_test, y_train, y_test = train_test_split(\n",
        "                                      res['vector_emb'].tolist(), \n",
        "                                      answers, \n",
        "                                      train_size = .8, \n",
        "                                      random_state=10)\n",
        "  under_sampler = RandomUnderSampler(random_state=42)\n",
        "  X_res, y_res = under_sampler.fit_resample(X_train, y_train)\n",
        "  model_rn.fit(X_res, y_res)\n",
        "  rn_score = model_rn.score(X_test, y_test)\n",
        "\n",
        "  means = None\n",
        "  if layer == 25:\n",
        "    means = res.groupby('is')['vector_emb'].agg(np.mean).reset_index()\n",
        "\n",
        "  return score, rn_score, model_log.coef_[0], means"
      ],
      "metadata": {
        "id": "TG0-zg8OnSKX"
      },
      "execution_count": 67,
      "outputs": []
    },
    {
      "cell_type": "code",
      "source": [
        "scores = {'t': [], 'z': []}\n",
        "rn_scores = {'t': [], 'z': []}\n",
        "coefs = {'t': [], 'z': []}\n",
        "means = {'t': [], 'z': []}"
      ],
      "metadata": {
        "id": "oomVyZ6hFQSA"
      },
      "execution_count": 68,
      "outputs": []
    },
    {
      "cell_type": "code",
      "source": [
        "for testname in ['t', 'z']:\n",
        "  if testname == 't':\n",
        "    all_words = words_t['t'][:1474]\n",
        "    all_sounds = ['t']*len(all_words)\n",
        "  elif testname == 'z':\n",
        "    s_words = words['s']\n",
        "    z_words = words['z']\n",
        "    all_words = s_words + z_words\n",
        "    s_sounds = ['s']*len(s_words)\n",
        "    z_sounds = ['z']*len(z_words)\n",
        "    all_sounds = s_sounds + z_sounds\n",
        "  for i in tqdm(range(26)):\n",
        "    if testname == 't':\n",
        "      all_emb = all_sound_vectors[testname][i]['t']\n",
        "    elif testname == 'z':\n",
        "      all_emb = all_sound_vectors[testname][i]['s'] + all_sound_vectors[testname][i]['z']\n",
        "    score, rn_score, coef, mean = count_accuracy(all_words, all_emb, all_sounds, i)\n",
        "    scores[testname].append(score)\n",
        "    rn_scores[testname].append(rn_score)\n",
        "    coefs[testname].append(coef)\n",
        "    means[testname].append(mean)"
      ],
      "metadata": {
        "colab": {
          "base_uri": "https://localhost:8080/"
        },
        "id": "_0cexKHpdxyq",
        "outputId": "c4adafac-0f13-43e0-f384-bc37fdf08ed7"
      },
      "execution_count": 69,
      "outputs": [
        {
          "output_type": "stream",
          "name": "stderr",
          "text": [
            "100%|██████████| 26/26 [06:11<00:00, 14.28s/it]\n",
            "100%|██████████| 26/26 [02:58<00:00,  6.87s/it]\n"
          ]
        }
      ]
    },
    {
      "cell_type": "markdown",
      "source": [
        "### Третий этап: визуализация\n",
        "\n",
        "Функция для изображения данных:\n",
        "\n",
        "- draw_coefs рисует графики наибольших по модулю коэффициентов модели.\n",
        "- draw_accuracy рисует график значений accuracy на каждом слое.\n"
      ],
      "metadata": {
        "id": "XPOvIvTf_Mvc"
      }
    },
    {
      "cell_type": "code",
      "source": [
        "def draw_coefs(coefss, testname):\n",
        "  '''\n",
        "  testname -> название теста\n",
        "  '''\n",
        "  all_coefs = np.argsort(coefss)\n",
        "  need_coefs = all_coefs[:10].tolist() + all_coefs[-10:].tolist()\n",
        "  sounds = []\n",
        "  coefs = []\n",
        "  for coef in need_coefs:\n",
        "    sounds.append(convenient_vocab[coef])\n",
        "    coefs.append(coefss[coef])\n",
        "  plt.figure(figsize=(7, 5))\n",
        "  plt.bar(sounds, coefs)\n",
        "  plt.xlabel('Звуки')\n",
        "  plt.ylabel('Коэффициенты')\n",
        "  plt.title(f'Звуки с наибольшими и наименьшими коэффициентами\\nлогистической регрессии, тест: {testname}')"
      ],
      "metadata": {
        "id": "sVn82iaBJYvt"
      },
      "execution_count": 56,
      "outputs": []
    },
    {
      "cell_type": "code",
      "source": [
        "def draw_accuracy(dict_of_scores):\n",
        "  '''\n",
        "  dict_of_scores -> словарь, в котором ключом является тип перемешивания,\n",
        "  а значением список значений accuracy\n",
        "  '''\n",
        "  xs = [i for i in range(1, 27)]\n",
        "  for k, v in dict_of_scores.items():\n",
        "    plt.plot(xs, v, label=k)\n",
        "  plt.legend()\n",
        "  plt.title('Accuracy предсказания звонкости звука на каждом из слоёв')\n",
        "  plt.xlabel('Номер слоя')\n",
        "  plt.ylabel('Значение accuracy')"
      ],
      "metadata": {
        "id": "0CFgYR0AGxmH"
      },
      "execution_count": 40,
      "outputs": []
    },
    {
      "cell_type": "code",
      "source": [
        "draw_coefs(coefs['t'][-1], 't/d')"
      ],
      "metadata": {
        "colab": {
          "base_uri": "https://localhost:8080/",
          "height": 365
        },
        "id": "FcI-BXmBLlip",
        "outputId": "050895bd-138f-421f-fbf9-df666d44be77"
      },
      "execution_count": 70,
      "outputs": [
        {
          "output_type": "display_data",
          "data": {
            "text/plain": [
              "<Figure size 504x360 with 1 Axes>"
            ],
            "image/png": "[encoded data removed]"
          },
          "metadata": {
            "needs_background": "light"
          }
        }
      ]
    },
    {
      "cell_type": "code",
      "source": [
        "draw_coefs(coefs['z'][-1], 's/z')"
      ],
      "metadata": {
        "colab": {
          "base_uri": "https://localhost:8080/",
          "height": 365
        },
        "id": "r474thgGXWfF",
        "outputId": "1c59ed1e-3f1e-4d40-f30d-065f5618a14a"
      },
      "execution_count": 71,
      "outputs": [
        {
          "output_type": "display_data",
          "data": {
            "text/plain": [
              "<Figure size 504x360 with 1 Axes>"
            ],
            "image/png": "[encoded data removed]"
          },
          "metadata": {
            "needs_background": "light"
          }
        }
      ]
    },
    {
      "cell_type": "code",
      "source": [
        "dict_of_accuracies = {'верные данные': scores['z'],\n",
        "                      'перемешанные данные': rn_scores['z']}\n",
        "draw_accuracy(dict_of_accuracies)"
      ],
      "metadata": {
        "colab": {
          "base_uri": "https://localhost:8080/",
          "height": 295
        },
        "id": "kGPXvhsoYXuX",
        "outputId": "20e7afa5-404a-456e-ddd0-39ad686275cd"
      },
      "execution_count": 72,
      "outputs": [
        {
          "output_type": "display_data",
          "data": {
            "text/plain": [
              "<Figure size 432x288 with 1 Axes>"
            ],
            "image/png": "[encoded data removed]"
          },
          "metadata": {
            "needs_background": "light"
          }
        }
      ]
    },
    {
      "cell_type": "code",
      "source": [
        "dict_of_accuracies = {'верные данные': scores['t'],\n",
        "                      'перемешанные данные': rn_scores['t']}\n",
        "draw_accuracy(dict_of_accuracies)"
      ],
      "metadata": {
        "colab": {
          "base_uri": "https://localhost:8080/",
          "height": 295
        },
        "id": "ETzUZ3l8cfsu",
        "outputId": "c3bddbf5-1dee-45dd-9c65-0b4ee1db3c6e"
      },
      "execution_count": 73,
      "outputs": [
        {
          "output_type": "display_data",
          "data": {
            "text/plain": [
              "<Figure size 432x288 with 1 Axes>"
            ],
            "image/png": "[encoded data removed]"
          },
          "metadata": {
            "needs_background": "light"
          }
        }
      ]
    },
    {
      "cell_type": "code",
      "source": [
        "all_coefs = np.argsort(coefs['z'][-1])\n",
        "need_coefs = all_coefs[:10].tolist() + all_coefs[-10:].tolist()\n",
        "for i, row in means['z'][-1].iterrows():\n",
        "  sort_means = row['vector_emb'][need_coefs]\n",
        "  print(sort_means)"
      ],
      "metadata": {
        "colab": {
          "base_uri": "https://localhost:8080/"
        },
        "id": "EEawN_wlgVri",
        "outputId": "a4e5c669-5b17-414a-e42d-4027a51cdb2f"
      },
      "execution_count": 77,
      "outputs": [
        {
          "output_type": "stream",
          "name": "stdout",
          "text": [
            "[ 0.16576631  1.893232   -1.3382057   0.34422153  0.68454254 -1.3252984\n",
            " -3.9671395   0.19938576 -6.4546165  -3.8163397  -4.9906764  -6.2844005\n",
            " -2.804671   -3.6121643  -1.0547712  -2.2729445  -3.221101    5.0351315\n",
            "  0.28212494 -0.6861569 ]\n",
            "[ 0.02867408  1.036909   -1.4947692  -0.16158703  0.60225147 -0.8168242\n",
            " -3.6220188   0.04277932 -6.32043    -3.3545952  -4.807722   -6.027023\n",
            " -2.3103516  -3.3344033  -1.1633655  -1.6131941  -2.7017813   5.146042\n",
            "  0.2872753  -0.05444616]\n"
          ]
        }
      ]
    },
    {
      "cell_type": "code",
      "source": [
        "all_coefs = np.argsort(coefs['t'][-1])\n",
        "need_coefs = all_coefs[:10].tolist() + all_coefs[-10:].tolist()\n",
        "for i, row in means['t'][-1].iterrows():\n",
        "  sort_means = row['vector_emb'][need_coefs]\n",
        "  print(sort_means)"
      ],
      "metadata": {
        "colab": {
          "base_uri": "https://localhost:8080/"
        },
        "id": "oCAY422kevtP",
        "outputId": "08c93f65-6b95-4a6b-fb66-263eea7093e8"
      },
      "execution_count": 78,
      "outputs": [
        {
          "output_type": "stream",
          "name": "stdout",
          "text": [
            "[-0.88366246 -4.249467   -2.7619615  -3.7307987  -3.8531613  -3.9654243\n",
            " -0.5646247  -1.6397697  -4.3261504  -4.10005    -1.6796534  -5.109337\n",
            " -6.058128   -3.2153769  -4.3550725  -4.133974   -1.0103716  -1.677179\n",
            " -4.537301   -3.929255  ]\n",
            "[-0.8908896  -4.255493   -2.7831829  -3.7272387  -3.8523984  -3.9878716\n",
            " -0.62012994 -1.6441835  -4.3324327  -4.109496   -1.666898   -5.0996313\n",
            " -6.04267    -3.1925607  -4.3505855  -4.13172    -1.0071392  -1.6834451\n",
            " -4.5148983  -3.91818   ]\n"
          ]
        }
      ]
    }
  ]
}
