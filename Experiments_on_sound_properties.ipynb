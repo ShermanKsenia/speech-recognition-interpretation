{
  "cells": [
    {
      "cell_type": "code",
      "execution_count": null,
      "metadata": {
        "id": "EkUzqHDFeBmZ"
      },
      "outputs": [],
      "source": [
        "!pip install -q transformers"
      ]
    },
    {
      "cell_type": "code",
      "execution_count": null,
      "metadata": {
        "id": "Tczoi4siSre1"
      },
      "outputs": [],
      "source": [
        "!pip install -q datasets"
      ]
    },
    {
      "cell_type": "code",
      "execution_count": null,
      "metadata": {
        "id": "Cpxi2dOb6cs1"
      },
      "outputs": [],
      "source": [
        "!pip install -q huggingface_hub"
      ]
    },
    {
      "cell_type": "code",
      "source": [
        "!pip install -q phonemizer"
      ],
      "metadata": {
        "id": "1Tn7MTk8ELSe"
      },
      "execution_count": null,
      "outputs": []
    },
    {
      "cell_type": "code",
      "execution_count": null,
      "metadata": {
        "id": "2A9Q0egiFVPY"
      },
      "outputs": [],
      "source": [
        "!pip search espeak\n",
        "!pip install py-espeak-ng\n",
        "!sudo apt-get install python-espeak\n",
        "!sudo apt-get update && sudo apt-get install espeak"
      ]
    },
    {
      "cell_type": "code",
      "execution_count": null,
      "metadata": {
        "id": "qbYMcvjBy6fb"
      },
      "outputs": [],
      "source": [
        "import json\n",
        "import torch\n",
        "import re\n",
        "import random\n",
        "import phonemizer\n",
        "import numpy as np\n",
        "import pandas as pd\n",
        "import seaborn as sns\n",
        "import matplotlib.pyplot as plt\n",
        "from tqdm import tqdm\n",
        "from imblearn.under_sampling import RandomUnderSampler\n",
        "from sklearn.linear_model import LogisticRegression\n",
        "from sklearn.model_selection import train_test_split\n",
        "from collections import Counter, defaultdict\n",
        "from huggingface_hub import hf_hub_download\n",
        "from datasets import load_dataset, Audio\n",
        "from transformers import Wav2Vec2ForCTC, Wav2Vec2Processor, Wav2Vec2Tokenizer, Wav2Vec2Config"
      ]
    },
    {
      "cell_type": "code",
      "execution_count": null,
      "metadata": {
        "id": "W59i3uDsqTfs"
      },
      "outputs": [],
      "source": [
        "config = Wav2Vec2Config.from_pretrained(\"facebook/wav2vec2-xlsr-53-espeak-cv-ft\", output_hidden_states=True)\n",
        "model = Wav2Vec2ForCTC.from_pretrained(\"facebook/wav2vec2-xlsr-53-espeak-cv-ft\", config=config)\n",
        "processor = Wav2Vec2Processor.from_pretrained(\"facebook/wav2vec2-xlsr-53-espeak-cv-ft\")"
      ]
    },
    {
      "cell_type": "code",
      "execution_count": null,
      "metadata": {
        "id": "dOu1Jk2241bY"
      },
      "outputs": [],
      "source": [
        "_file = hf_hub_download(repo_id=\"facebook/wav2vec2-xlsr-53-espeak-cv-ft\", filename=\"vocab.json\")\n",
        "with open(_file, 'r') as f:\n",
        "  vocab = json.loads(f.read())\n",
        "convenient_vocab = {}\n",
        "for k, v in vocab.items():\n",
        "  convenient_vocab[v] = k"
      ]
    },
    {
      "cell_type": "code",
      "execution_count": null,
      "metadata": {
        "id": "lutH_kR00ep6"
      },
      "outputs": [],
      "source": [
        "librispeech_samples_ds = load_dataset(\"common_voice\", 'ru', split=\"validation\")\n",
        "librispeech_samples_ds = librispeech_samples_ds.cast_column(\"audio\", Audio(sampling_rate=16_000))"
      ]
    },
    {
      "cell_type": "code",
      "execution_count": null,
      "metadata": {
        "id": "zFZNHe-kZlhG"
      },
      "outputs": [],
      "source": [
        "vowels = set(['ɪ', 'uː', 'ʌ', 'iː', 'ɛ', 'ɑː', 'ə', 'i', 'oʊ', 'æ', 'ɐ', 'aʊ', 'ʊ', 'aɪ', 'eɪ', 'oː', 'a', 'oɪ', 'ɔ', 'ɚ', 'eː', 'ᵻ', 'o', 'aː', 'e', 'ɑ', 'u'])\n",
        "voiced = set(['b', 'd', 'dʒ', 'j', 'l', 'm', 'n', 'v', 'w', 'z', 'ɡ', 'ɲ', 'əl', 'ɹ', 'ɾ', 'ʒ', 'ŋ', 'ð', 'r'])\n",
        "voiceless = set(['f', 'h', 'k', 'p', 's', 't', 'ts', 'tʃ', 'ʃ', 'θ'])\n",
        "consonants = voiced.union(voiceless)\n",
        "soft = set(['dʲ', 'j', 'mʲ', 'nʲ', 'rʲ', 'sʲ', 'tʲ', 'ɭʲ', 'ɟ', 'ç'])\n",
        "hard = consonants - soft"
      ]
    },
    {
      "cell_type": "markdown",
      "source": [
        "## Первый этап: сбор данных"
      ],
      "metadata": {
        "id": "h_TvBeQ0EOb2"
      }
    },
    {
      "cell_type": "markdown",
      "source": [
        "Для сбора данных я создала две функции. \n",
        "- *sound_vectors* создаёт список словарей. В каждом словаре ключами являются угаданные моделью звуки, а значениями - список векторов соответствующего звука. Для каждого слоя создаётся отдельный словарь.\n",
        "- *sound_vectors_nears* создаёт аналогичный список словарей. Помимо него, создаётся словарь, где записываются звука, окружающие обрабатывающийся на данный момент звук. Таким образом, для каждого звука получается два списка: список векторов и список окружающих звуков."
      ],
      "metadata": {
        "id": "vXr4BkDqEX0k"
      }
    },
    {
      "cell_type": "code",
      "execution_count": null,
      "metadata": {
        "id": "ZSVMKVL71Yo5"
      },
      "outputs": [],
      "source": [
        "def sound_vectors(n, layer, predicted_ids):\n",
        "  sound_vectors = defaultdict(list)\n",
        "  numpy_logits = layer[0].detach().numpy()\n",
        "  num = 0\n",
        "  for i in range(len(predicted_ids[0])):\n",
        "    if predicted_ids[0][i] not in [1, 2, 3, 0]:\n",
        "      num += 1\n",
        "      all_sound_vectors[n][convenient_vocab[predicted_ids[0][i]]].append(numpy_logits[i])"
      ]
    },
    {
      "cell_type": "code",
      "source": [
        "def sound_vectors_nears(n, layer, predicted_ids):\n",
        "  sound_vectors = defaultdict(list)\n",
        "  numpy_logits = layer[0].detach().numpy()\n",
        "  transcription = processor.batch_decode(predicted_ids)[0].split()\n",
        "  ids = predicted_ids[0]\n",
        "  needed_ids = []\n",
        "  logits = []\n",
        "  for i in range(1, len(ids)):\n",
        "    if ids[i] not in [0,1,2,3]:\n",
        "      if ids[i] != ids[i-1]:\n",
        "        needed_ids.append(ids[i])\n",
        "        logits.append(numpy_logits[i])\n",
        "  for i in range(len(needed_ids)):\n",
        "    if n == 25:\n",
        "      try:\n",
        "        if i == 0:\n",
        "          all_near_sounds[convenient_vocab[needed_ids[i]]].append(['sound', transcription[i+1],transcription[i+2]])\n",
        "          all_sound_vectors2[n][convenient_vocab[needed_ids[i]]].append(logits[i])\n",
        "        elif i == len(transcription)-1:\n",
        "          all_near_sounds[convenient_vocab[needed_ids[i]]].append([transcription[i-2], transcription[i-1], 'sound'])\n",
        "          all_sound_vectors2[n][convenient_vocab[needed_ids[i]]].append(logits[i])\n",
        "        elif i == 1:\n",
        "          all_near_sounds[convenient_vocab[needed_ids[i]]].append([transcription[i-1], 'sound', transcription[i+1], transcription[i+2]])\n",
        "          all_sound_vectors2[n][convenient_vocab[needed_ids[i]]].append(logits[i])\n",
        "        elif i == len(transcription)-2:\n",
        "          all_near_sounds[convenient_vocab[needed_ids[i]]].append([transcription[i-2], transcription[i-1], 'sound', transcription[i+1]])\n",
        "          all_sound_vectors2[n][convenient_vocab[needed_ids[i]]].append(logits[i])\n",
        "        else:\n",
        "          all_near_sounds[convenient_vocab[needed_ids[i]]].append([transcription[i-2], transcription[i-1], 'sound', transcription[i+1], transcription[i+2]])\n",
        "          all_sound_vectors2[n][convenient_vocab[needed_ids[i]]].append(logits[i])\n",
        "      except:\n",
        "        print(transcription)"
      ],
      "metadata": {
        "id": "rpRPa33Ky9M6"
      },
      "execution_count": null,
      "outputs": []
    },
    {
      "cell_type": "code",
      "execution_count": null,
      "metadata": {
        "id": "ctnFRjPR0sta"
      },
      "outputs": [],
      "source": [
        "all_sound_vectors2 = [defaultdict(list) for i in range(26)]\n",
        "all_sound_vectors = [defaultdict(list) for i in range(26)]\n",
        "all_near_sounds = defaultdict(list)\n",
        "layers = []\n",
        "texts = []\n",
        "all_sounds = defaultdict(list)"
      ]
    },
    {
      "cell_type": "code",
      "source": [
        "for audio in tqdm(librispeech_samples_ds):\n",
        "  audio_input = audio['audio']['array']\n",
        "  sample_rate = audio['audio']['sampling_rate']\n",
        "  texts.append(audio['sentence'])\n",
        "  all_sounds[audio['sentence']].append(audio_input)\n",
        "  input_values = processor(audio_input, sampling_rate=sample_rate, return_tensors=\"pt\").input_values\n",
        "  with torch.no_grad():\n",
        "    outputs = model(input_values.float())\n",
        "    logits = outputs.logits\n",
        "    hidden_states = outputs.hidden_states\n",
        "    layers.extend(hidden_states)\n",
        "    layers.append(logits)\n",
        "  predicted_ids = torch.argmax(logits, dim=-1).detach().numpy()\n",
        "  for n, layer in enumerate(layers):\n",
        "    #sound_vectors(n, layer, predicted_ids)\n",
        "    sound_vectors_nears(n, layer, predicted_ids)\n",
        "  layers = []"
      ],
      "metadata": {
        "id": "7MOG3rBdF-rK"
      },
      "execution_count": null,
      "outputs": []
    },
    {
      "cell_type": "markdown",
      "source": [
        "## Второй этап: тесты"
      ],
      "metadata": {
        "id": "p2wLcO-jHiE4"
      }
    },
    {
      "cell_type": "markdown",
      "source": [
        "Функция для изображения данных:\n",
        "- *draw_coefs* рисует графики наибольших по модулю коэффициентов модели.\n",
        "- *draw_accuracy* рисует график значений accuracy на каждом слое"
      ],
      "metadata": {
        "id": "rsrEaHgBORwC"
      }
    },
    {
      "cell_type": "code",
      "source": [
        "def draw_coefs(model, testname):\n",
        "  '''\n",
        "  model -> используемая модель LogReg\n",
        "  testname -> название теста\n",
        "  '''\n",
        "  all_coefs = np.argsort(model.coef_[0])\n",
        "  need_coefs = all_coefs[:10].tolist() + all_coefs[-10:].tolist()\n",
        "  sounds = []\n",
        "  coefs = []\n",
        "  for coef in need_coefs:\n",
        "    sounds.append(convenient_vocab[coef])\n",
        "    coefs.append(model.coef_[0][coef])\n",
        "  plt.figure(figsize=(7, 5))\n",
        "  plt.bar(sounds, coefs)\n",
        "  plt.xlabel('Звуки')\n",
        "  plt.ylabel('Коэффициенты')\n",
        "  plt.title(f'Звуки с наибольшими и наименьшими коэффициентами\\nлогистической регрессии, тест: {testname}')"
      ],
      "metadata": {
        "id": "sVn82iaBJYvt"
      },
      "execution_count": null,
      "outputs": []
    },
    {
      "cell_type": "code",
      "source": [
        "def draw_accuracy(dict_of_scores):\n",
        "  '''\n",
        "  dict_of_scores -> словарь, в котором ключом является тип перемешивания,\n",
        "  а значением список значений accuracy\n",
        "  '''\n",
        "  xs = [i for i in range(1, 27)]\n",
        "  for k, v in dict_of_scores.items():\n",
        "    plt.plot(xs, v, label=key)\n",
        "  plt.legend()\n",
        "  plt.title('Accuracy предсказания звонкости звука на каждом из слоёв')\n",
        "  plt.xlabel('Номер слоя')\n",
        "  plt.ylabel('Значение accuracy')"
      ],
      "metadata": {
        "id": "0CFgYR0AGxmH"
      },
      "execution_count": null,
      "outputs": []
    },
    {
      "cell_type": "markdown",
      "source": [
        "В каждом из разделов по тестам первая ячейка создаёт список векторов и список классов для каждого вектора. В первом блоке собираются верные данные, во втором блоке собираются данные для группового перемешивания, в третьем - для полного.\n",
        "\n",
        "После каждый из списков данных подаётся на обучение модели. В результате получаются три списка значений accuracy для каждого из тестов на каждом из слоёв модели."
      ],
      "metadata": {
        "id": "_xs28_uGQ4Ns"
      }
    },
    {
      "cell_type": "markdown",
      "source": [
        "### Звонкость / глухость"
      ],
      "metadata": {
        "id": "8OMyGUTdHob9"
      }
    },
    {
      "cell_type": "code",
      "source": [
        "voiced_or_not = []\n",
        "list_of_vectors2 = []\n",
        "for i in range(26):\n",
        "  one_of_the_lists = []\n",
        "  for k, v in all_sound_vectors[i].items():\n",
        "    if k in consonants:\n",
        "      one_of_the_lists.extend(v)\n",
        "      if i == 0:\n",
        "        if k in voiced:\n",
        "          voiced_or_not.extend(['voiced']*len(v))\n",
        "        else:\n",
        "          voiced_or_not.extend(['voiceless']*len(v))\n",
        "  list_of_vectors2.append(one_of_the_lists)\n",
        "  one_of_the_lists = []\n",
        "\n",
        "rand_voiced_or_not = []\n",
        "listik = ['voiced', 'voiceless']\n",
        "voice_cnt = 0\n",
        "ans_voice = {}\n",
        "for i in range(26):\n",
        "  one_of_the_lists = []\n",
        "  for k, v in all_sound_vectors[i].items():\n",
        "    if k in consonants:\n",
        "      what = random.choice(listik)\n",
        "      ans_voice[k] = what\n",
        "      if i == 0:\n",
        "        if what == 'voiced':\n",
        "          rand_voiced_or_not.extend(['voiced']*len(v))\n",
        "          voice_cnt += 1:\n",
        "          if voice_cnt == len(voiced):\n",
        "            listik = ['voiceless']\n",
        "        else:\n",
        "          rand_voiced_or_not.extend(['voiceless']*len(v))\n",
        "\n",
        "full_rand_voice = [el for el in voiced_or_not]\n",
        "random.shuffle(full_rand_voice)"
      ],
      "metadata": {
        "id": "-PzZwHWMGlI-"
      },
      "execution_count": null,
      "outputs": []
    },
    {
      "cell_type": "code",
      "source": [
        "scores_voice = []\n",
        "for i in tqdm(range(26)):\n",
        "  modell_right_voice = LogisticRegression(max_iter=10000)\n",
        "  X_train , X_test , Y_train , Y_test = train_test_split(list_of_vectors2[i],voiced_or_not,train_size = .8)\n",
        "  under_sampler = RandomUnderSampler(random_state=42)\n",
        "  X_res, y_res = under_sampler.fit_resample(X_train, Y_train)\n",
        "  modell_right_voice.fit(X_res, y_res)\n",
        "  score = modell_right_voice.score(X_test, Y_test)\n",
        "  scores_voice.append(score)\n",
        "\n",
        "scores_rn_voice = []\n",
        "for i in tqdm(range(26)):\n",
        "  modell_wr_voice = LogisticRegression(max_iter=10000)\n",
        "  x_train , x_test , y_train , y_test = train_test_split(list_of_vectors2[i],rand_voiced_or_not,train_size = .8)\n",
        "  under_sampler = RandomUnderSampler(random_state=42)\n",
        "  X_res, y_res = under_sampler.fit_resample(x_train, y_train)\n",
        "  modell_wr_voice.fit(X_res, y_res)\n",
        "  score = modell_wr_voice.score(x_test, y_test)\n",
        "  scores_rn_voice.append(score)\n",
        "\n",
        "full_rn_voice = []\n",
        "for i in tqdm(range(26)):\n",
        "  modell_fr_voice = LogisticRegression(max_iter=10000)\n",
        "  x_train , x_test , y_train , y_test = train_test_split(list_of_vectors2[i],full_rand_voice,train_size = .8)\n",
        "  under_sampler = RandomUnderSampler(random_state=42)\n",
        "  X_res, y_res = under_sampler.fit_resample(x_train, y_train)\n",
        "  modell_fr_voice.fit(X_res, y_res)\n",
        "  score = modell_fr_voice.score(x_test, y_test)\n",
        "  full_rn_voice.append(score)"
      ],
      "metadata": {
        "colab": {
          "base_uri": "https://localhost:8080/"
        },
        "id": "_SmPdE2UGqzJ",
        "outputId": "2f59d7f4-2e61-44c0-9ef3-fd1b1648b9fc"
      },
      "execution_count": null,
      "outputs": [
        {
          "output_type": "stream",
          "name": "stderr",
          "text": [
            "100%|██████████| 26/26 [04:31<00:00, 10.45s/it]\n"
          ]
        }
      ]
    },
    {
      "cell_type": "code",
      "source": [
        "draw_coefs(modell_right_voice, 'глухой/звонкий')"
      ],
      "metadata": {
        "id": "AGw8etdcRs-I"
      },
      "execution_count": null,
      "outputs": []
    },
    {
      "cell_type": "code",
      "source": [
        "dict_of_scores = {'верные данные': scores_voice,\n",
        "                  'групповое перемешивание': scores_rn_voice,\n",
        "                  'полное перемешивание': full_rn_voice}\n",
        "draw_accuracy(dict_of_scores)"
      ],
      "metadata": {
        "id": "wcrBFVuPZ19D"
      },
      "execution_count": null,
      "outputs": []
    },
    {
      "cell_type": "markdown",
      "source": [
        "### Гласный / согласный"
      ],
      "metadata": {
        "id": "QoXeLeKkQjJs"
      }
    },
    {
      "cell_type": "code",
      "source": [
        "vow_cons = []\n",
        "list_of_vectors = []\n",
        "for i in range(26):\n",
        "  one_of_the_lists = []\n",
        "  for k, v in all_sound_vectors[i].items():\n",
        "    one_of_the_lists.extend(v)\n",
        "    if i == 0:\n",
        "      if k in vowels:\n",
        "        vow_cons.extend(['vowel']*len(v))\n",
        "      else:\n",
        "        vow_cons.extend(['consonant']*len(v))\n",
        "  list_of_vectors.append(one_of_the_lists)\n",
        "  one_of_the_lists = []\n",
        "\n",
        "rand_vow_cons = []\n",
        "vow_cnt = 0\n",
        "listik = ['vowel', 'consonant']\n",
        "ans_vow_cons = {}\n",
        "for i in range(26):\n",
        "  for k, v in all_sound_vectors[i].items():\n",
        "    if i == 0:\n",
        "      what = random.choice(listik)\n",
        "      ans_vow_cons[k] = what\n",
        "      if what == 'vowel':\n",
        "        rand_vow_cons.extend(['vowel']*len(v))\n",
        "        vow_cnt += 1\n",
        "        if vow_cnt == len(vowels):\n",
        "          listik = ['consonant']\n",
        "      else:\n",
        "        rand_vow_cons.extend(['consonant']*len(v))\n",
        "\n",
        "full_rand = [el for el in vow_cons]\n",
        "random.shuffle(full_rand)"
      ],
      "metadata": {
        "id": "GP7tsHGMVj2G"
      },
      "execution_count": null,
      "outputs": []
    },
    {
      "cell_type": "code",
      "source": [
        "scores = []\n",
        "for i in tqdm(range(26)):\n",
        "  modell_right = LogisticRegression(max_iter=10000)\n",
        "  X_train , X_test , Y_train , Y_test = train_test_split(list_of_vectors[i],vow_cons,train_size = .8)\n",
        "  under_sampler = RandomUnderSampler(random_state=42)\n",
        "  X_res, y_res = under_sampler.fit_resample(X_train, Y_train)\n",
        "  modell_right.fit(X_res, y_res)\n",
        "  score = modell_right.score(X_test, Y_test)\n",
        "  scores.append(score)\n",
        "\n",
        "scores_rn = []\n",
        "for i in tqdm(range(26)):\n",
        "  modell_rn = LogisticRegression(max_iter=10000)\n",
        "  x_train , x_test , y_train , y_test = train_test_split(list_of_vectors[i],rand_vow_cons,train_size = .8)\n",
        "  under_sampler = RandomUnderSampler(random_state=42)\n",
        "  X_res, y_res = under_sampler.fit_resample(x_train, y_train)\n",
        "  modell_rn.fit(x_train, y_train)\n",
        "  score = modell_rn.score(X_res, y_res)\n",
        "  scores_rn.append(score)\n",
        "\n",
        "full_rn = []\n",
        "for i in tqdm(range(26)):\n",
        "  modell = LogisticRegression(max_iter=10000)\n",
        "  x_train , x_test , y_train , y_test = train_test_split(list_of_vectors[i],full_rand,train_size = .8)\n",
        "  under_sampler = RandomUnderSampler(random_state=42)\n",
        "  X_res, y_res = under_sampler.fit_resample(x_train, y_train)\n",
        "  modell.fit(X_res, y_res)\n",
        "  score = modell.score(x_test, y_test)\n",
        "  full_rn.append(score)"
      ],
      "metadata": {
        "colab": {
          "base_uri": "https://localhost:8080/"
        },
        "id": "IIGqSZSVVkmu",
        "outputId": "5fe8abd9-763d-4f69-dfc2-d88ee40427e4"
      },
      "execution_count": null,
      "outputs": [
        {
          "output_type": "stream",
          "name": "stderr",
          "text": [
            "100%|██████████| 26/26 [08:41<00:00, 20.06s/it]\n",
            "100%|██████████| 26/26 [10:11<00:00, 23.53s/it]\n",
            "100%|██████████| 26/26 [05:34<00:00, 12.86s/it]\n"
          ]
        }
      ]
    },
    {
      "cell_type": "code",
      "source": [
        "draw_coefs(modell_right, 'гласный/согласный')"
      ],
      "metadata": {
        "id": "GVIQo0JNaGCx"
      },
      "execution_count": null,
      "outputs": []
    },
    {
      "cell_type": "code",
      "source": [
        "dict_of_scores = {'верные данные': scores,\n",
        "                  'групповое перемешивание': scores_rn,\n",
        "                  'полное перемешивание': full_rn}\n",
        "draw_accuracy(dict_of_scores)"
      ],
      "metadata": {
        "id": "3ebkCQaJaGC9"
      },
      "execution_count": null,
      "outputs": []
    },
    {
      "cell_type": "markdown",
      "source": [
        "### Мягкий / твёрдый"
      ],
      "metadata": {
        "id": "WOf6zjeERKHh"
      }
    },
    {
      "cell_type": "code",
      "source": [
        "soft_hard = []\n",
        "list_of_vectors = []\n",
        "for i in range(26):\n",
        "  one_of_the_lists = []\n",
        "  for k, v in all_sound_vectors[i].items():\n",
        "    if k not in vowels:\n",
        "      one_of_the_lists.extend(v)\n",
        "      if i == 0:\n",
        "        if k in soft:\n",
        "          # print(k)\n",
        "          soft_hard.extend(['soft']*len(v))\n",
        "        else:\n",
        "          soft_hard.extend(['hard']*len(v))\n",
        "  list_of_vectors.append(one_of_the_lists)\n",
        "  one_of_the_lists = []\n",
        "\n",
        "rand_soft_hard = []\n",
        "ans_soft = {}\n",
        "soft_cnt = 0\n",
        "listik = ['soft', 'hard']\n",
        "for i in range(26):\n",
        "  one_of_the_lists = []\n",
        "  for k, v in all_sound_vectors[i].items():\n",
        "    if k not in vowels:\n",
        "      one_of_the_lists.extend(v)\n",
        "      if i == 0:\n",
        "        what = random.choice(listik)\n",
        "        ans_soft[k] = what\n",
        "        if what == 'soft':\n",
        "          rand_soft_hard.extend(['soft']*len(v))\n",
        "          soft_cnt += 1\n",
        "          if soft_cnt == len(soft):\n",
        "            listik = ['hard']\n",
        "        else:\n",
        "          rand_soft_hard.extend(['hard']*len(v))\n",
        "  list_of_vectors.append(one_of_the_lists)\n",
        "  one_of_the_lists = []\n",
        "\n",
        "full_rand = [el for el in soft_hard]\n",
        "random.shuffle(full_rand)"
      ],
      "metadata": {
        "id": "w9puYn6c6wso"
      },
      "execution_count": null,
      "outputs": []
    },
    {
      "cell_type": "code",
      "execution_count": null,
      "metadata": {
        "colab": {
          "base_uri": "https://localhost:8080/"
        },
        "id": "UAaAljB9k3jQ",
        "outputId": "beae5bfd-763d-45aa-88d3-4ddb9870d15f"
      },
      "outputs": [
        {
          "output_type": "stream",
          "name": "stderr",
          "text": [
            "100%|██████████| 26/26 [00:34<00:00,  1.32s/it]\n",
            "100%|██████████| 26/26 [06:53<00:00, 15.91s/it]\n",
            "100%|██████████| 26/26 [01:16<00:00,  2.93s/it]\n"
          ]
        }
      ],
      "source": [
        "scores = []\n",
        "for i in tqdm(range(26)):\n",
        "  modell_smart = LogisticRegression(max_iter=10000)\n",
        "  X_train , X_test , Y_train , Y_test = train_test_split(list_of_vectors[i],soft_hard,train_size = .8, random_state=1)\n",
        "  under_sampler = RandomUnderSampler(random_state=42)\n",
        "  X_res, y_res = under_sampler.fit_resample(X_train, Y_train)\n",
        "  modell_smart.fit(X_res, y_res)\n",
        "  score = modell_smart.score(X_test, Y_test)\n",
        "  scores.append(score)\n",
        "\n",
        "scores_rn = []\n",
        "for i in tqdm(range(26)):\n",
        "  modell_rn = LogisticRegression(max_iter=10000)\n",
        "  x_train_rn , x_test_rn , y_train_rn , y_test_rn = train_test_split(list_of_vectors[i],rand_soft_hard,train_size = .8, random_state=1)\n",
        "  under_sampler = RandomUnderSampler(random_state=42)\n",
        "  X_res, y_res = under_sampler.fit_resample(x_train_rn, y_train_rn)\n",
        "  modell_rn.fit(X_res, y_res)\n",
        "  score = modell_rn.score(x_test_rn, y_test_rn)\n",
        "  scores_rn.append(score)\n",
        "\n",
        "full_rn = []\n",
        "for i in tqdm(range(26)):\n",
        "  modell = LogisticRegression(max_iter=10000)\n",
        "  x_train , x_test , y_train , y_test = train_test_split(list_of_vectors[i],full_rand,train_size = .8, random_state=1)\n",
        "  under_sampler = RandomUnderSampler(random_state=42)\n",
        "  X_res, y_res = under_sampler.fit_resample(x_train, y_train)\n",
        "  modell.fit(X_res, y_res)\n",
        "  score = modell.score(x_test, y_test)\n",
        "  full_rn.append(score)"
      ]
    },
    {
      "cell_type": "code",
      "source": [
        "modell_right(modell_smart, 'мягкий/твёрдый')"
      ],
      "metadata": {
        "id": "KZPEmrThaNDu"
      },
      "execution_count": null,
      "outputs": []
    },
    {
      "cell_type": "code",
      "source": [
        "dict_of_scores = {'верные данные': scores,\n",
        "                  'групповое перемешивание': scores_rn,\n",
        "                  'полное перемешивание': full_rn}\n",
        "draw_accuracy(dict_of_scores)"
      ],
      "metadata": {
        "id": "hNgCYrtGaNDu"
      },
      "execution_count": null,
      "outputs": []
    },
    {
      "cell_type": "markdown",
      "source": [
        "### Третий этап: создание таблицы с окружающими звуками"
      ],
      "metadata": {
        "id": "z7zeSm9cSLXt"
      }
    },
    {
      "cell_type": "code",
      "execution_count": null,
      "metadata": {
        "id": "MCIiF6rea_4m"
      },
      "outputs": [],
      "source": [
        "dataset = []\n",
        "for k, v in all_sound_vectors2[-1].items():\n",
        "  for i in range(len(v)):\n",
        "    try:\n",
        "      dataset.append([k, v[i], all_near_sounds[k][i]])\n",
        "    except:\n",
        "      print(k, i)\n",
        "\n",
        "df = pd.DataFrame(dataset, columns=['sound', 'vector', 'near_sounds'])"
      ]
    },
    {
      "cell_type": "code",
      "execution_count": null,
      "metadata": {
        "id": "YUlZ9NXlSxM9"
      },
      "outputs": [],
      "source": [
        "def softness(sound):\n",
        "  if sound in soft:\n",
        "    return 'soft'\n",
        "  elif sound in hard:\n",
        "    return 'hard'\n",
        "  return 'vowel'"
      ]
    },
    {
      "cell_type": "code",
      "execution_count": null,
      "metadata": {
        "id": "ybTQgGbkTBg9"
      },
      "outputs": [],
      "source": [
        "df['softness'] = df['sound'].apply(softness)\n",
        "df_new = df.copy()\n",
        "df_new = df_new[df_new['softness']!='vowel']"
      ]
    },
    {
      "cell_type": "code",
      "execution_count": null,
      "metadata": {
        "id": "ib-vLR5NTWsk"
      },
      "outputs": [],
      "source": [
        "modell_smart = LogisticRegression(max_iter=10000)\n",
        "X_train , X_test , Y_train , Y_test = train_test_split(df_new['vector'].tolist(),df_new['softness'].tolist(),train_size = .8, random_state=1)\n",
        "under_sampler = RandomUnderSampler(random_state=42)\n",
        "X_res, y_res = under_sampler.fit_resample(X_train, Y_train)\n",
        "modell_smart.fit(X_res, y_res)"
      ]
    },
    {
      "cell_type": "code",
      "execution_count": null,
      "metadata": {
        "id": "OWQKkKUKUGLo"
      },
      "outputs": [],
      "source": [
        "def predict_softness(vector):\n",
        "  return modell_smart.predict(vector.reshape(1, -1))[0]"
      ]
    },
    {
      "cell_type": "code",
      "execution_count": null,
      "metadata": {
        "id": "0Eso7hDBYRJ_"
      },
      "outputs": [],
      "source": [
        "def model_thoughts(vector):\n",
        "  s = np.argsort(vector)\n",
        "  return [convenient_vocab[index] for index in s[-5:]]"
      ]
    },
    {
      "cell_type": "code",
      "execution_count": null,
      "metadata": {
        "id": "g1ULZgfnUKbo"
      },
      "outputs": [],
      "source": [
        "df_new['prediction'] = df_new['vector'].apply(predict_softness)\n",
        "df_new['model_thoughts'] = df_new['vector'].apply(model_thoughts)"
      ]
    },
    {
      "cell_type": "markdown",
      "source": [
        "### Исследование сходства звуков"
      ],
      "metadata": {
        "id": "GULEWPq9Ttwg"
      }
    },
    {
      "cell_type": "markdown",
      "source": [
        "Создание словаря, где ключи - это звуки, а значения - первые 20 элементов с наибольшими степенями уверенности в усреднённом векторе звука"
      ],
      "metadata": {
        "id": "FPO8M2TZUJ7F"
      }
    },
    {
      "cell_type": "code",
      "execution_count": null,
      "metadata": {
        "id": "5RNrGltRhN1M",
        "colab": {
          "base_uri": "https://localhost:8080/"
        },
        "outputId": "c15b0a1a-79a9-451b-9db3-6322ef0bfebd"
      },
      "outputs": [
        {
          "output_type": "stream",
          "name": "stderr",
          "text": [
            "/usr/local/lib/python3.7/dist-packages/numpy/core/fromnumeric.py:3441: RuntimeWarning: Mean of empty slice.\n",
            "  out=out, **kwargs)\n",
            "/usr/local/lib/python3.7/dist-packages/numpy/core/_methods.py:189: RuntimeWarning: invalid value encountered in double_scalars\n",
            "  ret = ret.dtype.type(ret / rcount)\n"
          ]
        }
      ],
      "source": [
        "nears = {}\n",
        "for key in all_sound_vectors[25].keys():\n",
        "  s = np.argsort(np.mean(all_sound_vectors2[25][key], axis=0))\n",
        "  nears[key] = [convenient_vocab[index] for index in s[-20:]]"
      ]
    },
    {
      "cell_type": "markdown",
      "source": [
        "### Сходства векторов"
      ],
      "metadata": {
        "id": "uGy73iW58VpH"
      }
    },
    {
      "cell_type": "markdown",
      "source": [
        "Создание таблицы, где строки и столбцы - это звуки, а пересечения - это степень уверенности модели, что звук строки похож на звук столбца"
      ],
      "metadata": {
        "id": "mfUuS3rGUloP"
      }
    },
    {
      "cell_type": "code",
      "execution_count": null,
      "metadata": {
        "id": "XiQ_PErKY1Nx"
      },
      "outputs": [],
      "source": [
        "means = {}\n",
        "keys = all_sound_vectors[25].keys()\n",
        "for key in vocab.keys():\n",
        "  if key in keys:\n",
        "    values = all_sound_vectors[25][key]\n",
        "    mean_val = np.mean(values, axis=0)\n",
        "    means[key] = mean_val\n",
        "  else:\n",
        "   means[key] = np.zeros(392)"
      ]
    },
    {
      "cell_type": "code",
      "execution_count": null,
      "metadata": {
        "id": "-JWzdIu2Xd-L"
      },
      "outputs": [],
      "source": [
        "data = means\n",
        "index = list(vocab.keys())\n",
        "columns = list(vocab.keys())\n",
        "df = pd.DataFrame(data=means, index=index, columns=columns)"
      ]
    },
    {
      "cell_type": "markdown",
      "source": [
        "Оставляю только те строки, которые встречаются в словаре модели Wav2Vec и делю данные на две таблицы: для гласных и для согласных"
      ],
      "metadata": {
        "id": "-tJHmUlg82_o"
      }
    },
    {
      "cell_type": "code",
      "execution_count": null,
      "metadata": {
        "id": "_IHdCiMdl1hG"
      },
      "outputs": [],
      "source": [
        "new_df = df.T\n",
        "end = new_df[new_df['<s>']!=0]"
      ]
    },
    {
      "cell_type": "code",
      "execution_count": null,
      "metadata": {
        "id": "pSG6o2zosK4R"
      },
      "outputs": [],
      "source": [
        "vowel_cols = []\n",
        "cons_cols = []\n",
        "for col in end.columns:\n",
        "  for sound in ipa_vowels:\n",
        "    if col.startswith(sound):\n",
        "      if col not in vowel_cols:\n",
        "        vowel_cols.append(col)\n",
        "for col in end.columns:\n",
        "  if col not in vowel_cols:\n",
        "    cons_cols.append(col)"
      ]
    },
    {
      "cell_type": "code",
      "execution_count": null,
      "metadata": {
        "id": "Fr2rIPGrv5aM"
      },
      "outputs": [],
      "source": [
        "df_vowels = pd.DataFrame(columns = end.columns)\n",
        "df_cons = pd.DataFrame(columns = end.columns)"
      ]
    },
    {
      "cell_type": "code",
      "execution_count": null,
      "metadata": {
        "id": "FgB8aAX5ta3I"
      },
      "outputs": [],
      "source": [
        "for i, row in end.iterrows():\n",
        "  if i in vowel_cols:\n",
        "    df_vowels.loc[i] = row\n",
        "  else:\n",
        "    df_cons.loc[i] = row"
      ]
    },
    {
      "cell_type": "markdown",
      "source": [
        "Дальше я чищу таблицу, чтобы избавиться от тех столбцов, большинство значений в которых очень низкие, то есть в основном нет звуков из словаря, которые были бы похожи на звук из столбца"
      ],
      "metadata": {
        "id": "8bP5kPioM3HP"
      }
    },
    {
      "cell_type": "code",
      "execution_count": null,
      "metadata": {
        "id": "m2Qm3Ylnyl9W"
      },
      "outputs": [],
      "source": [
        "del_cols_vows = []\n",
        "del_cols_cons = []\n",
        "for col in vowel_cols:\n",
        "  if (df_vowels[col] < -1).sum() > (df_vowels[col] > -1).sum():\n",
        "    del_cols_vows.append(col)\n",
        "for col in cons_cols:\n",
        "  if (df_cons[col] < 0).sum() > (df_cons[col] > -1.5).sum():\n",
        "    del_cols_cons.append(col)\n",
        "del_cols_cons.append('<s>')"
      ]
    },
    {
      "cell_type": "code",
      "execution_count": null,
      "metadata": {
        "id": "Qd6mp6GmyxLY"
      },
      "outputs": [],
      "source": [
        "needed_cols_vows = []\n",
        "needed_cols_cons = []\n",
        "for col in vowel_cols:\n",
        "  if col not in del_cols_vows:\n",
        "    needed_cols_vows.append(col)\n",
        "for col in cons_cols:\n",
        "  if col not in del_cols_cons:\n",
        "    needed_cols_cons.append(col)"
      ]
    },
    {
      "cell_type": "code",
      "execution_count": null,
      "metadata": {
        "id": "s_Lkb-JMseTG",
        "colab": {
          "base_uri": "https://localhost:8080/",
          "height": 621
        },
        "outputId": "711b6991-7eb7-4e69-83f0-a247965cadca"
      },
      "outputs": [
        {
          "output_type": "display_data",
          "data": {
            "text/plain": [
              "<Figure size 1440x720 with 2 Axes>"
            ],
            "image/png": "[encoded data removed]"
          },
          "metadata": {
            "needs_background": "light"
          }
        }
      ],
      "source": [
        "plt.figure(figsize=(20,10))\n",
        "sns.heatmap(df_vowels[needed_cols_vows], cmap='coolwarm')\n",
        "plt.xlabel('Похожие звуки')\n",
        "plt.ylabel('Встретившиеся звуки')\n",
        "plt.title('График похожести гласных')\n",
        "plt.savefig(fname='a.pdf', format='pdf')"
      ]
    },
    {
      "cell_type": "code",
      "execution_count": null,
      "metadata": {
        "colab": {
          "base_uri": "https://localhost:8080/",
          "height": 641
        },
        "id": "7Wsw1YpP2qPj",
        "outputId": "12bf18c3-f085-45df-bc48-259057f81c4e"
      },
      "outputs": [
        {
          "output_type": "execute_result",
          "data": {
            "text/plain": [
              "Text(0.5, 1.0, 'График похожести согласных')"
            ]
          },
          "metadata": {},
          "execution_count": 41
        },
        {
          "output_type": "display_data",
          "data": {
            "text/plain": [
              "<Figure size 1440x720 with 2 Axes>"
            ],
            "image/png": "[encoded data removed]"
          },
          "metadata": {
            "needs_background": "light"
          }
        }
      ],
      "source": [
        "plt.figure(figsize=(20,10))\n",
        "sns.heatmap(df_cons[needed_cols_cons], cmap='coolwarm')\n",
        "plt.xlabel('Похожие звуки')\n",
        "plt.ylabel('Встретившиеся звуки')\n",
        "plt.title('График похожести согласных')"
      ]
    },
    {
      "cell_type": "code",
      "execution_count": null,
      "metadata": {
        "colab": {
          "base_uri": "https://localhost:8080/"
        },
        "id": "xabCSDZ9oT0g",
        "outputId": "d55d56d6-1cce-4d37-9715-cf9003ad77b6"
      },
      "outputs": [
        {
          "name": "stdout",
          "output_type": "stream",
          "text": [
            "p\n",
            "p b k t <pad> pʲ f m v β i n o ʋ pː q a ʌ tʲ d\n",
            "ɛ\n",
            "ɛ e eː æ a ə ɪ ɑ eɪ ʌ <pad> aɪ aː ɛː i ø ɐ ɑː œ ɜ\n",
            "t\n",
            "t d tː <pad> ts tʲ t[ k tʃ s p n ɾ z l θ c ð dʲ i\n",
            "o\n",
            "o oː ɔ u ʌ a ɑ ʊ oʊ <pad> uː ɵ oɪ e ɯ ʉ ə v aʊ ɭ\n",
            "m\n",
            "m n <pad> mʲ v b ŋ ɲ p u i l nʲ o ə f h a r e\n",
            "u\n",
            "u uː ʊ o oː y <pad> ɵ ʉ ʌ oʊ ɯ i ɔ a v w iː ɭ ũ\n",
            "ʌ\n",
            "ʌ a ə o <pad> ɑ ɐ e ɛ ɔ y ɪ oː ɯ u ʊ ʉ i æ ɑː\n",
            "a\n",
            "a ʌ ɑ aː ɑː ɐ ɛ ɔ e <pad> o æ ə aɪ eː aʊ oː ɜ v r\n",
            "k\n",
            "k ɡ <pad> x p t kː q kʲ ç tʲ tʃ ɾ ɣ kh r a f ʌ i\n",
            "ʒ\n",
            "ʒ dʒ z ʃ r tʃ S rʲ v y ʑ ɹ <pad> tʃʲ r̝ r̝̊ sʲ dʲ vʲ s\n",
            "d\n",
            "d t ð <pad> z d[ dʲ b ɡ ɟ dʒ tː n l v r ɖ ɫ ɭ t[\n",
            "l\n",
            "l ɭ <pad> ʎ ɭʲ ɫ r d v n z ɟ ɾ l̩ j o ɹ d[ t e\n",
            "n\n",
            "n <pad> m ŋ ɲ d l nʲ t r ə i z a e s mʲ ɭ iː p\n",
            "v\n",
            "v <pad> b f vʲ m β p ɡ ʌ r l w u ɭ y ɹ z ð h\n",
            "ʃ\n",
            "ʃ tʃ ɕ ʒ s tʃʲ <pad> s. S sʲ ç dʒ r̝̊ f z x ʂ ts ɨ r̝\n",
            "y\n",
            "y ɪ u i ʌ ʉ ɯ ʊ uː ɵ ø e o ə <pad> oː ɨ øː yː ja\n",
            "b\n",
            "b v p d ɡ m β bʲ ʋ <pad> pʲ vʲ mʲ ɟ w l bː k t u\n",
            "r\n",
            "r ɾ ɹ <pad> rʲ d l n v h ɭ t ʌ ʒ a ɡ b ɑ i dʒ\n",
            "ɡ\n",
            "ɡ k d b ɣ v ɟ <pad> kː eː dʒ ç r h ŋ ɲ j iː x dʲ\n",
            "ɑ\n",
            "ɑ a aː ʌ ɑː ɔ ɛ o æ oː aɪ aʊ <pad> e eː ɐ v h ɯ ə\n",
            "ɲ\n",
            "ɲ nʲ n mʲ ŋ m dʲ <pad> iː i eɪ ɟ ɭʲ ʎ eː ɳ dʒ vʲ ɭ e\n",
            "i\n",
            "i ɪ iː e <pad> ɨ eː y j ɛ a ə eɪ ʌ ø u ɯ ʉ ja aɪ\n",
            "s\n",
            "s z ts sʲ ʃ <pad> θ t ɕ f s^ e ʂ tʃ tʲ ʒ i a s̪ r̝̊\n",
            "x\n",
            "x h k <pad> ç ɣ q ɡ f χ ɬ ʁ ħ kh θ r ts 1 aʊ sʲ\n",
            "dʲ\n",
            "dʲ d ɟ dʒ tʲ d[ ɭʲ nʲ rʲ vʲ c ʎ dZ tː ɡ ɡʲ ɲ bʲ ʒ ɭ\n",
            "e\n",
            "e eː ɛ i ɪ a eɪ <pad> ə ɨ iː ʌ æ ø ɑ aɪ ja o j aː\n",
            "aɪ\n",
            "aɪ a æ aː eː ɛ eɪ ɑ ɑː ɑɨ e ʌ iː aʊ <pad> aɨ ɐ ɪ ɜ h\n",
            "z\n",
            "z s ʒ <pad> ts d v t sʲ ð e dʒ ɭ y l ʃ ɪ iː ʌ j\n",
            "ɪ\n",
            "ɪ i e iː <pad> ə y ʌ eː ɛ ɨ ø ᵻ eɪ a ɯ ʉ ja j æ\n",
            "tʃ\n",
            "tʃ tʃʲ ʃ dʒ ɕ tʲ r̝̊ c ç sʲ t ʒ t[ tS ts S ɟ tɕ <pad> kʲ\n",
            "tʲ\n",
            "tʲ t tʃ dʲ tʃʲ t[ tː c sʲ ts kʲ r̝̊ ɟ pʲ dʒ rʲ ɭʲ tɕ ʈ nʲ\n",
            "aː\n",
            "aː a ɑ ɑː aɪ æ eː ɛ aʊ <pad> ʌ e h ɑɨ aɨ ɔ oː ɛ̃ ʕ iː\n",
            "j\n",
            "j <pad> i iː ɪ ʎ e l ɲ ja eː ɭʲ vʲ ɟ ɭ h ɡ nʲ r ɨ\n",
            "ə\n",
            "ə ʌ ɪ <pad> ɛ a e ɯ y ʊ ø ɐ eː ɔ ʉ i æ o ɜ ɨ\n",
            "uː\n",
            "uː u oː ʊ oʊ o y ʉ ɵ <pad> uɨ iː ɯ ɔ oɪ ø w yː v ũ\n",
            "oː\n",
            "oː o ɔ oʊ uː oɪ u ʊ aʊ ʌ ɵ ʉ ɑː ɑ uɨ ɔː ɯ ɔɨ ø ɐ̃ʊ̃\n",
            "ɔ\n",
            "ɔ oː o a ʌ ɑ ɑː oʊ aʊ ə ʊ <pad> u ɛ ɯ aː ɜ ɔː ʉ ɐ\n",
            "iː\n",
            "iː i ɪ eː <pad> e ɨ j eɪ aɪ ɛ ɲ ø ə a əɪ uː i5 z ᵻ\n",
            "f\n",
            "f v <pad> p x s t k θ ts m ʃ h b ʌ r β z vʲ u\n",
            "eː\n",
            "eː e ɛ eɪ iː ɪ i aɪ æ ø a ɨ <pad> ɛː aː ɲ əɪ j ə h\n",
            "ts\n",
            "ts s t z θ sʲ tʲ tʃ <pad> f tː tɕ r̝̊ ʂ x s̪ t[ tsh s^ ʃ\n",
            "ʊ\n",
            "ʊ u o uː oː ə ʌ y <pad> ɔ ʉ ɯ oʊ a ɵ i ø ɪ ɨ ɐ\n",
            "ɾ\n",
            "ɾ <pad> r l ɹ d ə ɛ t e a k n i j rʲ ʁ ɐ s ɡ\n",
            "ɟ\n",
            "ɟ dʒ dʲ ɡ ʎ j tʃ ɲ c ɣ d tʲ ɡʲ ç ʑ vʲ kː ɭʲ ɬ ʒ\n",
            "w\n",
            "w v <pad> b u uː β ɹ m l h o ɡ ʊ f oː ɔ p ɣ j\n",
            "dʒ\n",
            "dʒ dʲ ɟ d tʃ ʒ d[ dZ c rʲ tʲ ʎ ɡ ɲ ʑ ɭʲ tʃʲ tː nʲ vʲ\n",
            "ð\n",
            "ð d t v z <pad> l b s n θ ɡ ə a e m ʌ r ɾ tː\n",
            "sʲ\n",
            "sʲ s ɕ tʲ ʃ tʃʲ θ ts tʃ ʂ ʑ ç s^ r̝̊ ʒ z S nʲ vʲ ɭʲ\n",
            "ɭʲ\n",
            "ɭʲ ɭ ʎ l rʲ dʲ ɟ vʲ <pad> ɫ ɲ l̩ j d[ nʲ tʲ ju ɡʲ ja ɖ\n",
            "ɭ\n",
            "ɭ l ɭʲ ʎ <pad> ɫ v l̩ z d[ dʲ ɟ rʲ ʌ vʲ r d o ɖ ɯ\n",
            "h\n",
            "h <pad> x r v ɡ a k ʁ eː j b f ɑ ɾ t s m n aː\n",
            "rʲ\n",
            "rʲ r ɾ ɹ ɭʲ ɭ <pad> ʒ vʲ dʲ dʒ ʎ d ɖ r̝ nʲ bʲ r̝̊ ɟ tʲ\n",
            "nʲ\n",
            "nʲ ɲ n mʲ dʲ ŋ ɭʲ vʲ <pad> i rʲ m eɪ ɭ ɟ ʎ ɳ iː tʲ ju\n",
            "ɕ\n",
            "ɕ ʃ sʲ tʃʲ tʃ ç s ʒ tʲ ʑ θ r̝̊ ʂ S ɬ x nʲ s^ dʒ c\n",
            "ø\n",
            "ø y oː øː yː œ ɪ eː ə ʉ uː oʊ ɵ ʌ ɔ ɛ uɨ ɯ ɚ ɔɨ\n",
            "ɜ\n",
            "ɜ ə ɔ ɑː ʌ oː ɚ a aʊ ɛ æ ɐ aɪ œ ø oʊ əl <pad> ɑ ɔɨ\n",
            "æ\n",
            "æ ɛ aɪ a aː eː ʌ ɑ e eɪ ɑː ɪ ɛː ɑɨ ja ɐ aʊ ɜ <pad> ɛ̃\n",
            "ç\n",
            "ç x ɕ sʲ ʃ tʃʲ ɬ tʃ tʲ ɪ ɣ θ iː j <pad> ʎ eː s h ʒ\n",
            "mʲ\n",
            "mʲ m nʲ ɲ vʲ b bʲ ɭʲ v y n dʲ ŋ ja i ju rʲ eɪ ɭ β\n",
            "oɪ\n",
            "oɪ oː o oʊ ɔ ɵ aʊ y uː ɐ̃ʊ̃ œ øː ʉ ɔɨ ɔø ɐ̃ ɭ ɔ̃ eʊ ɯ\n",
            "ŋ\n",
            "ŋ <pad> n m ɲ nʲ mʲ ɡ k u iː i v ɪ ũ uː ɭ r j ə\n",
            "ɹ\n",
            "ɹ r rʲ ɾ <pad> ɚ ɭʲ ʒ dʒ ɛ d ʁ ɭ ʌ ə vʲ v ɖ ɜː i\n",
            "tʃʲ\n",
            "tʃʲ tʃ ɕ tʲ sʲ ʃ ʒ dʲ dʒ r̝̊ ʑ rʲ nʲ c S ɭʲ kʲ ç ʂ tS\n",
            "ɐ\n",
            "ɐ a ʌ ə aɪ ɛ æ ɜ <pad> ɑː ɑ ɔ aʊ ɪ e ɾ eː ɚ eɪ ɐ̃\n",
            "ʎ\n",
            "ʎ ɭʲ ɭ l j rʲ ɲ ɟ dʲ vʲ <pad> tʲ nʲ ja ɣ e sʲ i ʒ ʑ\n",
            "aʊ\n",
            "aʊ ɑː ɔ oː oʊ ɔː aɪ ɑ ɜ ɑːɹ aː ɑɨ a ʌ ɔːɹ aɨ ɔɨ uː ɔø æ\n",
            "ɑː\n",
            "ɑː a ɔ ʌ aʊ aɪ oː ɜ æ ə ɐ ɑ aː oʊ ɔː ɑːɹ ɛ v ɑɨ əl\n"
          ]
        }
      ],
      "source": [
        "for k, v in nears.items():\n",
        "  print(k)\n",
        "  print(*v[-1::-1])"
      ]
    }
  ],
  "metadata": {
    "colab": {
      "collapsed_sections": [],
      "name": "Experiments_on_sound_properties.ipynb",
      "provenance": []
    },
    "kernelspec": {
      "display_name": "Python 3",
      "name": "python3"
    },
    "language_info": {
      "name": "python"
    }
  },
  "nbformat": 4,
  "nbformat_minor": 0
}