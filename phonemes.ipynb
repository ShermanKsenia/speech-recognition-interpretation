{
  "nbformat": 4,
  "nbformat_minor": 0,
  "metadata": {
    "colab": {
      "name": "phonemes.ipynb",
      "provenance": [],
      "collapsed_sections": []
    },
    "kernelspec": {
      "name": "python3",
      "display_name": "Python 3"
    },
    "language_info": {
      "name": "python"
    },
    "widgets": {
      "application/vnd.jupyter.widget-state+json": {
        "ed945d88d5b34541a5b0fd5b1b21dee2": {
          "model_module": "@jupyter-widgets/controls",
          "model_name": "HBoxModel",
          "model_module_version": "1.5.0",
          "state": {
            "_dom_classes": [],
            "_model_module": "@jupyter-widgets/controls",
            "_model_module_version": "1.5.0",
            "_model_name": "HBoxModel",
            "_view_count": null,
            "_view_module": "@jupyter-widgets/controls",
            "_view_module_version": "1.5.0",
            "_view_name": "HBoxView",
            "box_style": "",
            "children": [
              "IPY_MODEL_9b8f733ac98e41dcb7c1a1706cc1519a",
              "IPY_MODEL_283e516193194dbd8e81da7accd7a893",
              "IPY_MODEL_d939c8c771db420fb5742f4b174e5762"
            ],
            "layout": "IPY_MODEL_288b323c922c460bb279ca68a277a46d"
          }
        },
        "9b8f733ac98e41dcb7c1a1706cc1519a": {
          "model_module": "@jupyter-widgets/controls",
          "model_name": "HTMLModel",
          "model_module_version": "1.5.0",
          "state": {
            "_dom_classes": [],
            "_model_module": "@jupyter-widgets/controls",
            "_model_module_version": "1.5.0",
            "_model_name": "HTMLModel",
            "_view_count": null,
            "_view_module": "@jupyter-widgets/controls",
            "_view_module_version": "1.5.0",
            "_view_name": "HTMLView",
            "description": "",
            "description_tooltip": null,
            "layout": "IPY_MODEL_601f11cb827147618efd3788ebfb0bbe",
            "placeholder": "​",
            "style": "IPY_MODEL_64fcb14be1c142aaa95a571b63e42b1c",
            "value": "Downloading: 100%"
          }
        },
        "283e516193194dbd8e81da7accd7a893": {
          "model_module": "@jupyter-widgets/controls",
          "model_name": "FloatProgressModel",
          "model_module_version": "1.5.0",
          "state": {
            "_dom_classes": [],
            "_model_module": "@jupyter-widgets/controls",
            "_model_module_version": "1.5.0",
            "_model_name": "FloatProgressModel",
            "_view_count": null,
            "_view_module": "@jupyter-widgets/controls",
            "_view_module_version": "1.5.0",
            "_view_name": "ProgressView",
            "bar_style": "success",
            "description": "",
            "description_tooltip": null,
            "layout": "IPY_MODEL_086596fbe8824c5ca25f23b7db59dbeb",
            "max": 1856,
            "min": 0,
            "orientation": "horizontal",
            "style": "IPY_MODEL_018aaca33cd1460d95e5fffa7ad6236a",
            "value": 1856
          }
        },
        "d939c8c771db420fb5742f4b174e5762": {
          "model_module": "@jupyter-widgets/controls",
          "model_name": "HTMLModel",
          "model_module_version": "1.5.0",
          "state": {
            "_dom_classes": [],
            "_model_module": "@jupyter-widgets/controls",
            "_model_module_version": "1.5.0",
            "_model_name": "HTMLModel",
            "_view_count": null,
            "_view_module": "@jupyter-widgets/controls",
            "_view_module_version": "1.5.0",
            "_view_name": "HTMLView",
            "description": "",
            "description_tooltip": null,
            "layout": "IPY_MODEL_8c1566f045764cac9c3a5f4d25e1ff14",
            "placeholder": "​",
            "style": "IPY_MODEL_10e2b66bc7dc4dc89f498baf40d6ceca",
            "value": " 1.81k/1.81k [00:00&lt;00:00, 22.2kB/s]"
          }
        },
        "288b323c922c460bb279ca68a277a46d": {
          "model_module": "@jupyter-widgets/base",
          "model_name": "LayoutModel",
          "model_module_version": "1.2.0",
          "state": {
            "_model_module": "@jupyter-widgets/base",
            "_model_module_version": "1.2.0",
            "_model_name": "LayoutModel",
            "_view_count": null,
            "_view_module": "@jupyter-widgets/base",
            "_view_module_version": "1.2.0",
            "_view_name": "LayoutView",
            "align_content": null,
            "align_items": null,
            "align_self": null,
            "border": null,
            "bottom": null,
            "display": null,
            "flex": null,
            "flex_flow": null,
            "grid_area": null,
            "grid_auto_columns": null,
            "grid_auto_flow": null,
            "grid_auto_rows": null,
            "grid_column": null,
            "grid_gap": null,
            "grid_row": null,
            "grid_template_areas": null,
            "grid_template_columns": null,
            "grid_template_rows": null,
            "height": null,
            "justify_content": null,
            "justify_items": null,
            "left": null,
            "margin": null,
            "max_height": null,
            "max_width": null,
            "min_height": null,
            "min_width": null,
            "object_fit": null,
            "object_position": null,
            "order": null,
            "overflow": null,
            "overflow_x": null,
            "overflow_y": null,
            "padding": null,
            "right": null,
            "top": null,
            "visibility": null,
            "width": null
          }
        },
        "601f11cb827147618efd3788ebfb0bbe": {
          "model_module": "@jupyter-widgets/base",
          "model_name": "LayoutModel",
          "model_module_version": "1.2.0",
          "state": {
            "_model_module": "@jupyter-widgets/base",
            "_model_module_version": "1.2.0",
            "_model_name": "LayoutModel",
            "_view_count": null,
            "_view_module": "@jupyter-widgets/base",
            "_view_module_version": "1.2.0",
            "_view_name": "LayoutView",
            "align_content": null,
            "align_items": null,
            "align_self": null,
            "border": null,
            "bottom": null,
            "display": null,
            "flex": null,
            "flex_flow": null,
            "grid_area": null,
            "grid_auto_columns": null,
            "grid_auto_flow": null,
            "grid_auto_rows": null,
            "grid_column": null,
            "grid_gap": null,
            "grid_row": null,
            "grid_template_areas": null,
            "grid_template_columns": null,
            "grid_template_rows": null,
            "height": null,
            "justify_content": null,
            "justify_items": null,
            "left": null,
            "margin": null,
            "max_height": null,
            "max_width": null,
            "min_height": null,
            "min_width": null,
            "object_fit": null,
            "object_position": null,
            "order": null,
            "overflow": null,
            "overflow_x": null,
            "overflow_y": null,
            "padding": null,
            "right": null,
            "top": null,
            "visibility": null,
            "width": null
          }
        },
        "64fcb14be1c142aaa95a571b63e42b1c": {
          "model_module": "@jupyter-widgets/controls",
          "model_name": "DescriptionStyleModel",
          "model_module_version": "1.5.0",
          "state": {
            "_model_module": "@jupyter-widgets/controls",
            "_model_module_version": "1.5.0",
            "_model_name": "DescriptionStyleModel",
            "_view_count": null,
            "_view_module": "@jupyter-widgets/base",
            "_view_module_version": "1.2.0",
            "_view_name": "StyleView",
            "description_width": ""
          }
        },
        "086596fbe8824c5ca25f23b7db59dbeb": {
          "model_module": "@jupyter-widgets/base",
          "model_name": "LayoutModel",
          "model_module_version": "1.2.0",
          "state": {
            "_model_module": "@jupyter-widgets/base",
            "_model_module_version": "1.2.0",
            "_model_name": "LayoutModel",
            "_view_count": null,
            "_view_module": "@jupyter-widgets/base",
            "_view_module_version": "1.2.0",
            "_view_name": "LayoutView",
            "align_content": null,
            "align_items": null,
            "align_self": null,
            "border": null,
            "bottom": null,
            "display": null,
            "flex": null,
            "flex_flow": null,
            "grid_area": null,
            "grid_auto_columns": null,
            "grid_auto_flow": null,
            "grid_auto_rows": null,
            "grid_column": null,
            "grid_gap": null,
            "grid_row": null,
            "grid_template_areas": null,
            "grid_template_columns": null,
            "grid_template_rows": null,
            "height": null,
            "justify_content": null,
            "justify_items": null,
            "left": null,
            "margin": null,
            "max_height": null,
            "max_width": null,
            "min_height": null,
            "min_width": null,
            "object_fit": null,
            "object_position": null,
            "order": null,
            "overflow": null,
            "overflow_x": null,
            "overflow_y": null,
            "padding": null,
            "right": null,
            "top": null,
            "visibility": null,
            "width": null
          }
        },
        "018aaca33cd1460d95e5fffa7ad6236a": {
          "model_module": "@jupyter-widgets/controls",
          "model_name": "ProgressStyleModel",
          "model_module_version": "1.5.0",
          "state": {
            "_model_module": "@jupyter-widgets/controls",
            "_model_module_version": "1.5.0",
            "_model_name": "ProgressStyleModel",
            "_view_count": null,
            "_view_module": "@jupyter-widgets/base",
            "_view_module_version": "1.2.0",
            "_view_name": "StyleView",
            "bar_color": null,
            "description_width": ""
          }
        },
        "8c1566f045764cac9c3a5f4d25e1ff14": {
          "model_module": "@jupyter-widgets/base",
          "model_name": "LayoutModel",
          "model_module_version": "1.2.0",
          "state": {
            "_model_module": "@jupyter-widgets/base",
            "_model_module_version": "1.2.0",
            "_model_name": "LayoutModel",
            "_view_count": null,
            "_view_module": "@jupyter-widgets/base",
            "_view_module_version": "1.2.0",
            "_view_name": "LayoutView",
            "align_content": null,
            "align_items": null,
            "align_self": null,
            "border": null,
            "bottom": null,
            "display": null,
            "flex": null,
            "flex_flow": null,
            "grid_area": null,
            "grid_auto_columns": null,
            "grid_auto_flow": null,
            "grid_auto_rows": null,
            "grid_column": null,
            "grid_gap": null,
            "grid_row": null,
            "grid_template_areas": null,
            "grid_template_columns": null,
            "grid_template_rows": null,
            "height": null,
            "justify_content": null,
            "justify_items": null,
            "left": null,
            "margin": null,
            "max_height": null,
            "max_width": null,
            "min_height": null,
            "min_width": null,
            "object_fit": null,
            "object_position": null,
            "order": null,
            "overflow": null,
            "overflow_x": null,
            "overflow_y": null,
            "padding": null,
            "right": null,
            "top": null,
            "visibility": null,
            "width": null
          }
        },
        "10e2b66bc7dc4dc89f498baf40d6ceca": {
          "model_module": "@jupyter-widgets/controls",
          "model_name": "DescriptionStyleModel",
          "model_module_version": "1.5.0",
          "state": {
            "_model_module": "@jupyter-widgets/controls",
            "_model_module_version": "1.5.0",
            "_model_name": "DescriptionStyleModel",
            "_view_count": null,
            "_view_module": "@jupyter-widgets/base",
            "_view_module_version": "1.2.0",
            "_view_name": "StyleView",
            "description_width": ""
          }
        },
        "5dcef8269864405f8e7f5af1f0f2b624": {
          "model_module": "@jupyter-widgets/controls",
          "model_name": "HBoxModel",
          "model_module_version": "1.5.0",
          "state": {
            "_dom_classes": [],
            "_model_module": "@jupyter-widgets/controls",
            "_model_module_version": "1.5.0",
            "_model_name": "HBoxModel",
            "_view_count": null,
            "_view_module": "@jupyter-widgets/controls",
            "_view_module_version": "1.5.0",
            "_view_name": "HBoxView",
            "box_style": "",
            "children": [
              "IPY_MODEL_ab826652e28449d3b5cd842c3393f6de",
              "IPY_MODEL_fa1b5e9ce7ae4a779aa5351ac6d1a153",
              "IPY_MODEL_e756f91d2ea448dfb329433b1d8b0807"
            ],
            "layout": "IPY_MODEL_9697ec575d60498b858cc907b8c8f11a"
          }
        },
        "ab826652e28449d3b5cd842c3393f6de": {
          "model_module": "@jupyter-widgets/controls",
          "model_name": "HTMLModel",
          "model_module_version": "1.5.0",
          "state": {
            "_dom_classes": [],
            "_model_module": "@jupyter-widgets/controls",
            "_model_module_version": "1.5.0",
            "_model_name": "HTMLModel",
            "_view_count": null,
            "_view_module": "@jupyter-widgets/controls",
            "_view_module_version": "1.5.0",
            "_view_name": "HTMLView",
            "description": "",
            "description_tooltip": null,
            "layout": "IPY_MODEL_013fe0864deb4ef59d8f901b30ffa3e6",
            "placeholder": "​",
            "style": "IPY_MODEL_c92377f28f64472ab4be61a44ae4f80e",
            "value": "Downloading: 100%"
          }
        },
        "fa1b5e9ce7ae4a779aa5351ac6d1a153": {
          "model_module": "@jupyter-widgets/controls",
          "model_name": "FloatProgressModel",
          "model_module_version": "1.5.0",
          "state": {
            "_dom_classes": [],
            "_model_module": "@jupyter-widgets/controls",
            "_model_module_version": "1.5.0",
            "_model_name": "FloatProgressModel",
            "_view_count": null,
            "_view_module": "@jupyter-widgets/controls",
            "_view_module_version": "1.5.0",
            "_view_name": "ProgressView",
            "bar_style": "success",
            "description": "",
            "description_tooltip": null,
            "layout": "IPY_MODEL_3c240d131e5145598496ea53f91f4411",
            "max": 1263535127,
            "min": 0,
            "orientation": "horizontal",
            "style": "IPY_MODEL_fd0a9347c1004c5eb878a50aa5e72b9a",
            "value": 1263535127
          }
        },
        "e756f91d2ea448dfb329433b1d8b0807": {
          "model_module": "@jupyter-widgets/controls",
          "model_name": "HTMLModel",
          "model_module_version": "1.5.0",
          "state": {
            "_dom_classes": [],
            "_model_module": "@jupyter-widgets/controls",
            "_model_module_version": "1.5.0",
            "_model_name": "HTMLModel",
            "_view_count": null,
            "_view_module": "@jupyter-widgets/controls",
            "_view_module_version": "1.5.0",
            "_view_name": "HTMLView",
            "description": "",
            "description_tooltip": null,
            "layout": "IPY_MODEL_3b75487eea55401db6b7c72a35cb4689",
            "placeholder": "​",
            "style": "IPY_MODEL_bb744b91f1e74b7aa8f075104d6784d7",
            "value": " 1.18G/1.18G [00:53&lt;00:00, 26.5MB/s]"
          }
        },
        "9697ec575d60498b858cc907b8c8f11a": {
          "model_module": "@jupyter-widgets/base",
          "model_name": "LayoutModel",
          "model_module_version": "1.2.0",
          "state": {
            "_model_module": "@jupyter-widgets/base",
            "_model_module_version": "1.2.0",
            "_model_name": "LayoutModel",
            "_view_count": null,
            "_view_module": "@jupyter-widgets/base",
            "_view_module_version": "1.2.0",
            "_view_name": "LayoutView",
            "align_content": null,
            "align_items": null,
            "align_self": null,
            "border": null,
            "bottom": null,
            "display": null,
            "flex": null,
            "flex_flow": null,
            "grid_area": null,
            "grid_auto_columns": null,
            "grid_auto_flow": null,
            "grid_auto_rows": null,
            "grid_column": null,
            "grid_gap": null,
            "grid_row": null,
            "grid_template_areas": null,
            "grid_template_columns": null,
            "grid_template_rows": null,
            "height": null,
            "justify_content": null,
            "justify_items": null,
            "left": null,
            "margin": null,
            "max_height": null,
            "max_width": null,
            "min_height": null,
            "min_width": null,
            "object_fit": null,
            "object_position": null,
            "order": null,
            "overflow": null,
            "overflow_x": null,
            "overflow_y": null,
            "padding": null,
            "right": null,
            "top": null,
            "visibility": null,
            "width": null
          }
        },
        "013fe0864deb4ef59d8f901b30ffa3e6": {
          "model_module": "@jupyter-widgets/base",
          "model_name": "LayoutModel",
          "model_module_version": "1.2.0",
          "state": {
            "_model_module": "@jupyter-widgets/base",
            "_model_module_version": "1.2.0",
            "_model_name": "LayoutModel",
            "_view_count": null,
            "_view_module": "@jupyter-widgets/base",
            "_view_module_version": "1.2.0",
            "_view_name": "LayoutView",
            "align_content": null,
            "align_items": null,
            "align_self": null,
            "border": null,
            "bottom": null,
            "display": null,
            "flex": null,
            "flex_flow": null,
            "grid_area": null,
            "grid_auto_columns": null,
            "grid_auto_flow": null,
            "grid_auto_rows": null,
            "grid_column": null,
            "grid_gap": null,
            "grid_row": null,
            "grid_template_areas": null,
            "grid_template_columns": null,
            "grid_template_rows": null,
            "height": null,
            "justify_content": null,
            "justify_items": null,
            "left": null,
            "margin": null,
            "max_height": null,
            "max_width": null,
            "min_height": null,
            "min_width": null,
            "object_fit": null,
            "object_position": null,
            "order": null,
            "overflow": null,
            "overflow_x": null,
            "overflow_y": null,
            "padding": null,
            "right": null,
            "top": null,
            "visibility": null,
            "width": null
          }
        },
        "c92377f28f64472ab4be61a44ae4f80e": {
          "model_module": "@jupyter-widgets/controls",
          "model_name": "DescriptionStyleModel",
          "model_module_version": "1.5.0",
          "state": {
            "_model_module": "@jupyter-widgets/controls",
            "_model_module_version": "1.5.0",
            "_model_name": "DescriptionStyleModel",
            "_view_count": null,
            "_view_module": "@jupyter-widgets/base",
            "_view_module_version": "1.2.0",
            "_view_name": "StyleView",
            "description_width": ""
          }
        },
        "3c240d131e5145598496ea53f91f4411": {
          "model_module": "@jupyter-widgets/base",
          "model_name": "LayoutModel",
          "model_module_version": "1.2.0",
          "state": {
            "_model_module": "@jupyter-widgets/base",
            "_model_module_version": "1.2.0",
            "_model_name": "LayoutModel",
            "_view_count": null,
            "_view_module": "@jupyter-widgets/base",
            "_view_module_version": "1.2.0",
            "_view_name": "LayoutView",
            "align_content": null,
            "align_items": null,
            "align_self": null,
            "border": null,
            "bottom": null,
            "display": null,
            "flex": null,
            "flex_flow": null,
            "grid_area": null,
            "grid_auto_columns": null,
            "grid_auto_flow": null,
            "grid_auto_rows": null,
            "grid_column": null,
            "grid_gap": null,
            "grid_row": null,
            "grid_template_areas": null,
            "grid_template_columns": null,
            "grid_template_rows": null,
            "height": null,
            "justify_content": null,
            "justify_items": null,
            "left": null,
            "margin": null,
            "max_height": null,
            "max_width": null,
            "min_height": null,
            "min_width": null,
            "object_fit": null,
            "object_position": null,
            "order": null,
            "overflow": null,
            "overflow_x": null,
            "overflow_y": null,
            "padding": null,
            "right": null,
            "top": null,
            "visibility": null,
            "width": null
          }
        },
        "fd0a9347c1004c5eb878a50aa5e72b9a": {
          "model_module": "@jupyter-widgets/controls",
          "model_name": "ProgressStyleModel",
          "model_module_version": "1.5.0",
          "state": {
            "_model_module": "@jupyter-widgets/controls",
            "_model_module_version": "1.5.0",
            "_model_name": "ProgressStyleModel",
            "_view_count": null,
            "_view_module": "@jupyter-widgets/base",
            "_view_module_version": "1.2.0",
            "_view_name": "StyleView",
            "bar_color": null,
            "description_width": ""
          }
        },
        "3b75487eea55401db6b7c72a35cb4689": {
          "model_module": "@jupyter-widgets/base",
          "model_name": "LayoutModel",
          "model_module_version": "1.2.0",
          "state": {
            "_model_module": "@jupyter-widgets/base",
            "_model_module_version": "1.2.0",
            "_model_name": "LayoutModel",
            "_view_count": null,
            "_view_module": "@jupyter-widgets/base",
            "_view_module_version": "1.2.0",
            "_view_name": "LayoutView",
            "align_content": null,
            "align_items": null,
            "align_self": null,
            "border": null,
            "bottom": null,
            "display": null,
            "flex": null,
            "flex_flow": null,
            "grid_area": null,
            "grid_auto_columns": null,
            "grid_auto_flow": null,
            "grid_auto_rows": null,
            "grid_column": null,
            "grid_gap": null,
            "grid_row": null,
            "grid_template_areas": null,
            "grid_template_columns": null,
            "grid_template_rows": null,
            "height": null,
            "justify_content": null,
            "justify_items": null,
            "left": null,
            "margin": null,
            "max_height": null,
            "max_width": null,
            "min_height": null,
            "min_width": null,
            "object_fit": null,
            "object_position": null,
            "order": null,
            "overflow": null,
            "overflow_x": null,
            "overflow_y": null,
            "padding": null,
            "right": null,
            "top": null,
            "visibility": null,
            "width": null
          }
        },
        "bb744b91f1e74b7aa8f075104d6784d7": {
          "model_module": "@jupyter-widgets/controls",
          "model_name": "DescriptionStyleModel",
          "model_module_version": "1.5.0",
          "state": {
            "_model_module": "@jupyter-widgets/controls",
            "_model_module_version": "1.5.0",
            "_model_name": "DescriptionStyleModel",
            "_view_count": null,
            "_view_module": "@jupyter-widgets/base",
            "_view_module_version": "1.2.0",
            "_view_name": "StyleView",
            "description_width": ""
          }
        },
        "648a5a0ec9de4b3fac5340d6ebc1710d": {
          "model_module": "@jupyter-widgets/controls",
          "model_name": "HBoxModel",
          "model_module_version": "1.5.0",
          "state": {
            "_dom_classes": [],
            "_model_module": "@jupyter-widgets/controls",
            "_model_module_version": "1.5.0",
            "_model_name": "HBoxModel",
            "_view_count": null,
            "_view_module": "@jupyter-widgets/controls",
            "_view_module_version": "1.5.0",
            "_view_name": "HBoxView",
            "box_style": "",
            "children": [
              "IPY_MODEL_874f3eb468df4f599c2fd150c0e5594c",
              "IPY_MODEL_247b5c45710547908825c9d44e7c41a7",
              "IPY_MODEL_d6bbbd26bc7e4e4084500e2407c58c97"
            ],
            "layout": "IPY_MODEL_4d8bfa9243c44a4b8b967b238ff1491e"
          }
        },
        "874f3eb468df4f599c2fd150c0e5594c": {
          "model_module": "@jupyter-widgets/controls",
          "model_name": "HTMLModel",
          "model_module_version": "1.5.0",
          "state": {
            "_dom_classes": [],
            "_model_module": "@jupyter-widgets/controls",
            "_model_module_version": "1.5.0",
            "_model_name": "HTMLModel",
            "_view_count": null,
            "_view_module": "@jupyter-widgets/controls",
            "_view_module_version": "1.5.0",
            "_view_name": "HTMLView",
            "description": "",
            "description_tooltip": null,
            "layout": "IPY_MODEL_c0511848554d459b88833fb4d24b471e",
            "placeholder": "​",
            "style": "IPY_MODEL_0521e41365b04501a4e8b35290264fee",
            "value": "Downloading: 100%"
          }
        },
        "247b5c45710547908825c9d44e7c41a7": {
          "model_module": "@jupyter-widgets/controls",
          "model_name": "FloatProgressModel",
          "model_module_version": "1.5.0",
          "state": {
            "_dom_classes": [],
            "_model_module": "@jupyter-widgets/controls",
            "_model_module_version": "1.5.0",
            "_model_name": "FloatProgressModel",
            "_view_count": null,
            "_view_module": "@jupyter-widgets/controls",
            "_view_module_version": "1.5.0",
            "_view_name": "ProgressView",
            "bar_style": "success",
            "description": "",
            "description_tooltip": null,
            "layout": "IPY_MODEL_7ee45e4fdb3c49bf96fd5a0883c952cd",
            "max": 212,
            "min": 0,
            "orientation": "horizontal",
            "style": "IPY_MODEL_831cc1a8318f4370a0ef1146bfe37a71",
            "value": 212
          }
        },
        "d6bbbd26bc7e4e4084500e2407c58c97": {
          "model_module": "@jupyter-widgets/controls",
          "model_name": "HTMLModel",
          "model_module_version": "1.5.0",
          "state": {
            "_dom_classes": [],
            "_model_module": "@jupyter-widgets/controls",
            "_model_module_version": "1.5.0",
            "_model_name": "HTMLModel",
            "_view_count": null,
            "_view_module": "@jupyter-widgets/controls",
            "_view_module_version": "1.5.0",
            "_view_name": "HTMLView",
            "description": "",
            "description_tooltip": null,
            "layout": "IPY_MODEL_ee9caa7bedd74da48e40abd3c2c876bd",
            "placeholder": "​",
            "style": "IPY_MODEL_d03956a6a7d048d1912c3d4006d9ec65",
            "value": " 212/212 [00:00&lt;00:00, 3.92kB/s]"
          }
        },
        "4d8bfa9243c44a4b8b967b238ff1491e": {
          "model_module": "@jupyter-widgets/base",
          "model_name": "LayoutModel",
          "model_module_version": "1.2.0",
          "state": {
            "_model_module": "@jupyter-widgets/base",
            "_model_module_version": "1.2.0",
            "_model_name": "LayoutModel",
            "_view_count": null,
            "_view_module": "@jupyter-widgets/base",
            "_view_module_version": "1.2.0",
            "_view_name": "LayoutView",
            "align_content": null,
            "align_items": null,
            "align_self": null,
            "border": null,
            "bottom": null,
            "display": null,
            "flex": null,
            "flex_flow": null,
            "grid_area": null,
            "grid_auto_columns": null,
            "grid_auto_flow": null,
            "grid_auto_rows": null,
            "grid_column": null,
            "grid_gap": null,
            "grid_row": null,
            "grid_template_areas": null,
            "grid_template_columns": null,
            "grid_template_rows": null,
            "height": null,
            "justify_content": null,
            "justify_items": null,
            "left": null,
            "margin": null,
            "max_height": null,
            "max_width": null,
            "min_height": null,
            "min_width": null,
            "object_fit": null,
            "object_position": null,
            "order": null,
            "overflow": null,
            "overflow_x": null,
            "overflow_y": null,
            "padding": null,
            "right": null,
            "top": null,
            "visibility": null,
            "width": null
          }
        },
        "c0511848554d459b88833fb4d24b471e": {
          "model_module": "@jupyter-widgets/base",
          "model_name": "LayoutModel",
          "model_module_version": "1.2.0",
          "state": {
            "_model_module": "@jupyter-widgets/base",
            "_model_module_version": "1.2.0",
            "_model_name": "LayoutModel",
            "_view_count": null,
            "_view_module": "@jupyter-widgets/base",
            "_view_module_version": "1.2.0",
            "_view_name": "LayoutView",
            "align_content": null,
            "align_items": null,
            "align_self": null,
            "border": null,
            "bottom": null,
            "display": null,
            "flex": null,
            "flex_flow": null,
            "grid_area": null,
            "grid_auto_columns": null,
            "grid_auto_flow": null,
            "grid_auto_rows": null,
            "grid_column": null,
            "grid_gap": null,
            "grid_row": null,
            "grid_template_areas": null,
            "grid_template_columns": null,
            "grid_template_rows": null,
            "height": null,
            "justify_content": null,
            "justify_items": null,
            "left": null,
            "margin": null,
            "max_height": null,
            "max_width": null,
            "min_height": null,
            "min_width": null,
            "object_fit": null,
            "object_position": null,
            "order": null,
            "overflow": null,
            "overflow_x": null,
            "overflow_y": null,
            "padding": null,
            "right": null,
            "top": null,
            "visibility": null,
            "width": null
          }
        },
        "0521e41365b04501a4e8b35290264fee": {
          "model_module": "@jupyter-widgets/controls",
          "model_name": "DescriptionStyleModel",
          "model_module_version": "1.5.0",
          "state": {
            "_model_module": "@jupyter-widgets/controls",
            "_model_module_version": "1.5.0",
            "_model_name": "DescriptionStyleModel",
            "_view_count": null,
            "_view_module": "@jupyter-widgets/base",
            "_view_module_version": "1.2.0",
            "_view_name": "StyleView",
            "description_width": ""
          }
        },
        "7ee45e4fdb3c49bf96fd5a0883c952cd": {
          "model_module": "@jupyter-widgets/base",
          "model_name": "LayoutModel",
          "model_module_version": "1.2.0",
          "state": {
            "_model_module": "@jupyter-widgets/base",
            "_model_module_version": "1.2.0",
            "_model_name": "LayoutModel",
            "_view_count": null,
            "_view_module": "@jupyter-widgets/base",
            "_view_module_version": "1.2.0",
            "_view_name": "LayoutView",
            "align_content": null,
            "align_items": null,
            "align_self": null,
            "border": null,
            "bottom": null,
            "display": null,
            "flex": null,
            "flex_flow": null,
            "grid_area": null,
            "grid_auto_columns": null,
            "grid_auto_flow": null,
            "grid_auto_rows": null,
            "grid_column": null,
            "grid_gap": null,
            "grid_row": null,
            "grid_template_areas": null,
            "grid_template_columns": null,
            "grid_template_rows": null,
            "height": null,
            "justify_content": null,
            "justify_items": null,
            "left": null,
            "margin": null,
            "max_height": null,
            "max_width": null,
            "min_height": null,
            "min_width": null,
            "object_fit": null,
            "object_position": null,
            "order": null,
            "overflow": null,
            "overflow_x": null,
            "overflow_y": null,
            "padding": null,
            "right": null,
            "top": null,
            "visibility": null,
            "width": null
          }
        },
        "831cc1a8318f4370a0ef1146bfe37a71": {
          "model_module": "@jupyter-widgets/controls",
          "model_name": "ProgressStyleModel",
          "model_module_version": "1.5.0",
          "state": {
            "_model_module": "@jupyter-widgets/controls",
            "_model_module_version": "1.5.0",
            "_model_name": "ProgressStyleModel",
            "_view_count": null,
            "_view_module": "@jupyter-widgets/base",
            "_view_module_version": "1.2.0",
            "_view_name": "StyleView",
            "bar_color": null,
            "description_width": ""
          }
        },
        "ee9caa7bedd74da48e40abd3c2c876bd": {
          "model_module": "@jupyter-widgets/base",
          "model_name": "LayoutModel",
          "model_module_version": "1.2.0",
          "state": {
            "_model_module": "@jupyter-widgets/base",
            "_model_module_version": "1.2.0",
            "_model_name": "LayoutModel",
            "_view_count": null,
            "_view_module": "@jupyter-widgets/base",
            "_view_module_version": "1.2.0",
            "_view_name": "LayoutView",
            "align_content": null,
            "align_items": null,
            "align_self": null,
            "border": null,
            "bottom": null,
            "display": null,
            "flex": null,
            "flex_flow": null,
            "grid_area": null,
            "grid_auto_columns": null,
            "grid_auto_flow": null,
            "grid_auto_rows": null,
            "grid_column": null,
            "grid_gap": null,
            "grid_row": null,
            "grid_template_areas": null,
            "grid_template_columns": null,
            "grid_template_rows": null,
            "height": null,
            "justify_content": null,
            "justify_items": null,
            "left": null,
            "margin": null,
            "max_height": null,
            "max_width": null,
            "min_height": null,
            "min_width": null,
            "object_fit": null,
            "object_position": null,
            "order": null,
            "overflow": null,
            "overflow_x": null,
            "overflow_y": null,
            "padding": null,
            "right": null,
            "top": null,
            "visibility": null,
            "width": null
          }
        },
        "d03956a6a7d048d1912c3d4006d9ec65": {
          "model_module": "@jupyter-widgets/controls",
          "model_name": "DescriptionStyleModel",
          "model_module_version": "1.5.0",
          "state": {
            "_model_module": "@jupyter-widgets/controls",
            "_model_module_version": "1.5.0",
            "_model_name": "DescriptionStyleModel",
            "_view_count": null,
            "_view_module": "@jupyter-widgets/base",
            "_view_module_version": "1.2.0",
            "_view_name": "StyleView",
            "description_width": ""
          }
        },
        "2f27c762068c490db78c076784296b9f": {
          "model_module": "@jupyter-widgets/controls",
          "model_name": "HBoxModel",
          "model_module_version": "1.5.0",
          "state": {
            "_dom_classes": [],
            "_model_module": "@jupyter-widgets/controls",
            "_model_module_version": "1.5.0",
            "_model_name": "HBoxModel",
            "_view_count": null,
            "_view_module": "@jupyter-widgets/controls",
            "_view_module_version": "1.5.0",
            "_view_name": "HBoxView",
            "box_style": "",
            "children": [
              "IPY_MODEL_08e73aa6c29848b5868d18a71c402eb1",
              "IPY_MODEL_80cd1bd4754243cea4e355eb640fc46c",
              "IPY_MODEL_1d021289950a41f292819a688a7ab585"
            ],
            "layout": "IPY_MODEL_59073ca700b64865aa1cce474f1fda65"
          }
        },
        "08e73aa6c29848b5868d18a71c402eb1": {
          "model_module": "@jupyter-widgets/controls",
          "model_name": "HTMLModel",
          "model_module_version": "1.5.0",
          "state": {
            "_dom_classes": [],
            "_model_module": "@jupyter-widgets/controls",
            "_model_module_version": "1.5.0",
            "_model_name": "HTMLModel",
            "_view_count": null,
            "_view_module": "@jupyter-widgets/controls",
            "_view_module_version": "1.5.0",
            "_view_name": "HTMLView",
            "description": "",
            "description_tooltip": null,
            "layout": "IPY_MODEL_afb9f39c0f8e47d2b3d294993605bdf2",
            "placeholder": "​",
            "style": "IPY_MODEL_451113f62417439e80cce68cc66a3943",
            "value": "Downloading: 100%"
          }
        },
        "80cd1bd4754243cea4e355eb640fc46c": {
          "model_module": "@jupyter-widgets/controls",
          "model_name": "FloatProgressModel",
          "model_module_version": "1.5.0",
          "state": {
            "_dom_classes": [],
            "_model_module": "@jupyter-widgets/controls",
            "_model_module_version": "1.5.0",
            "_model_name": "FloatProgressModel",
            "_view_count": null,
            "_view_module": "@jupyter-widgets/controls",
            "_view_module_version": "1.5.0",
            "_view_name": "ProgressView",
            "bar_style": "success",
            "description": "",
            "description_tooltip": null,
            "layout": "IPY_MODEL_943e994eda56469b8d5b529b4a580270",
            "max": 412,
            "min": 0,
            "orientation": "horizontal",
            "style": "IPY_MODEL_6aa8761ae58d47688fc995981d1d80ed",
            "value": 412
          }
        },
        "1d021289950a41f292819a688a7ab585": {
          "model_module": "@jupyter-widgets/controls",
          "model_name": "HTMLModel",
          "model_module_version": "1.5.0",
          "state": {
            "_dom_classes": [],
            "_model_module": "@jupyter-widgets/controls",
            "_model_module_version": "1.5.0",
            "_model_name": "HTMLModel",
            "_view_count": null,
            "_view_module": "@jupyter-widgets/controls",
            "_view_module_version": "1.5.0",
            "_view_name": "HTMLView",
            "description": "",
            "description_tooltip": null,
            "layout": "IPY_MODEL_17b9eb12477442aaa8950b4a07665f34",
            "placeholder": "​",
            "style": "IPY_MODEL_3582f7093d7c480caa10bc3f2a6c332f",
            "value": " 412/412 [00:00&lt;00:00, 11.9kB/s]"
          }
        },
        "59073ca700b64865aa1cce474f1fda65": {
          "model_module": "@jupyter-widgets/base",
          "model_name": "LayoutModel",
          "model_module_version": "1.2.0",
          "state": {
            "_model_module": "@jupyter-widgets/base",
            "_model_module_version": "1.2.0",
            "_model_name": "LayoutModel",
            "_view_count": null,
            "_view_module": "@jupyter-widgets/base",
            "_view_module_version": "1.2.0",
            "_view_name": "LayoutView",
            "align_content": null,
            "align_items": null,
            "align_self": null,
            "border": null,
            "bottom": null,
            "display": null,
            "flex": null,
            "flex_flow": null,
            "grid_area": null,
            "grid_auto_columns": null,
            "grid_auto_flow": null,
            "grid_auto_rows": null,
            "grid_column": null,
            "grid_gap": null,
            "grid_row": null,
            "grid_template_areas": null,
            "grid_template_columns": null,
            "grid_template_rows": null,
            "height": null,
            "justify_content": null,
            "justify_items": null,
            "left": null,
            "margin": null,
            "max_height": null,
            "max_width": null,
            "min_height": null,
            "min_width": null,
            "object_fit": null,
            "object_position": null,
            "order": null,
            "overflow": null,
            "overflow_x": null,
            "overflow_y": null,
            "padding": null,
            "right": null,
            "top": null,
            "visibility": null,
            "width": null
          }
        },
        "afb9f39c0f8e47d2b3d294993605bdf2": {
          "model_module": "@jupyter-widgets/base",
          "model_name": "LayoutModel",
          "model_module_version": "1.2.0",
          "state": {
            "_model_module": "@jupyter-widgets/base",
            "_model_module_version": "1.2.0",
            "_model_name": "LayoutModel",
            "_view_count": null,
            "_view_module": "@jupyter-widgets/base",
            "_view_module_version": "1.2.0",
            "_view_name": "LayoutView",
            "align_content": null,
            "align_items": null,
            "align_self": null,
            "border": null,
            "bottom": null,
            "display": null,
            "flex": null,
            "flex_flow": null,
            "grid_area": null,
            "grid_auto_columns": null,
            "grid_auto_flow": null,
            "grid_auto_rows": null,
            "grid_column": null,
            "grid_gap": null,
            "grid_row": null,
            "grid_template_areas": null,
            "grid_template_columns": null,
            "grid_template_rows": null,
            "height": null,
            "justify_content": null,
            "justify_items": null,
            "left": null,
            "margin": null,
            "max_height": null,
            "max_width": null,
            "min_height": null,
            "min_width": null,
            "object_fit": null,
            "object_position": null,
            "order": null,
            "overflow": null,
            "overflow_x": null,
            "overflow_y": null,
            "padding": null,
            "right": null,
            "top": null,
            "visibility": null,
            "width": null
          }
        },
        "451113f62417439e80cce68cc66a3943": {
          "model_module": "@jupyter-widgets/controls",
          "model_name": "DescriptionStyleModel",
          "model_module_version": "1.5.0",
          "state": {
            "_model_module": "@jupyter-widgets/controls",
            "_model_module_version": "1.5.0",
            "_model_name": "DescriptionStyleModel",
            "_view_count": null,
            "_view_module": "@jupyter-widgets/base",
            "_view_module_version": "1.2.0",
            "_view_name": "StyleView",
            "description_width": ""
          }
        },
        "943e994eda56469b8d5b529b4a580270": {
          "model_module": "@jupyter-widgets/base",
          "model_name": "LayoutModel",
          "model_module_version": "1.2.0",
          "state": {
            "_model_module": "@jupyter-widgets/base",
            "_model_module_version": "1.2.0",
            "_model_name": "LayoutModel",
            "_view_count": null,
            "_view_module": "@jupyter-widgets/base",
            "_view_module_version": "1.2.0",
            "_view_name": "LayoutView",
            "align_content": null,
            "align_items": null,
            "align_self": null,
            "border": null,
            "bottom": null,
            "display": null,
            "flex": null,
            "flex_flow": null,
            "grid_area": null,
            "grid_auto_columns": null,
            "grid_auto_flow": null,
            "grid_auto_rows": null,
            "grid_column": null,
            "grid_gap": null,
            "grid_row": null,
            "grid_template_areas": null,
            "grid_template_columns": null,
            "grid_template_rows": null,
            "height": null,
            "justify_content": null,
            "justify_items": null,
            "left": null,
            "margin": null,
            "max_height": null,
            "max_width": null,
            "min_height": null,
            "min_width": null,
            "object_fit": null,
            "object_position": null,
            "order": null,
            "overflow": null,
            "overflow_x": null,
            "overflow_y": null,
            "padding": null,
            "right": null,
            "top": null,
            "visibility": null,
            "width": null
          }
        },
        "6aa8761ae58d47688fc995981d1d80ed": {
          "model_module": "@jupyter-widgets/controls",
          "model_name": "ProgressStyleModel",
          "model_module_version": "1.5.0",
          "state": {
            "_model_module": "@jupyter-widgets/controls",
            "_model_module_version": "1.5.0",
            "_model_name": "ProgressStyleModel",
            "_view_count": null,
            "_view_module": "@jupyter-widgets/base",
            "_view_module_version": "1.2.0",
            "_view_name": "StyleView",
            "bar_color": null,
            "description_width": ""
          }
        },
        "17b9eb12477442aaa8950b4a07665f34": {
          "model_module": "@jupyter-widgets/base",
          "model_name": "LayoutModel",
          "model_module_version": "1.2.0",
          "state": {
            "_model_module": "@jupyter-widgets/base",
            "_model_module_version": "1.2.0",
            "_model_name": "LayoutModel",
            "_view_count": null,
            "_view_module": "@jupyter-widgets/base",
            "_view_module_version": "1.2.0",
            "_view_name": "LayoutView",
            "align_content": null,
            "align_items": null,
            "align_self": null,
            "border": null,
            "bottom": null,
            "display": null,
            "flex": null,
            "flex_flow": null,
            "grid_area": null,
            "grid_auto_columns": null,
            "grid_auto_flow": null,
            "grid_auto_rows": null,
            "grid_column": null,
            "grid_gap": null,
            "grid_row": null,
            "grid_template_areas": null,
            "grid_template_columns": null,
            "grid_template_rows": null,
            "height": null,
            "justify_content": null,
            "justify_items": null,
            "left": null,
            "margin": null,
            "max_height": null,
            "max_width": null,
            "min_height": null,
            "min_width": null,
            "object_fit": null,
            "object_position": null,
            "order": null,
            "overflow": null,
            "overflow_x": null,
            "overflow_y": null,
            "padding": null,
            "right": null,
            "top": null,
            "visibility": null,
            "width": null
          }
        },
        "3582f7093d7c480caa10bc3f2a6c332f": {
          "model_module": "@jupyter-widgets/controls",
          "model_name": "DescriptionStyleModel",
          "model_module_version": "1.5.0",
          "state": {
            "_model_module": "@jupyter-widgets/controls",
            "_model_module_version": "1.5.0",
            "_model_name": "DescriptionStyleModel",
            "_view_count": null,
            "_view_module": "@jupyter-widgets/base",
            "_view_module_version": "1.2.0",
            "_view_name": "StyleView",
            "description_width": ""
          }
        },
        "e2986dce48c047108400a144aa757fe2": {
          "model_module": "@jupyter-widgets/controls",
          "model_name": "HBoxModel",
          "model_module_version": "1.5.0",
          "state": {
            "_dom_classes": [],
            "_model_module": "@jupyter-widgets/controls",
            "_model_module_version": "1.5.0",
            "_model_name": "HBoxModel",
            "_view_count": null,
            "_view_module": "@jupyter-widgets/controls",
            "_view_module_version": "1.5.0",
            "_view_name": "HBoxView",
            "box_style": "",
            "children": [
              "IPY_MODEL_67521d60e9b24f55b776d244547befb9",
              "IPY_MODEL_71e94ca5b1db4591825d688a9e114b40",
              "IPY_MODEL_8c1e977fcc1e4f6d9021694ddc2302a9"
            ],
            "layout": "IPY_MODEL_ae05111f55e1442abf97626d16b204f7"
          }
        },
        "67521d60e9b24f55b776d244547befb9": {
          "model_module": "@jupyter-widgets/controls",
          "model_name": "HTMLModel",
          "model_module_version": "1.5.0",
          "state": {
            "_dom_classes": [],
            "_model_module": "@jupyter-widgets/controls",
            "_model_module_version": "1.5.0",
            "_model_name": "HTMLModel",
            "_view_count": null,
            "_view_module": "@jupyter-widgets/controls",
            "_view_module_version": "1.5.0",
            "_view_name": "HTMLView",
            "description": "",
            "description_tooltip": null,
            "layout": "IPY_MODEL_279e31eb8dd641b1aa1e31b1811cef7c",
            "placeholder": "​",
            "style": "IPY_MODEL_3d87843f667b43a0ae466f04c2e7a04e",
            "value": "Downloading: 100%"
          }
        },
        "71e94ca5b1db4591825d688a9e114b40": {
          "model_module": "@jupyter-widgets/controls",
          "model_name": "FloatProgressModel",
          "model_module_version": "1.5.0",
          "state": {
            "_dom_classes": [],
            "_model_module": "@jupyter-widgets/controls",
            "_model_module_version": "1.5.0",
            "_model_name": "FloatProgressModel",
            "_view_count": null,
            "_view_module": "@jupyter-widgets/controls",
            "_view_module_version": "1.5.0",
            "_view_name": "ProgressView",
            "bar_style": "success",
            "description": "",
            "description_tooltip": null,
            "layout": "IPY_MODEL_ce1bed46ba804f17835575a80250023b",
            "max": 4637,
            "min": 0,
            "orientation": "horizontal",
            "style": "IPY_MODEL_01b9ce29133042f0b4d5dadd33ab41c3",
            "value": 4637
          }
        },
        "8c1e977fcc1e4f6d9021694ddc2302a9": {
          "model_module": "@jupyter-widgets/controls",
          "model_name": "HTMLModel",
          "model_module_version": "1.5.0",
          "state": {
            "_dom_classes": [],
            "_model_module": "@jupyter-widgets/controls",
            "_model_module_version": "1.5.0",
            "_model_name": "HTMLModel",
            "_view_count": null,
            "_view_module": "@jupyter-widgets/controls",
            "_view_module_version": "1.5.0",
            "_view_name": "HTMLView",
            "description": "",
            "description_tooltip": null,
            "layout": "IPY_MODEL_baf76e1a36b44d38a96f96b42d6b5644",
            "placeholder": "​",
            "style": "IPY_MODEL_eb36d6b02a0943189c1243efe2555f55",
            "value": " 4.53k/4.53k [00:00&lt;00:00, 70.9kB/s]"
          }
        },
        "ae05111f55e1442abf97626d16b204f7": {
          "model_module": "@jupyter-widgets/base",
          "model_name": "LayoutModel",
          "model_module_version": "1.2.0",
          "state": {
            "_model_module": "@jupyter-widgets/base",
            "_model_module_version": "1.2.0",
            "_model_name": "LayoutModel",
            "_view_count": null,
            "_view_module": "@jupyter-widgets/base",
            "_view_module_version": "1.2.0",
            "_view_name": "LayoutView",
            "align_content": null,
            "align_items": null,
            "align_self": null,
            "border": null,
            "bottom": null,
            "display": null,
            "flex": null,
            "flex_flow": null,
            "grid_area": null,
            "grid_auto_columns": null,
            "grid_auto_flow": null,
            "grid_auto_rows": null,
            "grid_column": null,
            "grid_gap": null,
            "grid_row": null,
            "grid_template_areas": null,
            "grid_template_columns": null,
            "grid_template_rows": null,
            "height": null,
            "justify_content": null,
            "justify_items": null,
            "left": null,
            "margin": null,
            "max_height": null,
            "max_width": null,
            "min_height": null,
            "min_width": null,
            "object_fit": null,
            "object_position": null,
            "order": null,
            "overflow": null,
            "overflow_x": null,
            "overflow_y": null,
            "padding": null,
            "right": null,
            "top": null,
            "visibility": null,
            "width": null
          }
        },
        "279e31eb8dd641b1aa1e31b1811cef7c": {
          "model_module": "@jupyter-widgets/base",
          "model_name": "LayoutModel",
          "model_module_version": "1.2.0",
          "state": {
            "_model_module": "@jupyter-widgets/base",
            "_model_module_version": "1.2.0",
            "_model_name": "LayoutModel",
            "_view_count": null,
            "_view_module": "@jupyter-widgets/base",
            "_view_module_version": "1.2.0",
            "_view_name": "LayoutView",
            "align_content": null,
            "align_items": null,
            "align_self": null,
            "border": null,
            "bottom": null,
            "display": null,
            "flex": null,
            "flex_flow": null,
            "grid_area": null,
            "grid_auto_columns": null,
            "grid_auto_flow": null,
            "grid_auto_rows": null,
            "grid_column": null,
            "grid_gap": null,
            "grid_row": null,
            "grid_template_areas": null,
            "grid_template_columns": null,
            "grid_template_rows": null,
            "height": null,
            "justify_content": null,
            "justify_items": null,
            "left": null,
            "margin": null,
            "max_height": null,
            "max_width": null,
            "min_height": null,
            "min_width": null,
            "object_fit": null,
            "object_position": null,
            "order": null,
            "overflow": null,
            "overflow_x": null,
            "overflow_y": null,
            "padding": null,
            "right": null,
            "top": null,
            "visibility": null,
            "width": null
          }
        },
        "3d87843f667b43a0ae466f04c2e7a04e": {
          "model_module": "@jupyter-widgets/controls",
          "model_name": "DescriptionStyleModel",
          "model_module_version": "1.5.0",
          "state": {
            "_model_module": "@jupyter-widgets/controls",
            "_model_module_version": "1.5.0",
            "_model_name": "DescriptionStyleModel",
            "_view_count": null,
            "_view_module": "@jupyter-widgets/base",
            "_view_module_version": "1.2.0",
            "_view_name": "StyleView",
            "description_width": ""
          }
        },
        "ce1bed46ba804f17835575a80250023b": {
          "model_module": "@jupyter-widgets/base",
          "model_name": "LayoutModel",
          "model_module_version": "1.2.0",
          "state": {
            "_model_module": "@jupyter-widgets/base",
            "_model_module_version": "1.2.0",
            "_model_name": "LayoutModel",
            "_view_count": null,
            "_view_module": "@jupyter-widgets/base",
            "_view_module_version": "1.2.0",
            "_view_name": "LayoutView",
            "align_content": null,
            "align_items": null,
            "align_self": null,
            "border": null,
            "bottom": null,
            "display": null,
            "flex": null,
            "flex_flow": null,
            "grid_area": null,
            "grid_auto_columns": null,
            "grid_auto_flow": null,
            "grid_auto_rows": null,
            "grid_column": null,
            "grid_gap": null,
            "grid_row": null,
            "grid_template_areas": null,
            "grid_template_columns": null,
            "grid_template_rows": null,
            "height": null,
            "justify_content": null,
            "justify_items": null,
            "left": null,
            "margin": null,
            "max_height": null,
            "max_width": null,
            "min_height": null,
            "min_width": null,
            "object_fit": null,
            "object_position": null,
            "order": null,
            "overflow": null,
            "overflow_x": null,
            "overflow_y": null,
            "padding": null,
            "right": null,
            "top": null,
            "visibility": null,
            "width": null
          }
        },
        "01b9ce29133042f0b4d5dadd33ab41c3": {
          "model_module": "@jupyter-widgets/controls",
          "model_name": "ProgressStyleModel",
          "model_module_version": "1.5.0",
          "state": {
            "_model_module": "@jupyter-widgets/controls",
            "_model_module_version": "1.5.0",
            "_model_name": "ProgressStyleModel",
            "_view_count": null,
            "_view_module": "@jupyter-widgets/base",
            "_view_module_version": "1.2.0",
            "_view_name": "StyleView",
            "bar_color": null,
            "description_width": ""
          }
        },
        "baf76e1a36b44d38a96f96b42d6b5644": {
          "model_module": "@jupyter-widgets/base",
          "model_name": "LayoutModel",
          "model_module_version": "1.2.0",
          "state": {
            "_model_module": "@jupyter-widgets/base",
            "_model_module_version": "1.2.0",
            "_model_name": "LayoutModel",
            "_view_count": null,
            "_view_module": "@jupyter-widgets/base",
            "_view_module_version": "1.2.0",
            "_view_name": "LayoutView",
            "align_content": null,
            "align_items": null,
            "align_self": null,
            "border": null,
            "bottom": null,
            "display": null,
            "flex": null,
            "flex_flow": null,
            "grid_area": null,
            "grid_auto_columns": null,
            "grid_auto_flow": null,
            "grid_auto_rows": null,
            "grid_column": null,
            "grid_gap": null,
            "grid_row": null,
            "grid_template_areas": null,
            "grid_template_columns": null,
            "grid_template_rows": null,
            "height": null,
            "justify_content": null,
            "justify_items": null,
            "left": null,
            "margin": null,
            "max_height": null,
            "max_width": null,
            "min_height": null,
            "min_width": null,
            "object_fit": null,
            "object_position": null,
            "order": null,
            "overflow": null,
            "overflow_x": null,
            "overflow_y": null,
            "padding": null,
            "right": null,
            "top": null,
            "visibility": null,
            "width": null
          }
        },
        "eb36d6b02a0943189c1243efe2555f55": {
          "model_module": "@jupyter-widgets/controls",
          "model_name": "DescriptionStyleModel",
          "model_module_version": "1.5.0",
          "state": {
            "_model_module": "@jupyter-widgets/controls",
            "_model_module_version": "1.5.0",
            "_model_name": "DescriptionStyleModel",
            "_view_count": null,
            "_view_module": "@jupyter-widgets/base",
            "_view_module_version": "1.2.0",
            "_view_name": "StyleView",
            "description_width": ""
          }
        },
        "6dfc539ef967444aa960b9b56d0abd93": {
          "model_module": "@jupyter-widgets/controls",
          "model_name": "HBoxModel",
          "model_module_version": "1.5.0",
          "state": {
            "_dom_classes": [],
            "_model_module": "@jupyter-widgets/controls",
            "_model_module_version": "1.5.0",
            "_model_name": "HBoxModel",
            "_view_count": null,
            "_view_module": "@jupyter-widgets/controls",
            "_view_module_version": "1.5.0",
            "_view_name": "HBoxView",
            "box_style": "",
            "children": [
              "IPY_MODEL_74249479aa094fb0aba9b5d2ea6f503d",
              "IPY_MODEL_b4af18ca3dec427381f84bc59984c751",
              "IPY_MODEL_ba563ffc76ca4549b161f777c5b018fe"
            ],
            "layout": "IPY_MODEL_5304a6002e1447b687739572f008d485"
          }
        },
        "74249479aa094fb0aba9b5d2ea6f503d": {
          "model_module": "@jupyter-widgets/controls",
          "model_name": "HTMLModel",
          "model_module_version": "1.5.0",
          "state": {
            "_dom_classes": [],
            "_model_module": "@jupyter-widgets/controls",
            "_model_module_version": "1.5.0",
            "_model_name": "HTMLModel",
            "_view_count": null,
            "_view_module": "@jupyter-widgets/controls",
            "_view_module_version": "1.5.0",
            "_view_name": "HTMLView",
            "description": "",
            "description_tooltip": null,
            "layout": "IPY_MODEL_6f69bc0408d44ae385cc770aee3da1c4",
            "placeholder": "​",
            "style": "IPY_MODEL_49cbc6ad198b4ab184ee50f32c313bf0",
            "value": "Downloading: 100%"
          }
        },
        "b4af18ca3dec427381f84bc59984c751": {
          "model_module": "@jupyter-widgets/controls",
          "model_name": "FloatProgressModel",
          "model_module_version": "1.5.0",
          "state": {
            "_dom_classes": [],
            "_model_module": "@jupyter-widgets/controls",
            "_model_module_version": "1.5.0",
            "_model_name": "FloatProgressModel",
            "_view_count": null,
            "_view_module": "@jupyter-widgets/controls",
            "_view_module_version": "1.5.0",
            "_view_name": "ProgressView",
            "bar_style": "success",
            "description": "",
            "description_tooltip": null,
            "layout": "IPY_MODEL_736c21a3ae8c47d690376e25f5c3d419",
            "max": 85,
            "min": 0,
            "orientation": "horizontal",
            "style": "IPY_MODEL_e903d51c6e6a4894a203129d9f5083c4",
            "value": 85
          }
        },
        "ba563ffc76ca4549b161f777c5b018fe": {
          "model_module": "@jupyter-widgets/controls",
          "model_name": "HTMLModel",
          "model_module_version": "1.5.0",
          "state": {
            "_dom_classes": [],
            "_model_module": "@jupyter-widgets/controls",
            "_model_module_version": "1.5.0",
            "_model_name": "HTMLModel",
            "_view_count": null,
            "_view_module": "@jupyter-widgets/controls",
            "_view_module_version": "1.5.0",
            "_view_name": "HTMLView",
            "description": "",
            "description_tooltip": null,
            "layout": "IPY_MODEL_61a86a6164f54d8aacffbf2eaa6c48b8",
            "placeholder": "​",
            "style": "IPY_MODEL_36e3bc391c5743e49153fd8c4b6dae18",
            "value": " 85.0/85.0 [00:00&lt;00:00, 2.16kB/s]"
          }
        },
        "5304a6002e1447b687739572f008d485": {
          "model_module": "@jupyter-widgets/base",
          "model_name": "LayoutModel",
          "model_module_version": "1.2.0",
          "state": {
            "_model_module": "@jupyter-widgets/base",
            "_model_module_version": "1.2.0",
            "_model_name": "LayoutModel",
            "_view_count": null,
            "_view_module": "@jupyter-widgets/base",
            "_view_module_version": "1.2.0",
            "_view_name": "LayoutView",
            "align_content": null,
            "align_items": null,
            "align_self": null,
            "border": null,
            "bottom": null,
            "display": null,
            "flex": null,
            "flex_flow": null,
            "grid_area": null,
            "grid_auto_columns": null,
            "grid_auto_flow": null,
            "grid_auto_rows": null,
            "grid_column": null,
            "grid_gap": null,
            "grid_row": null,
            "grid_template_areas": null,
            "grid_template_columns": null,
            "grid_template_rows": null,
            "height": null,
            "justify_content": null,
            "justify_items": null,
            "left": null,
            "margin": null,
            "max_height": null,
            "max_width": null,
            "min_height": null,
            "min_width": null,
            "object_fit": null,
            "object_position": null,
            "order": null,
            "overflow": null,
            "overflow_x": null,
            "overflow_y": null,
            "padding": null,
            "right": null,
            "top": null,
            "visibility": null,
            "width": null
          }
        },
        "6f69bc0408d44ae385cc770aee3da1c4": {
          "model_module": "@jupyter-widgets/base",
          "model_name": "LayoutModel",
          "model_module_version": "1.2.0",
          "state": {
            "_model_module": "@jupyter-widgets/base",
            "_model_module_version": "1.2.0",
            "_model_name": "LayoutModel",
            "_view_count": null,
            "_view_module": "@jupyter-widgets/base",
            "_view_module_version": "1.2.0",
            "_view_name": "LayoutView",
            "align_content": null,
            "align_items": null,
            "align_self": null,
            "border": null,
            "bottom": null,
            "display": null,
            "flex": null,
            "flex_flow": null,
            "grid_area": null,
            "grid_auto_columns": null,
            "grid_auto_flow": null,
            "grid_auto_rows": null,
            "grid_column": null,
            "grid_gap": null,
            "grid_row": null,
            "grid_template_areas": null,
            "grid_template_columns": null,
            "grid_template_rows": null,
            "height": null,
            "justify_content": null,
            "justify_items": null,
            "left": null,
            "margin": null,
            "max_height": null,
            "max_width": null,
            "min_height": null,
            "min_width": null,
            "object_fit": null,
            "object_position": null,
            "order": null,
            "overflow": null,
            "overflow_x": null,
            "overflow_y": null,
            "padding": null,
            "right": null,
            "top": null,
            "visibility": null,
            "width": null
          }
        },
        "49cbc6ad198b4ab184ee50f32c313bf0": {
          "model_module": "@jupyter-widgets/controls",
          "model_name": "DescriptionStyleModel",
          "model_module_version": "1.5.0",
          "state": {
            "_model_module": "@jupyter-widgets/controls",
            "_model_module_version": "1.5.0",
            "_model_name": "DescriptionStyleModel",
            "_view_count": null,
            "_view_module": "@jupyter-widgets/base",
            "_view_module_version": "1.2.0",
            "_view_name": "StyleView",
            "description_width": ""
          }
        },
        "736c21a3ae8c47d690376e25f5c3d419": {
          "model_module": "@jupyter-widgets/base",
          "model_name": "LayoutModel",
          "model_module_version": "1.2.0",
          "state": {
            "_model_module": "@jupyter-widgets/base",
            "_model_module_version": "1.2.0",
            "_model_name": "LayoutModel",
            "_view_count": null,
            "_view_module": "@jupyter-widgets/base",
            "_view_module_version": "1.2.0",
            "_view_name": "LayoutView",
            "align_content": null,
            "align_items": null,
            "align_self": null,
            "border": null,
            "bottom": null,
            "display": null,
            "flex": null,
            "flex_flow": null,
            "grid_area": null,
            "grid_auto_columns": null,
            "grid_auto_flow": null,
            "grid_auto_rows": null,
            "grid_column": null,
            "grid_gap": null,
            "grid_row": null,
            "grid_template_areas": null,
            "grid_template_columns": null,
            "grid_template_rows": null,
            "height": null,
            "justify_content": null,
            "justify_items": null,
            "left": null,
            "margin": null,
            "max_height": null,
            "max_width": null,
            "min_height": null,
            "min_width": null,
            "object_fit": null,
            "object_position": null,
            "order": null,
            "overflow": null,
            "overflow_x": null,
            "overflow_y": null,
            "padding": null,
            "right": null,
            "top": null,
            "visibility": null,
            "width": null
          }
        },
        "e903d51c6e6a4894a203129d9f5083c4": {
          "model_module": "@jupyter-widgets/controls",
          "model_name": "ProgressStyleModel",
          "model_module_version": "1.5.0",
          "state": {
            "_model_module": "@jupyter-widgets/controls",
            "_model_module_version": "1.5.0",
            "_model_name": "ProgressStyleModel",
            "_view_count": null,
            "_view_module": "@jupyter-widgets/base",
            "_view_module_version": "1.2.0",
            "_view_name": "StyleView",
            "bar_color": null,
            "description_width": ""
          }
        },
        "61a86a6164f54d8aacffbf2eaa6c48b8": {
          "model_module": "@jupyter-widgets/base",
          "model_name": "LayoutModel",
          "model_module_version": "1.2.0",
          "state": {
            "_model_module": "@jupyter-widgets/base",
            "_model_module_version": "1.2.0",
            "_model_name": "LayoutModel",
            "_view_count": null,
            "_view_module": "@jupyter-widgets/base",
            "_view_module_version": "1.2.0",
            "_view_name": "LayoutView",
            "align_content": null,
            "align_items": null,
            "align_self": null,
            "border": null,
            "bottom": null,
            "display": null,
            "flex": null,
            "flex_flow": null,
            "grid_area": null,
            "grid_auto_columns": null,
            "grid_auto_flow": null,
            "grid_auto_rows": null,
            "grid_column": null,
            "grid_gap": null,
            "grid_row": null,
            "grid_template_areas": null,
            "grid_template_columns": null,
            "grid_template_rows": null,
            "height": null,
            "justify_content": null,
            "justify_items": null,
            "left": null,
            "margin": null,
            "max_height": null,
            "max_width": null,
            "min_height": null,
            "min_width": null,
            "object_fit": null,
            "object_position": null,
            "order": null,
            "overflow": null,
            "overflow_x": null,
            "overflow_y": null,
            "padding": null,
            "right": null,
            "top": null,
            "visibility": null,
            "width": null
          }
        },
        "36e3bc391c5743e49153fd8c4b6dae18": {
          "model_module": "@jupyter-widgets/controls",
          "model_name": "DescriptionStyleModel",
          "model_module_version": "1.5.0",
          "state": {
            "_model_module": "@jupyter-widgets/controls",
            "_model_module_version": "1.5.0",
            "_model_name": "DescriptionStyleModel",
            "_view_count": null,
            "_view_module": "@jupyter-widgets/base",
            "_view_module_version": "1.2.0",
            "_view_name": "StyleView",
            "description_width": ""
          }
        },
        "df32ea635800403bab767376bb5bb0cb": {
          "model_module": "@jupyter-widgets/controls",
          "model_name": "HBoxModel",
          "model_module_version": "1.5.0",
          "state": {
            "_dom_classes": [],
            "_model_module": "@jupyter-widgets/controls",
            "_model_module_version": "1.5.0",
            "_model_name": "HBoxModel",
            "_view_count": null,
            "_view_module": "@jupyter-widgets/controls",
            "_view_module_version": "1.5.0",
            "_view_name": "HBoxView",
            "box_style": "",
            "children": [
              "IPY_MODEL_6343002845fe42a59bc76aba85023c4c",
              "IPY_MODEL_2c04c6e39d414452852c1460967dc01e",
              "IPY_MODEL_669312b88b814a3593313159782b124d"
            ],
            "layout": "IPY_MODEL_591bfe61edc74f7da40a9ce9b55f71a2"
          }
        },
        "6343002845fe42a59bc76aba85023c4c": {
          "model_module": "@jupyter-widgets/controls",
          "model_name": "HTMLModel",
          "model_module_version": "1.5.0",
          "state": {
            "_dom_classes": [],
            "_model_module": "@jupyter-widgets/controls",
            "_model_module_version": "1.5.0",
            "_model_name": "HTMLModel",
            "_view_count": null,
            "_view_module": "@jupyter-widgets/controls",
            "_view_module_version": "1.5.0",
            "_view_name": "HTMLView",
            "description": "",
            "description_tooltip": null,
            "layout": "IPY_MODEL_4a955900aadf4e5482dd6faf2584a78c",
            "placeholder": "​",
            "style": "IPY_MODEL_826292cbd5b44eeabe72a5ea65a1a153",
            "value": "Downloading: 100%"
          }
        },
        "2c04c6e39d414452852c1460967dc01e": {
          "model_module": "@jupyter-widgets/controls",
          "model_name": "FloatProgressModel",
          "model_module_version": "1.5.0",
          "state": {
            "_dom_classes": [],
            "_model_module": "@jupyter-widgets/controls",
            "_model_module_version": "1.5.0",
            "_model_name": "FloatProgressModel",
            "_view_count": null,
            "_view_module": "@jupyter-widgets/controls",
            "_view_module_version": "1.5.0",
            "_view_name": "ProgressView",
            "bar_style": "success",
            "description": "",
            "description_tooltip": null,
            "layout": "IPY_MODEL_b8044a26933f4d58afd67766bebb47b3",
            "max": 4637,
            "min": 0,
            "orientation": "horizontal",
            "style": "IPY_MODEL_a475c7f69e744c0b946e20d62a909a3b",
            "value": 4637
          }
        },
        "669312b88b814a3593313159782b124d": {
          "model_module": "@jupyter-widgets/controls",
          "model_name": "HTMLModel",
          "model_module_version": "1.5.0",
          "state": {
            "_dom_classes": [],
            "_model_module": "@jupyter-widgets/controls",
            "_model_module_version": "1.5.0",
            "_model_name": "HTMLModel",
            "_view_count": null,
            "_view_module": "@jupyter-widgets/controls",
            "_view_module_version": "1.5.0",
            "_view_name": "HTMLView",
            "description": "",
            "description_tooltip": null,
            "layout": "IPY_MODEL_08633c026c7e47f685fe07ad6d38802f",
            "placeholder": "​",
            "style": "IPY_MODEL_640b38322280464aa1727877d6290600",
            "value": " 4.64k/4.64k [00:00&lt;00:00, 114kB/s]"
          }
        },
        "591bfe61edc74f7da40a9ce9b55f71a2": {
          "model_module": "@jupyter-widgets/base",
          "model_name": "LayoutModel",
          "model_module_version": "1.2.0",
          "state": {
            "_model_module": "@jupyter-widgets/base",
            "_model_module_version": "1.2.0",
            "_model_name": "LayoutModel",
            "_view_count": null,
            "_view_module": "@jupyter-widgets/base",
            "_view_module_version": "1.2.0",
            "_view_name": "LayoutView",
            "align_content": null,
            "align_items": null,
            "align_self": null,
            "border": null,
            "bottom": null,
            "display": null,
            "flex": null,
            "flex_flow": null,
            "grid_area": null,
            "grid_auto_columns": null,
            "grid_auto_flow": null,
            "grid_auto_rows": null,
            "grid_column": null,
            "grid_gap": null,
            "grid_row": null,
            "grid_template_areas": null,
            "grid_template_columns": null,
            "grid_template_rows": null,
            "height": null,
            "justify_content": null,
            "justify_items": null,
            "left": null,
            "margin": null,
            "max_height": null,
            "max_width": null,
            "min_height": null,
            "min_width": null,
            "object_fit": null,
            "object_position": null,
            "order": null,
            "overflow": null,
            "overflow_x": null,
            "overflow_y": null,
            "padding": null,
            "right": null,
            "top": null,
            "visibility": null,
            "width": null
          }
        },
        "4a955900aadf4e5482dd6faf2584a78c": {
          "model_module": "@jupyter-widgets/base",
          "model_name": "LayoutModel",
          "model_module_version": "1.2.0",
          "state": {
            "_model_module": "@jupyter-widgets/base",
            "_model_module_version": "1.2.0",
            "_model_name": "LayoutModel",
            "_view_count": null,
            "_view_module": "@jupyter-widgets/base",
            "_view_module_version": "1.2.0",
            "_view_name": "LayoutView",
            "align_content": null,
            "align_items": null,
            "align_self": null,
            "border": null,
            "bottom": null,
            "display": null,
            "flex": null,
            "flex_flow": null,
            "grid_area": null,
            "grid_auto_columns": null,
            "grid_auto_flow": null,
            "grid_auto_rows": null,
            "grid_column": null,
            "grid_gap": null,
            "grid_row": null,
            "grid_template_areas": null,
            "grid_template_columns": null,
            "grid_template_rows": null,
            "height": null,
            "justify_content": null,
            "justify_items": null,
            "left": null,
            "margin": null,
            "max_height": null,
            "max_width": null,
            "min_height": null,
            "min_width": null,
            "object_fit": null,
            "object_position": null,
            "order": null,
            "overflow": null,
            "overflow_x": null,
            "overflow_y": null,
            "padding": null,
            "right": null,
            "top": null,
            "visibility": null,
            "width": null
          }
        },
        "826292cbd5b44eeabe72a5ea65a1a153": {
          "model_module": "@jupyter-widgets/controls",
          "model_name": "DescriptionStyleModel",
          "model_module_version": "1.5.0",
          "state": {
            "_model_module": "@jupyter-widgets/controls",
            "_model_module_version": "1.5.0",
            "_model_name": "DescriptionStyleModel",
            "_view_count": null,
            "_view_module": "@jupyter-widgets/base",
            "_view_module_version": "1.2.0",
            "_view_name": "StyleView",
            "description_width": ""
          }
        },
        "b8044a26933f4d58afd67766bebb47b3": {
          "model_module": "@jupyter-widgets/base",
          "model_name": "LayoutModel",
          "model_module_version": "1.2.0",
          "state": {
            "_model_module": "@jupyter-widgets/base",
            "_model_module_version": "1.2.0",
            "_model_name": "LayoutModel",
            "_view_count": null,
            "_view_module": "@jupyter-widgets/base",
            "_view_module_version": "1.2.0",
            "_view_name": "LayoutView",
            "align_content": null,
            "align_items": null,
            "align_self": null,
            "border": null,
            "bottom": null,
            "display": null,
            "flex": null,
            "flex_flow": null,
            "grid_area": null,
            "grid_auto_columns": null,
            "grid_auto_flow": null,
            "grid_auto_rows": null,
            "grid_column": null,
            "grid_gap": null,
            "grid_row": null,
            "grid_template_areas": null,
            "grid_template_columns": null,
            "grid_template_rows": null,
            "height": null,
            "justify_content": null,
            "justify_items": null,
            "left": null,
            "margin": null,
            "max_height": null,
            "max_width": null,
            "min_height": null,
            "min_width": null,
            "object_fit": null,
            "object_position": null,
            "order": null,
            "overflow": null,
            "overflow_x": null,
            "overflow_y": null,
            "padding": null,
            "right": null,
            "top": null,
            "visibility": null,
            "width": null
          }
        },
        "a475c7f69e744c0b946e20d62a909a3b": {
          "model_module": "@jupyter-widgets/controls",
          "model_name": "ProgressStyleModel",
          "model_module_version": "1.5.0",
          "state": {
            "_model_module": "@jupyter-widgets/controls",
            "_model_module_version": "1.5.0",
            "_model_name": "ProgressStyleModel",
            "_view_count": null,
            "_view_module": "@jupyter-widgets/base",
            "_view_module_version": "1.2.0",
            "_view_name": "StyleView",
            "bar_color": null,
            "description_width": ""
          }
        },
        "08633c026c7e47f685fe07ad6d38802f": {
          "model_module": "@jupyter-widgets/base",
          "model_name": "LayoutModel",
          "model_module_version": "1.2.0",
          "state": {
            "_model_module": "@jupyter-widgets/base",
            "_model_module_version": "1.2.0",
            "_model_name": "LayoutModel",
            "_view_count": null,
            "_view_module": "@jupyter-widgets/base",
            "_view_module_version": "1.2.0",
            "_view_name": "LayoutView",
            "align_content": null,
            "align_items": null,
            "align_self": null,
            "border": null,
            "bottom": null,
            "display": null,
            "flex": null,
            "flex_flow": null,
            "grid_area": null,
            "grid_auto_columns": null,
            "grid_auto_flow": null,
            "grid_auto_rows": null,
            "grid_column": null,
            "grid_gap": null,
            "grid_row": null,
            "grid_template_areas": null,
            "grid_template_columns": null,
            "grid_template_rows": null,
            "height": null,
            "justify_content": null,
            "justify_items": null,
            "left": null,
            "margin": null,
            "max_height": null,
            "max_width": null,
            "min_height": null,
            "min_width": null,
            "object_fit": null,
            "object_position": null,
            "order": null,
            "overflow": null,
            "overflow_x": null,
            "overflow_y": null,
            "padding": null,
            "right": null,
            "top": null,
            "visibility": null,
            "width": null
          }
        },
        "640b38322280464aa1727877d6290600": {
          "model_module": "@jupyter-widgets/controls",
          "model_name": "DescriptionStyleModel",
          "model_module_version": "1.5.0",
          "state": {
            "_model_module": "@jupyter-widgets/controls",
            "_model_module_version": "1.5.0",
            "_model_name": "DescriptionStyleModel",
            "_view_count": null,
            "_view_module": "@jupyter-widgets/base",
            "_view_module_version": "1.2.0",
            "_view_name": "StyleView",
            "description_width": ""
          }
        }
      }
    }
  },
  "cells": [
    {
      "cell_type": "code",
      "execution_count": 1,
      "metadata": {
        "id": "EkUzqHDFeBmZ",
        "colab": {
          "base_uri": "https://localhost:8080/"
        },
        "outputId": "fecd10e9-4c00-4f37-e108-adfd04143125"
      },
      "outputs": [
        {
          "output_type": "stream",
          "name": "stdout",
          "text": [
            "\u001b[K     |████████████████████████████████| 4.2 MB 37.5 MB/s \n",
            "\u001b[K     |████████████████████████████████| 596 kB 54.4 MB/s \n",
            "\u001b[K     |████████████████████████████████| 86 kB 5.0 MB/s \n",
            "\u001b[K     |████████████████████████████████| 6.6 MB 54.3 MB/s \n",
            "\u001b[?25h"
          ]
        }
      ],
      "source": [
        "!pip install -q transformers"
      ]
    },
    {
      "cell_type": "code",
      "execution_count": 2,
      "metadata": {
        "id": "Tczoi4siSre1",
        "colab": {
          "base_uri": "https://localhost:8080/"
        },
        "outputId": "23b9186e-a522-4ac3-b443-2cbb2dfaad5e"
      },
      "outputs": [
        {
          "output_type": "stream",
          "name": "stdout",
          "text": [
            "\u001b[K     |████████████████████████████████| 346 kB 15.5 MB/s \n",
            "\u001b[K     |████████████████████████████████| 212 kB 46.3 MB/s \n",
            "\u001b[K     |████████████████████████████████| 86 kB 5.0 MB/s \n",
            "\u001b[K     |████████████████████████████████| 140 kB 58.5 MB/s \n",
            "\u001b[K     |████████████████████████████████| 1.1 MB 39.9 MB/s \n",
            "\u001b[K     |████████████████████████████████| 127 kB 57.7 MB/s \n",
            "\u001b[K     |████████████████████████████████| 94 kB 2.7 MB/s \n",
            "\u001b[K     |████████████████████████████████| 144 kB 41.6 MB/s \n",
            "\u001b[K     |████████████████████████████████| 271 kB 42.9 MB/s \n",
            "\u001b[31mERROR: pip's dependency resolver does not currently take into account all the packages that are installed. This behaviour is the source of the following dependency conflicts.\n",
            "datascience 0.10.6 requires folium==0.2.1, but you have folium 0.8.3 which is incompatible.\u001b[0m\n",
            "\u001b[?25h"
          ]
        }
      ],
      "source": [
        "!pip install -q datasets"
      ]
    },
    {
      "cell_type": "code",
      "execution_count": 3,
      "metadata": {
        "id": "Cpxi2dOb6cs1"
      },
      "outputs": [],
      "source": [
        "!pip install -q huggingface_hub"
      ]
    },
    {
      "cell_type": "code",
      "execution_count": 4,
      "metadata": {
        "id": "2A9Q0egiFVPY",
        "colab": {
          "base_uri": "https://localhost:8080/"
        },
        "outputId": "30084a20-a850-44af-bc55-d42343911533"
      },
      "outputs": [
        {
          "output_type": "stream",
          "name": "stdout",
          "text": [
            "\u001b[31mERROR: XMLRPC request failed [code: -32500]\n",
            "RuntimeError: PyPI's XMLRPC API is currently disabled due to unmanageable load and will be deprecated in the near future. See https://status.python.org/ for more information.\u001b[0m\n",
            "Looking in indexes: https://pypi.org/simple, https://us-python.pkg.dev/colab-wheels/public/simple/\n",
            "Collecting py-espeak-ng\n",
            "  Downloading py_espeak_ng-0.1.8-py2.py3-none-any.whl (6.3 kB)\n",
            "Installing collected packages: py-espeak-ng\n",
            "Successfully installed py-espeak-ng-0.1.8\n",
            "Reading package lists... Done\n",
            "Building dependency tree       \n",
            "Reading state information... Done\n",
            "The following package was automatically installed and is no longer required:\n",
            "  libnvidia-common-460\n",
            "Use 'sudo apt autoremove' to remove it.\n",
            "The following additional packages will be installed:\n",
            "  espeak-data libespeak1 libportaudio2 libsonic0\n",
            "The following NEW packages will be installed:\n",
            "  espeak-data libespeak1 libportaudio2 libsonic0 python-espeak\n",
            "0 upgraded, 5 newly installed, 0 to remove and 42 not upgraded.\n",
            "Need to get 1,166 kB of archives.\n",
            "After this operation, 2,859 kB of additional disk space will be used.\n",
            "Get:1 http://archive.ubuntu.com/ubuntu bionic/universe amd64 espeak-data amd64 1.48.04+dfsg-5 [934 kB]\n",
            "Get:2 http://archive.ubuntu.com/ubuntu bionic/universe amd64 libportaudio2 amd64 19.6.0-1 [64.6 kB]\n",
            "Get:3 http://archive.ubuntu.com/ubuntu bionic/main amd64 libsonic0 amd64 0.2.0-6 [13.4 kB]\n",
            "Get:4 http://archive.ubuntu.com/ubuntu bionic/universe amd64 libespeak1 amd64 1.48.04+dfsg-5 [145 kB]\n",
            "Get:5 http://archive.ubuntu.com/ubuntu bionic/universe amd64 python-espeak amd64 0.5-1build5 [8,932 B]\n",
            "Fetched 1,166 kB in 0s (8,581 kB/s)\n",
            "debconf: unable to initialize frontend: Dialog\n",
            "debconf: (No usable dialog-like program is installed, so the dialog based frontend cannot be used. at /usr/share/perl5/Debconf/FrontEnd/Dialog.pm line 76, <> line 5.)\n",
            "debconf: falling back to frontend: Readline\n",
            "debconf: unable to initialize frontend: Readline\n",
            "debconf: (This frontend requires a controlling tty.)\n",
            "debconf: falling back to frontend: Teletype\n",
            "dpkg-preconfigure: unable to re-open stdin: \n",
            "Selecting previously unselected package espeak-data:amd64.\n",
            "(Reading database ... 155629 files and directories currently installed.)\n",
            "Preparing to unpack .../espeak-data_1.48.04+dfsg-5_amd64.deb ...\n",
            "Unpacking espeak-data:amd64 (1.48.04+dfsg-5) ...\n",
            "Selecting previously unselected package libportaudio2:amd64.\n",
            "Preparing to unpack .../libportaudio2_19.6.0-1_amd64.deb ...\n",
            "Unpacking libportaudio2:amd64 (19.6.0-1) ...\n",
            "Selecting previously unselected package libsonic0:amd64.\n",
            "Preparing to unpack .../libsonic0_0.2.0-6_amd64.deb ...\n",
            "Unpacking libsonic0:amd64 (0.2.0-6) ...\n",
            "Selecting previously unselected package libespeak1:amd64.\n",
            "Preparing to unpack .../libespeak1_1.48.04+dfsg-5_amd64.deb ...\n",
            "Unpacking libespeak1:amd64 (1.48.04+dfsg-5) ...\n",
            "Selecting previously unselected package python-espeak.\n",
            "Preparing to unpack .../python-espeak_0.5-1build5_amd64.deb ...\n",
            "Unpacking python-espeak (0.5-1build5) ...\n",
            "Setting up libportaudio2:amd64 (19.6.0-1) ...\n",
            "Setting up espeak-data:amd64 (1.48.04+dfsg-5) ...\n",
            "Setting up libsonic0:amd64 (0.2.0-6) ...\n",
            "Setting up libespeak1:amd64 (1.48.04+dfsg-5) ...\n",
            "Setting up python-espeak (0.5-1build5) ...\n",
            "Processing triggers for libc-bin (2.27-3ubuntu1.3) ...\n",
            "/sbin/ldconfig.real: /usr/local/lib/python3.7/dist-packages/ideep4py/lib/libmkldnn.so.0 is not a symbolic link\n",
            "\n",
            "Get:1 http://security.ubuntu.com/ubuntu bionic-security InRelease [88.7 kB]\n",
            "Hit:2 http://archive.ubuntu.com/ubuntu bionic InRelease\n",
            "Get:3 http://archive.ubuntu.com/ubuntu bionic-updates InRelease [88.7 kB]\n",
            "Get:4 https://cloud.r-project.org/bin/linux/ubuntu bionic-cran40/ InRelease [3,626 B]\n",
            "Get:5 https://developer.download.nvidia.com/compute/cuda/repos/ubuntu1804/x86_64  InRelease [1,581 B]\n",
            "Get:6 http://archive.ubuntu.com/ubuntu bionic-backports InRelease [74.6 kB]\n",
            "Get:7 http://ppa.launchpad.net/c2d4u.team/c2d4u4.0+/ubuntu bionic InRelease [15.9 kB]\n",
            "Ign:8 https://developer.download.nvidia.com/compute/machine-learning/repos/ubuntu1804/x86_64  InRelease\n",
            "Hit:9 https://developer.download.nvidia.com/compute/machine-learning/repos/ubuntu1804/x86_64  Release\n",
            "Hit:10 http://ppa.launchpad.net/cran/libgit2/ubuntu bionic InRelease\n",
            "Get:11 http://ppa.launchpad.net/deadsnakes/ppa/ubuntu bionic InRelease [15.9 kB]\n",
            "Get:12 http://ppa.launchpad.net/graphics-drivers/ppa/ubuntu bionic InRelease [21.3 kB]\n",
            "Get:13 http://security.ubuntu.com/ubuntu bionic-security/main amd64 Packages [2,781 kB]\n",
            "Get:14 http://security.ubuntu.com/ubuntu bionic-security/multiverse amd64 Packages [22.8 kB]\n",
            "Get:15 http://security.ubuntu.com/ubuntu bionic-security/universe amd64 Packages [1,507 kB]\n",
            "Get:16 http://security.ubuntu.com/ubuntu bionic-security/restricted amd64 Packages [949 kB]\n",
            "Get:17 https://developer.download.nvidia.com/compute/cuda/repos/ubuntu1804/x86_64  Packages [787 kB]\n",
            "Get:18 http://archive.ubuntu.com/ubuntu bionic-updates/restricted amd64 Packages [986 kB]\n",
            "Get:19 http://archive.ubuntu.com/ubuntu bionic-updates/main amd64 Packages [3,221 kB]\n",
            "Get:20 http://archive.ubuntu.com/ubuntu bionic-updates/universe amd64 Packages [2,281 kB]\n",
            "Get:21 http://archive.ubuntu.com/ubuntu bionic-updates/multiverse amd64 Packages [29.8 kB]\n",
            "Get:22 http://ppa.launchpad.net/c2d4u.team/c2d4u4.0+/ubuntu bionic/main Sources [1,962 kB]\n",
            "Get:24 http://ppa.launchpad.net/deadsnakes/ppa/ubuntu bionic/main amd64 Packages [45.3 kB]\n",
            "Get:25 http://ppa.launchpad.net/graphics-drivers/ppa/ubuntu bionic/main amd64 Packages [44.3 kB]\n",
            "Fetched 14.9 MB in 6s (2,713 kB/s)\n",
            "Reading package lists... Done\n",
            "Reading package lists... Done\n",
            "Building dependency tree       \n",
            "Reading state information... Done\n",
            "The following package was automatically installed and is no longer required:\n",
            "  libnvidia-common-460\n",
            "Use 'sudo apt autoremove' to remove it.\n",
            "The following NEW packages will be installed:\n",
            "  espeak\n",
            "0 upgraded, 1 newly installed, 0 to remove and 56 not upgraded.\n",
            "Need to get 61.6 kB of archives.\n",
            "After this operation, 209 kB of additional disk space will be used.\n",
            "Get:1 http://archive.ubuntu.com/ubuntu bionic/universe amd64 espeak amd64 1.48.04+dfsg-5 [61.6 kB]\n",
            "Fetched 61.6 kB in 0s (1,045 kB/s)\n",
            "debconf: unable to initialize frontend: Dialog\n",
            "debconf: (No usable dialog-like program is installed, so the dialog based frontend cannot be used. at /usr/share/perl5/Debconf/FrontEnd/Dialog.pm line 76, <> line 1.)\n",
            "debconf: falling back to frontend: Readline\n",
            "debconf: unable to initialize frontend: Readline\n",
            "debconf: (This frontend requires a controlling tty.)\n",
            "debconf: falling back to frontend: Teletype\n",
            "dpkg-preconfigure: unable to re-open stdin: \n",
            "Selecting previously unselected package espeak.\n",
            "(Reading database ... 155936 files and directories currently installed.)\n",
            "Preparing to unpack .../espeak_1.48.04+dfsg-5_amd64.deb ...\n",
            "Unpacking espeak (1.48.04+dfsg-5) ...\n",
            "Setting up espeak (1.48.04+dfsg-5) ...\n",
            "Processing triggers for man-db (2.8.3-2ubuntu0.1) ...\n"
          ]
        }
      ],
      "source": [
        "!pip search espeak\n",
        "!pip install py-espeak-ng\n",
        "!sudo apt-get install python-espeak\n",
        "!sudo apt-get update && sudo apt-get install espeak"
      ]
    },
    {
      "cell_type": "code",
      "execution_count": 5,
      "metadata": {
        "id": "ut0JOrxtFYCY",
        "colab": {
          "base_uri": "https://localhost:8080/"
        },
        "outputId": "5cc569f0-7353-407b-dfff-5a09f957ff74"
      },
      "outputs": [
        {
          "output_type": "stream",
          "name": "stdout",
          "text": [
            "\u001b[K     |████████████████████████████████| 90 kB 6.7 MB/s \n",
            "\u001b[K     |████████████████████████████████| 197 kB 66.0 MB/s \n",
            "\u001b[K     |████████████████████████████████| 41 kB 408 kB/s \n",
            "\u001b[?25h"
          ]
        }
      ],
      "source": [
        "!pip install -q phonemizer"
      ]
    },
    {
      "cell_type": "code",
      "execution_count": 6,
      "metadata": {
        "id": "qbYMcvjBy6fb"
      },
      "outputs": [],
      "source": [
        "import soundfile as sf\n",
        "import json\n",
        "import torch\n",
        "import numpy as np\n",
        "import matplotlib.pyplot as plt\n",
        "import re\n",
        "import zipfile\n",
        "import pandas as pd\n",
        "import phonemizer\n",
        "import random\n",
        "import spacy\n",
        "import nltk\n",
        "from nltk.stem import WordNetLemmatizer\n",
        "from tqdm import tqdm\n",
        "from huggingface_hub import hf_hub_download\n",
        "from datasets import load_dataset\n",
        "from transformers import Wav2Vec2ForCTC, Wav2Vec2Processor, Wav2Vec2Tokenizer, Wav2Vec2Config\n",
        "from sklearn.linear_model import LogisticRegression\n",
        "from sklearn.model_selection import train_test_split\n",
        "from imblearn.under_sampling import RandomUnderSampler\n",
        "from collections import Counter, defaultdict\n",
        "from sklearn.metrics import accuracy_score"
      ]
    },
    {
      "cell_type": "code",
      "source": [
        "nltk.download('wordnet')"
      ],
      "metadata": {
        "colab": {
          "base_uri": "https://localhost:8080/"
        },
        "id": "_UHq-i3233Im",
        "outputId": "034ae754-01f1-420f-9b71-eb9e2a3e048c"
      },
      "execution_count": 7,
      "outputs": [
        {
          "output_type": "stream",
          "name": "stdout",
          "text": [
            "[nltk_data] Downloading package wordnet to /root/nltk_data...\n",
            "[nltk_data]   Unzipping corpora/wordnet.zip.\n"
          ]
        },
        {
          "output_type": "execute_result",
          "data": {
            "text/plain": [
              "True"
            ]
          },
          "metadata": {},
          "execution_count": 7
        }
      ]
    },
    {
      "cell_type": "code",
      "execution_count": 8,
      "metadata": {
        "id": "W59i3uDsqTfs",
        "colab": {
          "base_uri": "https://localhost:8080/",
          "height": 209,
          "referenced_widgets": [
            "ed945d88d5b34541a5b0fd5b1b21dee2",
            "9b8f733ac98e41dcb7c1a1706cc1519a",
            "283e516193194dbd8e81da7accd7a893",
            "d939c8c771db420fb5742f4b174e5762",
            "288b323c922c460bb279ca68a277a46d",
            "601f11cb827147618efd3788ebfb0bbe",
            "64fcb14be1c142aaa95a571b63e42b1c",
            "086596fbe8824c5ca25f23b7db59dbeb",
            "018aaca33cd1460d95e5fffa7ad6236a",
            "8c1566f045764cac9c3a5f4d25e1ff14",
            "10e2b66bc7dc4dc89f498baf40d6ceca",
            "5dcef8269864405f8e7f5af1f0f2b624",
            "ab826652e28449d3b5cd842c3393f6de",
            "fa1b5e9ce7ae4a779aa5351ac6d1a153",
            "e756f91d2ea448dfb329433b1d8b0807",
            "9697ec575d60498b858cc907b8c8f11a",
            "013fe0864deb4ef59d8f901b30ffa3e6",
            "c92377f28f64472ab4be61a44ae4f80e",
            "3c240d131e5145598496ea53f91f4411",
            "fd0a9347c1004c5eb878a50aa5e72b9a",
            "3b75487eea55401db6b7c72a35cb4689",
            "bb744b91f1e74b7aa8f075104d6784d7",
            "648a5a0ec9de4b3fac5340d6ebc1710d",
            "874f3eb468df4f599c2fd150c0e5594c",
            "247b5c45710547908825c9d44e7c41a7",
            "d6bbbd26bc7e4e4084500e2407c58c97",
            "4d8bfa9243c44a4b8b967b238ff1491e",
            "c0511848554d459b88833fb4d24b471e",
            "0521e41365b04501a4e8b35290264fee",
            "7ee45e4fdb3c49bf96fd5a0883c952cd",
            "831cc1a8318f4370a0ef1146bfe37a71",
            "ee9caa7bedd74da48e40abd3c2c876bd",
            "d03956a6a7d048d1912c3d4006d9ec65",
            "2f27c762068c490db78c076784296b9f",
            "08e73aa6c29848b5868d18a71c402eb1",
            "80cd1bd4754243cea4e355eb640fc46c",
            "1d021289950a41f292819a688a7ab585",
            "59073ca700b64865aa1cce474f1fda65",
            "afb9f39c0f8e47d2b3d294993605bdf2",
            "451113f62417439e80cce68cc66a3943",
            "943e994eda56469b8d5b529b4a580270",
            "6aa8761ae58d47688fc995981d1d80ed",
            "17b9eb12477442aaa8950b4a07665f34",
            "3582f7093d7c480caa10bc3f2a6c332f",
            "e2986dce48c047108400a144aa757fe2",
            "67521d60e9b24f55b776d244547befb9",
            "71e94ca5b1db4591825d688a9e114b40",
            "8c1e977fcc1e4f6d9021694ddc2302a9",
            "ae05111f55e1442abf97626d16b204f7",
            "279e31eb8dd641b1aa1e31b1811cef7c",
            "3d87843f667b43a0ae466f04c2e7a04e",
            "ce1bed46ba804f17835575a80250023b",
            "01b9ce29133042f0b4d5dadd33ab41c3",
            "baf76e1a36b44d38a96f96b42d6b5644",
            "eb36d6b02a0943189c1243efe2555f55",
            "6dfc539ef967444aa960b9b56d0abd93",
            "74249479aa094fb0aba9b5d2ea6f503d",
            "b4af18ca3dec427381f84bc59984c751",
            "ba563ffc76ca4549b161f777c5b018fe",
            "5304a6002e1447b687739572f008d485",
            "6f69bc0408d44ae385cc770aee3da1c4",
            "49cbc6ad198b4ab184ee50f32c313bf0",
            "736c21a3ae8c47d690376e25f5c3d419",
            "e903d51c6e6a4894a203129d9f5083c4",
            "61a86a6164f54d8aacffbf2eaa6c48b8",
            "36e3bc391c5743e49153fd8c4b6dae18"
          ]
        },
        "outputId": "8fe96903-82d9-4872-99bb-f1affcd8d2c5"
      },
      "outputs": [
        {
          "output_type": "display_data",
          "data": {
            "text/plain": [
              "Downloading:   0%|          | 0.00/1.81k [00:00<?, ?B/s]"
            ],
            "application/vnd.jupyter.widget-view+json": {
              "version_major": 2,
              "version_minor": 0,
              "model_id": "ed945d88d5b34541a5b0fd5b1b21dee2"
            }
          },
          "metadata": {}
        },
        {
          "output_type": "display_data",
          "data": {
            "text/plain": [
              "Downloading:   0%|          | 0.00/1.18G [00:00<?, ?B/s]"
            ],
            "application/vnd.jupyter.widget-view+json": {
              "version_major": 2,
              "version_minor": 0,
              "model_id": "5dcef8269864405f8e7f5af1f0f2b624"
            }
          },
          "metadata": {}
        },
        {
          "output_type": "display_data",
          "data": {
            "text/plain": [
              "Downloading:   0%|          | 0.00/212 [00:00<?, ?B/s]"
            ],
            "application/vnd.jupyter.widget-view+json": {
              "version_major": 2,
              "version_minor": 0,
              "model_id": "648a5a0ec9de4b3fac5340d6ebc1710d"
            }
          },
          "metadata": {}
        },
        {
          "output_type": "display_data",
          "data": {
            "text/plain": [
              "Downloading:   0%|          | 0.00/412 [00:00<?, ?B/s]"
            ],
            "application/vnd.jupyter.widget-view+json": {
              "version_major": 2,
              "version_minor": 0,
              "model_id": "2f27c762068c490db78c076784296b9f"
            }
          },
          "metadata": {}
        },
        {
          "output_type": "display_data",
          "data": {
            "text/plain": [
              "Downloading:   0%|          | 0.00/4.53k [00:00<?, ?B/s]"
            ],
            "application/vnd.jupyter.widget-view+json": {
              "version_major": 2,
              "version_minor": 0,
              "model_id": "e2986dce48c047108400a144aa757fe2"
            }
          },
          "metadata": {}
        },
        {
          "output_type": "display_data",
          "data": {
            "text/plain": [
              "Downloading:   0%|          | 0.00/85.0 [00:00<?, ?B/s]"
            ],
            "application/vnd.jupyter.widget-view+json": {
              "version_major": 2,
              "version_minor": 0,
              "model_id": "6dfc539ef967444aa960b9b56d0abd93"
            }
          },
          "metadata": {}
        }
      ],
      "source": [
        "config = Wav2Vec2Config.from_pretrained(\"facebook/wav2vec2-xlsr-53-espeak-cv-ft\", output_hidden_states=True)\n",
        "model = Wav2Vec2ForCTC.from_pretrained(\"facebook/wav2vec2-xlsr-53-espeak-cv-ft\", config=config)\n",
        "processor = Wav2Vec2Processor.from_pretrained(\"facebook/wav2vec2-xlsr-53-espeak-cv-ft\")"
      ]
    },
    {
      "cell_type": "markdown",
      "source": [
        "### Первый этап: сбор данных"
      ],
      "metadata": {
        "id": "D7myg3h6hsmP"
      }
    },
    {
      "cell_type": "markdown",
      "source": [
        "В датасете TIMIT для каждой аудиозаписи можно найти ещё три файла: \n",
        "- .phn - файл, в котором на каждой строке выписаны начало и конец произнесения звука и сам звук\n",
        "- .wrd - файл, в котором на каждой строке выписаны начало и конец произнесения слова и само слово\n",
        "- .wav - файл аудиозаписи"
      ],
      "metadata": {
        "id": "YLJh12KYiAXe"
      }
    },
    {
      "cell_type": "code",
      "source": [
        "# importing necessary modules\n",
        "import requests, zipfile\n",
        "from io import BytesIO\n",
        "print('Downloading started')\n",
        "\n",
        "#Defining the zip file URL\n",
        "url = 'https://data.deepai.org/timit.zip'\n",
        "\n",
        "# Split URL to get the file name\n",
        "filename = url.split('/')[-1]\n",
        "\n",
        "# Downloading the file by sending the request to the URL\n",
        "req = requests.get(url)\n",
        "print('Downloading Completed')\n",
        "\n",
        "# extracting the zip file contents\n",
        "my_zipfile= zipfile.ZipFile(BytesIO(req.content))\n",
        "#zipfile.extractall()"
      ],
      "metadata": {
        "id": "SahiUqNKelpB",
        "colab": {
          "base_uri": "https://localhost:8080/"
        },
        "outputId": "40b665d4-4c1d-4a39-b95e-47ee7557a81a"
      },
      "execution_count": 9,
      "outputs": [
        {
          "output_type": "stream",
          "name": "stdout",
          "text": [
            "Downloading started\n",
            "Downloading Completed\n"
          ]
        }
      ]
    },
    {
      "cell_type": "code",
      "source": [
        "needed_files = [file for file in my_zipfile.namelist() if file.endswith('.wav')]"
      ],
      "metadata": {
        "id": "tjBtFoVonPjA"
      },
      "execution_count": 10,
      "outputs": []
    },
    {
      "cell_type": "markdown",
      "source": [
        "В переменной *vocab* хранится словарь, где каждому звуку соответствует его индекс в векторе. Так как для дальнейшей работы удобнее сделать так, чтобы ключом был индекс, а значением звук, что сохранено в переменной *convenient_vocab*."
      ],
      "metadata": {
        "id": "LEjmDTQB0NOJ"
      }
    },
    {
      "cell_type": "code",
      "source": [
        "_file = hf_hub_download(repo_id=\"facebook/wav2vec2-xlsr-53-espeak-cv-ft\", filename=\"vocab.json\")\n",
        "with open(_file, 'r') as f:\n",
        "  vocab = json.loads(f.read())"
      ],
      "metadata": {
        "id": "96ePHllp83mW",
        "colab": {
          "base_uri": "https://localhost:8080/",
          "height": 49,
          "referenced_widgets": [
            "df32ea635800403bab767376bb5bb0cb",
            "6343002845fe42a59bc76aba85023c4c",
            "2c04c6e39d414452852c1460967dc01e",
            "669312b88b814a3593313159782b124d",
            "591bfe61edc74f7da40a9ce9b55f71a2",
            "4a955900aadf4e5482dd6faf2584a78c",
            "826292cbd5b44eeabe72a5ea65a1a153",
            "b8044a26933f4d58afd67766bebb47b3",
            "a475c7f69e744c0b946e20d62a909a3b",
            "08633c026c7e47f685fe07ad6d38802f",
            "640b38322280464aa1727877d6290600"
          ]
        },
        "outputId": "ced96ed9-3623-440a-e3e9-85f83626c1ef"
      },
      "execution_count": 11,
      "outputs": [
        {
          "output_type": "display_data",
          "data": {
            "text/plain": [
              "Downloading:   0%|          | 0.00/4.64k [00:00<?, ?B/s]"
            ],
            "application/vnd.jupyter.widget-view+json": {
              "version_major": 2,
              "version_minor": 0,
              "model_id": "df32ea635800403bab767376bb5bb0cb"
            }
          },
          "metadata": {}
        }
      ]
    },
    {
      "cell_type": "code",
      "execution_count": 12,
      "metadata": {
        "id": "aDR6ttar7tsC"
      },
      "outputs": [],
      "source": [
        "convenient_vocab = {}\n",
        "for k, v in vocab.items():\n",
        "  convenient_vocab[v] = k"
      ]
    },
    {
      "cell_type": "markdown",
      "source": [
        "Следующие две функции создают списки, в которых можно найти:\n",
        "1. Начало и конец звучания слова\n",
        "2. Само слово\n",
        "3. Следующее после него слово.\n",
        "\n",
        "Функция *find_s* ищет все слова, которые оканчиваются на букву *s*, не являющейся клитикой посессивности.\n",
        "\n",
        "Функция *find_t* ищет все слова, которые оканчиваются на -ed или имеют звук [t]."
      ],
      "metadata": {
        "id": "duvCCTu-h31q"
      }
    },
    {
      "cell_type": "code",
      "source": [
        "def find_phoneme(filename):\n",
        "  with my_zipfile.open(filename, 'r') as f:\n",
        "    lines = f.readlines()\n",
        "    phonemes_words = []\n",
        "    for i in range(len(lines)-1):\n",
        "      bgn, end, word = lines[i].split() \n",
        "      next_word = lines[i+1].split()[-1].decode(\"utf-8\")\n",
        "      bgn = int(bgn.decode(\"utf-8\"))\n",
        "      end = int(end.decode(\"utf-8\"))\n",
        "      word = word.decode(\"utf-8\")\n",
        "      if word.endswith('s') and \"'\" not in word:\n",
        "        phonemes_words.append([bgn, end, word, next_word])\n",
        "    return phonemes_words"
      ],
      "metadata": {
        "id": "g9o-faIqPCcY"
      },
      "execution_count": 13,
      "outputs": []
    },
    {
      "cell_type": "code",
      "source": [
        "def find_new_phoneme(filename):\n",
        "  with my_zipfile.open(filename, 'r') as f:\n",
        "    lines = f.readlines()\n",
        "    phonemes_words = []\n",
        "    for i in range(len(lines)-1):\n",
        "      bgn, end, word = lines[i].split()\n",
        "      next_word = lines[i+1].split()[-1].decode(\"utf-8\")\n",
        "      bgn = int(bgn.decode(\"utf-8\"))\n",
        "      end = int(end.decode(\"utf-8\"))\n",
        "      word = word.decode(\"utf-8\")\n",
        "      ind = word.find('t')\n",
        "      if ((ind != -1) and (ind != len(word)-1)) or (word.endswith('ed')):\n",
        "        phonemes_words.append([bgn, end, word, next_word])\n",
        "    return phonemes_words"
      ],
      "metadata": {
        "id": "p3eDpdyjm8CL"
      },
      "execution_count": 14,
      "outputs": []
    },
    {
      "cell_type": "markdown",
      "source": [
        "Следующие две ячейки собирают данные для каждого из тестов на фонемы. В каждом из них проверяется, чтобы не происходило частичных ассимиляций по звонкости.\n",
        "\n",
        "Для данных на фонемы /t/ и /d/ идёт проверка на то, чтобы в написании слова не встречались буквы s и t рядом, так как подобное сочетание часто прочитывается так, что влияет на реализацию [t]."
      ],
      "metadata": {
        "id": "iFtdomY9kTt_"
      }
    },
    {
      "cell_type": "code",
      "source": [
        "all_words_arrays = []\n",
        "for filename in tqdm(needed_files):\n",
        "  if '.wav' in filename:\n",
        "    with my_zipfile.open(filename) as f:\n",
        "      audio, sample_rate = sf.read(f)\n",
        "      audio = audio.astype(np.float64)\n",
        "      audio = audio / np.max(np.abs(audio))\n",
        "    wrd_file=filename.replace(\".WAV.wav\",\".WRD\")\n",
        "    wrd_sig=find_phoneme(wrd_file)\n",
        "    for word in wrd_sig:\n",
        "      if (word[3][0] in ['p', 't', 'h', 'c', 'f', 'k', 's']) and \\\n",
        "      (word[2][-2] in ['p', 't', 'h', 'c', 'f', 'k', 's', 'a', 'e', 'u', 'o', 'i']):\n",
        "        word_phoneme = {\n",
        "            word[2]: {\n",
        "                'audio': audio[word[0]:word[1]], \n",
        "                'sample_rate': sample_rate\n",
        "                }\n",
        "              }\n",
        "        all_words_arrays.append(word_phoneme)"
      ],
      "metadata": {
        "id": "Vg5mdfyrOkev",
        "colab": {
          "base_uri": "https://localhost:8080/"
        },
        "outputId": "6535c5f1-fe34-410f-df48-5dbc96e522c6"
      },
      "execution_count": 15,
      "outputs": [
        {
          "output_type": "stream",
          "name": "stderr",
          "text": [
            "100%|██████████| 6300/6300 [00:28<00:00, 223.73it/s]\n"
          ]
        }
      ]
    },
    {
      "cell_type": "code",
      "source": [
        "all_words_arrays_t = []\n",
        "for filename in tqdm(needed_files):\n",
        "  if '.wav' in filename:\n",
        "    with my_zipfile.open(filename) as f:\n",
        "      audio, sample_rate = sf.read(f)\n",
        "      audio = audio.astype(np.float64)\n",
        "      audio = audio / np.max(np.abs(audio))\n",
        "    wrd_file=filename.replace(\".WAV.wav\",\".WRD\")\n",
        "    wrd_sig=find_new_phoneme(wrd_file)\n",
        "    for word in wrd_sig:\n",
        "      ind = word[2].find('t')\n",
        "      if ind != -1:\n",
        "        if (word[2][ind-1] == 's' and ind != 0) or (word[2][ind+1] == 's'):\n",
        "          word_phoneme = {\n",
        "            word[2]: {\n",
        "                'audio': audio[word[0]:word[1]], \n",
        "                'sample_rate': sample_rate\n",
        "                }\n",
        "              }\n",
        "          all_words_arrays_t.append(word_phoneme)\n",
        "      if (word[2].endswith('ed')) and (word[2][-3] in ['p', 't', 'h', 'c', 'f', 'k', 's']):\n",
        "        word_phoneme = {\n",
        "            word[2]: {\n",
        "                'audio': audio[word[0]:word[1]], \n",
        "                'sample_rate': sample_rate\n",
        "                }\n",
        "              }\n",
        "        all_words_arrays_t.append(word_phoneme)"
      ],
      "metadata": {
        "colab": {
          "base_uri": "https://localhost:8080/"
        },
        "id": "dQWa75-CkxYZ",
        "outputId": "246b20b3-8e71-4085-96e4-a97fc1f7ff70"
      },
      "execution_count": 16,
      "outputs": [
        {
          "output_type": "stream",
          "name": "stderr",
          "text": [
            "100%|██████████| 6300/6300 [00:39<00:00, 158.49it/s]\n"
          ]
        }
      ]
    },
    {
      "cell_type": "markdown",
      "source": [
        "Функция *all_vectors* записывает вектора звуков, а также слова, в которых встретились нужные звуки. Переменная *testname* контролирует тест, для которого на данный момент собираются данные."
      ],
      "metadata": {
        "id": "k0HA-kFd0fiS"
      }
    },
    {
      "cell_type": "code",
      "source": [
        "def all_vectors(n, layer, predicted_ids, word, testname): #, next_word):\n",
        "  numpy_logits = layer[0].detach().numpy()\n",
        "  for i in range(len(predicted_ids[0])):\n",
        "    if predicted_ids[0][i] not in [1, 2, 3, 0]:\n",
        "      all_sound_vectors[testname][n][convenient_vocab[predicted_ids[0][i]]].append(numpy_logits[i])\n",
        "    if n == 0:\n",
        "      if testname == 'z':\n",
        "        if (convenient_vocab[predicted_ids[0][i]] == 's') or \\\n",
        "                    (convenient_vocab[predicted_ids[0][i]] == 'z'):\n",
        "          words[convenient_vocab[predicted_ids[0][i]]].append(word)\n",
        "    elif testname == 't':\n",
        "      if (convenient_vocab[predicted_ids[0][i]] == 't') or \\\n",
        "                  (convenient_vocab[predicted_ids[0][i]] == 'd'):\n",
        "        words_t[convenient_vocab[predicted_ids[0][i]]].append(word)"
      ],
      "metadata": {
        "id": "ZSVMKVL71Yo5"
      },
      "execution_count": 60,
      "outputs": []
    },
    {
      "cell_type": "code",
      "source": [
        "all_sound_vectors = {'z': [defaultdict(list) for i in range(26)], 't': [defaultdict(list) for i in range(26)]}\n",
        "all_near_sounds = defaultdict(list)\n",
        "words_t = {'t': [], 'd': []}\n",
        "words = {'z': [], 's': []}\n",
        "layers = []\n",
        "all_keys = []"
      ],
      "metadata": {
        "id": "TLoiLxzcPaR2"
      },
      "execution_count": 61,
      "outputs": []
    },
    {
      "cell_type": "code",
      "source": [
        "testname = 'z'  # 'z' or 't'\n",
        "for testname in ['t', 'z']:\n",
        "  if testname == 'z':\n",
        "    arrays = all_words_arrays\n",
        "  else:\n",
        "    arrays = all_words_arrays_t\n",
        "  for audio in tqdm(arrays):\n",
        "    key = list(audio.keys())[0]\n",
        "    all_keys.append(key)\n",
        "    audio_input = audio[key]['audio']\n",
        "    sample_rate = audio[key]['sample_rate']\n",
        "    input_values = processor(audio_input, \n",
        "                            sampling_rate=sample_rate, \n",
        "                            return_tensors=\"pt\").input_values\n",
        "    with torch.no_grad():\n",
        "      outputs = model(input_values.float())\n",
        "      logits = outputs.logits\n",
        "      hidden_states = outputs.hidden_states\n",
        "      layers.extend(hidden_states)\n",
        "      layers.append(logits)\n",
        "    predicted_ids = torch.argmax(logits, dim=-1).detach().numpy()\n",
        "    for n, layer in enumerate(layers):\n",
        "      all_vectors(n, layer, predicted_ids, key, testname)\n",
        "    layers = []"
      ],
      "metadata": {
        "colab": {
          "base_uri": "https://localhost:8080/"
        },
        "id": "dcYcsP9Lakdg",
        "outputId": "5913ae01-e71f-449c-b882-f5bf772be231"
      },
      "execution_count": 62,
      "outputs": [
        {
          "output_type": "stream",
          "name": "stderr",
          "text": [
            "100%|██████████| 1756/1756 [15:52<00:00,  1.84it/s]\n",
            "100%|██████████| 1196/1196 [08:50<00:00,  2.25it/s]\n"
          ]
        }
      ]
    },
    {
      "cell_type": "code",
      "source": [
        "nlp = spacy.load(\"en_core_web_sm\")"
      ],
      "metadata": {
        "id": "bQPkyDXK38zH"
      },
      "execution_count": 63,
      "outputs": []
    },
    {
      "cell_type": "markdown",
      "source": [
        "### Второй этап: обработка данных и тесты\n",
        "\n",
        "- *is_plural_wn* получает на вход слово и определяет часть речи и, если слово - существительное, число. Значение 'hello' используется для слов, которые не подходят для теста.\n",
        "\n",
        "- *is_past* получает на вход слово и определяет, является ли полученное слово глаголом в прошедшем времени.\n",
        "\n",
        "- *count_accuracy* получает на вход слова, вектора нужных звуков, которые входят в соответствующие слова и список звуков. Внутри функции создаётся таблица, где в каждоей строке есть вектор звука, слово и обозначение звука. Дальше применяется описанные функции и очищаются данные. После на этих данных считается метрика accuracy в двух случаях: на верных данных и на перемешанных."
      ],
      "metadata": {
        "id": "xFwonYjB4A51"
      }
    },
    {
      "cell_type": "code",
      "source": [
        "def is_plural_wn(noun):\n",
        "  word = nlp(noun)\n",
        "  mistakes = ['is', 'was', 'has', \n",
        "              'this', 'as', 'his', \n",
        "              'does', 'themselves', 'requires', \n",
        "              'contains']\n",
        "  if str(word[0]) in mistakes:\n",
        "    return 'hello'\n",
        "  if word[0].pos_ == 'NOUN':\n",
        "    wnl = WordNetLemmatizer()\n",
        "    lemma = wnl.lemmatize(noun, 'n')\n",
        "    plural = 1 if noun is not lemma else 0\n",
        "    return plural\n",
        "  else:\n",
        "     return 'hello'"
      ],
      "metadata": {
        "id": "utOiBDAVZ5_Z"
      },
      "execution_count": 64,
      "outputs": []
    },
    {
      "cell_type": "code",
      "source": [
        "def is_past(word):\n",
        "  nlp_word = nlp(word)\n",
        "  if nlp_word[0].pos_ == 'VERB':\n",
        "    wnl = WordNetLemmatizer()\n",
        "    lemma = wnl.lemmatize(word, 'v')\n",
        "    if word != lemma:\n",
        "      if word.endswith('ed'):\n",
        "        return 1\n",
        "    return 0\n",
        "  else:\n",
        "     return 0"
      ],
      "metadata": {
        "id": "If1XpDL6TBdi"
      },
      "execution_count": 65,
      "outputs": []
    },
    {
      "cell_type": "code",
      "source": [
        "def count_accuracy(words, emb, sounds, layer):\n",
        "  random.seed(333)\n",
        "  data = pd.DataFrame({'word': words, 'vector_emb': emb, 'sound': sounds})\n",
        "  if 's' in sounds:\n",
        "    func = is_plural_wn\n",
        "    data['is'] = data['word'].apply(func)\n",
        "    res = data[data['is']!='hello'].copy()\n",
        "    del_words = ['solves', 'tastes', 'celebrates', \n",
        "                 'misperceives', 'chases', 'decides', \n",
        "                 'involves', 'presumes', 'presents', \n",
        "                 'guarantees', 'sets', 'serves', \n",
        "                 'causes', 'increases', 'preserves', \n",
        "                 'slips', 'prints']\n",
        "    res = res[~res['word'].isin(del_words)]\n",
        "  elif 't' in sounds:\n",
        "    mistakes = ['mopped', 'slanted', 'squeaked', 'invoked', \n",
        "                'shocked', 'unfenced', 'crooked', 'uninterrupted', \n",
        "                'melted', 'pumped', 'engulfed', 'advanced', \n",
        "                'unabashed', 'addressed', 'tilted', 'chorused', 'polished']\n",
        "    func = is_past\n",
        "    data['is'] = data['word'].apply(func)\n",
        "    res = data.copy()\n",
        "    for m in mistakes:\n",
        "      res.loc[res['word']==m, 'is_past'] = 1\n",
        "  answers = [i for i in res['is'].tolist()]\n",
        "  random.shuffle(answers)\n",
        "\n",
        "  model_log = LogisticRegression(max_iter=10000)\n",
        "  X_train, X_test, y_train, y_test = train_test_split(\n",
        "                                      res['vector_emb'].tolist(), \n",
        "                                      res['is'].tolist(), \n",
        "                                      train_size = .8, \n",
        "                                      random_state=10)\n",
        "  under_sampler = RandomUnderSampler(random_state=42)\n",
        "  X_res, y_res = under_sampler.fit_resample(X_train, y_train)\n",
        "  model_log.fit(X_res, y_res)\n",
        "  score = model_log.score(X_test, y_test)\n",
        "  \n",
        "  model_rn = LogisticRegression(max_iter=10000)\n",
        "  X_train, X_test, y_train, y_test = train_test_split(\n",
        "                                      res['vector_emb'].tolist(), \n",
        "                                      answers, \n",
        "                                      train_size = .8, \n",
        "                                      random_state=10)\n",
        "  under_sampler = RandomUnderSampler(random_state=42)\n",
        "  X_res, y_res = under_sampler.fit_resample(X_train, y_train)\n",
        "  model_log.fit(X_res, y_res)\n",
        "  rn_score = model_log.score(X_test, y_test)\n",
        "\n",
        "  means = None\n",
        "  if layer == 25:\n",
        "    means = res.groupby('is')['vector_emb'].agg(np.mean).reset_index()\n",
        "\n",
        "  return score, rn_score, model_log.coef_[0], means"
      ],
      "metadata": {
        "id": "TG0-zg8OnSKX"
      },
      "execution_count": 66,
      "outputs": []
    },
    {
      "cell_type": "code",
      "source": [
        "scores = {'t': [], 'z': []}\n",
        "rn_scores = {'t': [], 'z': []}\n",
        "coefs = {'t': [], 'z': []}\n",
        "means = {'t': [], 'z': []}"
      ],
      "metadata": {
        "id": "oomVyZ6hFQSA"
      },
      "execution_count": 67,
      "outputs": []
    },
    {
      "cell_type": "code",
      "source": [
        "len(words_t['t']) / 25"
      ],
      "metadata": {
        "colab": {
          "base_uri": "https://localhost:8080/"
        },
        "id": "sZ_XB6p1lr7m",
        "outputId": "f2bb3bee-a26f-4c26-8d4b-7e8879085a9c"
      },
      "execution_count": 73,
      "outputs": [
        {
          "output_type": "execute_result",
          "data": {
            "text/plain": [
              "1474.0"
            ]
          },
          "metadata": {},
          "execution_count": 73
        }
      ]
    },
    {
      "cell_type": "code",
      "source": [
        "for testname in ['t', 'z']:\n",
        "  if testname == 't':\n",
        "    all_words = words_t['t'][:1474]\n",
        "    all_sounds = ['t']*len(all_words)\n",
        "  elif testname == 'z':\n",
        "    s_words = words['s']\n",
        "    z_words = words['z']\n",
        "    all_words = s_words + z_words\n",
        "    s_sounds = ['s']*len(s_words)\n",
        "    z_sounds = ['z']*len(z_words)\n",
        "    all_sounds = s_sounds + z_sounds\n",
        "  for i in tqdm(range(26)):\n",
        "    if testname == 't':\n",
        "      all_emb = all_sound_vectors[testname][i]['t']\n",
        "    elif testname == 'z':\n",
        "      all_emb = all_sound_vectors[testname][-1]['s'] + all_sound_vectors[testname][-1]['z']\n",
        "    score, rn_score, coef, mean = count_accuracy(all_words, all_emb, all_sounds, i)\n",
        "    scores[testname].append(score)\n",
        "    rn_scores[testname].append(rn_score)\n",
        "    coefs[testname].append(coef)\n",
        "    if mean:\n",
        "      means[testname].append(mean)"
      ],
      "metadata": {
        "colab": {
          "base_uri": "https://localhost:8080/"
        },
        "id": "_0cexKHpdxyq",
        "outputId": "eec6f375-0129-4157-cc16-d77defed93b5"
      },
      "execution_count": 76,
      "outputs": [
        {
          "output_type": "stream",
          "name": "stderr",
          "text": [
            "100%|██████████| 1/1 [00:21<00:00, 21.71s/it]\n",
            "100%|██████████| 1/1 [00:07<00:00,  7.46s/it]\n"
          ]
        }
      ]
    },
    {
      "cell_type": "code",
      "source": [
        "scores['t'] = scores['t'][:-1]"
      ],
      "metadata": {
        "id": "s4v8_XI3oS6v"
      },
      "execution_count": 80,
      "outputs": []
    },
    {
      "cell_type": "code",
      "source": [
        "mean"
      ],
      "metadata": {
        "id": "8Gq2qcs6obtA"
      },
      "execution_count": 83,
      "outputs": []
    },
    {
      "cell_type": "code",
      "source": [
        "means['t'].append(means)"
      ],
      "metadata": {
        "id": "D_OxGQ4jnx5J"
      },
      "execution_count": null,
      "outputs": []
    },
    {
      "cell_type": "markdown",
      "source": [
        "### Третий этап: визуализация\n",
        "\n",
        "Функция для изображения данных:\n",
        "\n",
        "- draw_coefs рисует графики наибольших по модулю коэффициентов модели.\n",
        "- draw_accuracy рисует график значений accuracy на каждом слое.\n"
      ],
      "metadata": {
        "id": "XPOvIvTf_Mvc"
      }
    },
    {
      "cell_type": "code",
      "source": [
        "def draw_coefs(coefs, testname):\n",
        "  '''\n",
        "  model -> используемая модель LogReg\n",
        "  testname -> название теста\n",
        "  '''\n",
        "  all_coefs = np.argsort(coefs)\n",
        "  need_coefs = all_coefs[:10].tolist() + all_coefs[-10:].tolist()\n",
        "  sounds = []\n",
        "  coefs = []\n",
        "  for coef in need_coefs:\n",
        "    sounds.append(convenient_vocab[coef])\n",
        "    coefs.append(model.coef_[0][coef])\n",
        "  plt.figure(figsize=(7, 5))\n",
        "  plt.bar(sounds, coefs)\n",
        "  plt.xlabel('Звуки')\n",
        "  plt.ylabel('Коэффициенты')\n",
        "  plt.title(f'Звуки с наибольшими и наименьшими коэффициентами\\nлогистической регрессии, тест: {testname}')"
      ],
      "metadata": {
        "id": "sVn82iaBJYvt"
      },
      "execution_count": 55,
      "outputs": []
    },
    {
      "cell_type": "code",
      "source": [
        "def draw_accuracy(dict_of_scores):\n",
        "  '''\n",
        "  dict_of_scores -> словарь, в котором ключом является тип перемешивания,\n",
        "  а значением список значений accuracy\n",
        "  '''\n",
        "  xs = [i for i in range(1, 27)]\n",
        "  for k, v in dict_of_scores.items():\n",
        "    plt.plot(xs, v, label=k)\n",
        "  plt.legend()\n",
        "  plt.title('Accuracy предсказания звонкости звука на каждом из слоёв')\n",
        "  plt.xlabel('Номер слоя')\n",
        "  plt.ylabel('Значение accuracy')"
      ],
      "metadata": {
        "id": "0CFgYR0AGxmH"
      },
      "execution_count": null,
      "outputs": []
    },
    {
      "cell_type": "code",
      "source": [
        "means = res.groupby('is_past')['vector_emb'].agg(np.mean).reset_index()"
      ],
      "metadata": {
        "id": "cI72WpBGvZ0v"
      },
      "execution_count": null,
      "outputs": []
    },
    {
      "cell_type": "code",
      "source": [
        "for i, row in means.iterrows():\n",
        "  sort_means = row['vector_emb'][needed_coefs]\n",
        "  print(sort_means)\n",
        "  #print([convenient_vocab[index] for index in sort_means[-1:-10:-1]])"
      ],
      "metadata": {
        "colab": {
          "base_uri": "https://localhost:8080/"
        },
        "id": "EEawN_wlgVri",
        "outputId": "6594c943-8208-4cee-b045-e2877ba334e9"
      },
      "execution_count": null,
      "outputs": [
        {
          "output_type": "stream",
          "name": "stdout",
          "text": [
            "[-1.1774392   0.82095844 -1.7124165  -2.8348618  -3.797132   -3.4806006\n",
            " -5.1169715  -2.9093437  -5.4074383  -2.3262134 ]\n",
            "[-0.8332333   0.83449155 -1.6074705  -2.795156   -3.9942548  -3.687091\n",
            " -5.1707253  -3.0722408  -5.489696   -2.1666198 ]\n"
          ]
        }
      ]
    },
    {
      "cell_type": "code",
      "source": [
        "s_and_z = {'s': [], 'z': []}\n",
        "for sound in ['s', 'z']:\n",
        "  s_and_z[sound] = all_sound_vectors[-1][sound]"
      ],
      "metadata": {
        "id": "FgSpkh8COUDo"
      },
      "execution_count": null,
      "outputs": []
    },
    {
      "cell_type": "code",
      "source": [
        "s = list(s_and_z.values())[0]\n",
        "z = list(s_and_z.values())[1]\n",
        "all_emb = s + z\n",
        "s_words = words['s']\n",
        "z_words = words['z']\n",
        "all_words = s_words + z_words\n",
        "s_sounds = ['s']*len(s_words)\n",
        "z_sounds = ['z']*len(z_words)\n",
        "s_z = s_sounds + z_sounds\n",
        "#s_next_words = next_words['s']\n",
        "#z_next_words = next_words['z']\n",
        "#all_next_words = s_next_words + z_next_words"
      ],
      "metadata": {
        "id": "FboL5XJPSOrZ"
      },
      "execution_count": null,
      "outputs": []
    }
  ]
}